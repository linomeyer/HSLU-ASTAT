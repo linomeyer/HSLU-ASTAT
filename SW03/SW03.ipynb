{
 "cells": [
  {
   "cell_type": "markdown",
   "id": "f8edfe32-7c29-46a2-939f-a0d3f4e6fa2b",
   "metadata": {},
   "source": [
    "# <span style=\"color:rgb(160,0,86)\">Datenvisualisierung mit Python</span>\n",
    "\n",
    "***"
   ]
  },
  {
   "cell_type": "markdown",
   "id": "efc2b411-5d0c-45cd-a36d-deb3a678be0e",
   "metadata": {},
   "source": [
    "## <span style=\"color:rgb(160,0,86)\">Lernziele</span>\n",
    "\n",
    "- Sie können mit Python die Verteilung nominaler, ordinaler und metrischer Daten **graphisch darstellen**.\n",
    "- Sie können Informationen aus **Kreisdiagrammen**, **Balkendiagrammen**, **Histogrammen** und **Boxplots** herauslesen.  \n",
    "\n",
    "***"
   ]
  },
  {
   "cell_type": "markdown",
   "id": "e1aeb5b2-eafa-4db1-b3d5-9b13de1f83fe",
   "metadata": {},
   "source": [
    "### <span style=\"color:rgb(160,0,86)\">Wie können wir die Verteilung von Daten graphisch darstellen?</span>\n",
    "\n",
    "Lagemasse und Streumasse fassen die Daten mit einem typischen Wert zusammen. Aber es ist auch wertvoll, die **gesamte Verteilung** der Daten zu untersuchen. \n",
    "- Die Verteilung *nominaler Merkmale* wird häufig in einem **Kreisdiagramm** dargestellt. Die relativen Häufigkeiten aller Werte des Merkmals werden proportional als Kreissektoren abgebiltet.  \n",
    "- Für *ordinale Markmale* ist ein **Balkendiagramm** besser geeignet, weil die natürliche Reihenfole der Werte von links nach rechts dargestellt werden kann. Die absoluten oder relativen Häufigkeiten der Werte werden proportional zur Höhe eines Balken abgebildet.   "
   ]
  },
  {
   "cell_type": "markdown",
   "id": "2e06298c-4330-47c3-8648-09690e76b5d3",
   "metadata": {},
   "source": [
    "#### <span style=\"color:rgb(160,0,86)\">Beispiel:</span>\n",
    "\n",
    "Wir betrachten wieder die 10 ehemaligen Studierenden:\n",
    "\n",
    "$$\\begin{bmatrix}\n",
    "\\text{Anna}&w&\\text{ausgezeichnet}&27\\\\\n",
    "\\text{Beat}&m&\\text{gut}&34\\\\\n",
    "\\text{Cary}&m&\\text{sehr gut}&29\\\\\n",
    "\\text{Dana}&w&\\text{sehr gut}&24\\\\\n",
    "\\text{Elif}&w&\\text{gut}&25\\\\\n",
    "\\text{Faro}&m&\\text{ausgezeichnet}&27\\\\\n",
    "\\text{Gabi}&w&\\text{sehr gut}&27\\\\\n",
    "\\text{Hans}&m&\\text{genügend}&69\\\\\n",
    "\\text{Ivea}&w&\\text{sehr gut}&26\\\\\n",
    "\\text{Jose}&w&\\text{gut}&31\n",
    "\\end{bmatrix}$$ \n",
    "Die Verteilung des nominalen Merkamls Geschlecht können wir mit einem **Kreisdiagramm** darstellen:"
   ]
  },
  {
   "cell_type": "code",
   "execution_count": null,
   "id": "ce3b7886-853b-4cf7-9507-926562af37fd",
   "metadata": {},
   "outputs": [],
   "source": [
    "namen = [\"Anna\",\"Beat\",\"Cary\",\"Dana\",\"Elif\",\"Faro\",\"Gabi\",\"Hans\",\"Ivea\",\"Jose\"]\n",
    "geschlecht = [\"w\",\"m\",\"m\",\"w\",\"w\",\"m\",\"w\",\"m\",\"w\",\"w\"]\n",
    "prädikat = [\"ausgezeichnet\",\"gut\",\"sehr gut\",\"sehr gut\",\"gut\",\"ausgezeichnet\",\"sehr gut\",\"genügend\",\"sehr gut\",\"gut\"]\n",
    "alter = [27,34,29,24,25,27,27,69,26,31]\n",
    "\n",
    "import numpy as np\n",
    "import pandas as pd\n",
    "df = pd.DataFrame({\"Name\":namen,\"Geschlecht\":geschlecht,\n",
    "                   \"Prädikat\":prädikat,\"Alter\":alter})\n",
    "\n",
    "werte,absH = np.unique(df[\"Geschlecht\"],return_counts=True)\n",
    "\n",
    "import matplotlib.pyplot as plt\n",
    "plt.pie(absH,labels=werte,startangle=90,autopct=\"%1.1f%%\")\n",
    "plt.show()"
   ]
  },
  {
   "cell_type": "markdown",
   "id": "1b0caa9b-a9ba-4ae1-8797-b3b55bd3ccc1",
   "metadata": {},
   "source": [
    "Die Verteilung des ordinalen Merkamls Prädikat können wir mit einem **Balkendiagramm** darstellen:"
   ]
  },
  {
   "cell_type": "code",
   "execution_count": null,
   "id": "98828d46-fc83-44a9-b957-85472d54916b",
   "metadata": {},
   "outputs": [],
   "source": [
    "import seaborn as sns\n",
    "sns.countplot(data=df,x=\"Prädikat\",\n",
    "              order=[\"genügend\",\"gut\",\"sehr gut\",\"ausgezeichnet\"])"
   ]
  },
  {
   "cell_type": "markdown",
   "id": "91552d0b-24cb-4c14-99a7-f3d2bcf0e477",
   "metadata": {},
   "source": [
    "Wie weit die Werte des Markmals **Prädikat** auseinander liegen, ist nicht relevant. Sie sind nur von *genügend* bis *ausgezeichnet* geordnet.\n",
    "- Die Abstände zwischen Werten eines *metrischen Merkmales* sind hingegen eindeutig gegeben. Oft haben metrische Merkmale auch viele verschiedene Werte, so dass ein Balkendiagramm die Charakteristik einer Verteilung nicht mehr sinnvoll abbildet. Daher unterteilen wir die Werte eines metrischen Merkmals in Abschitte, sogenannte **Klassen**, und bilden die absoluten oder relativen Häufigkeiten der Werte in diesen Klassen mit Rechtecken ab, deren Höhe proportional zu diesen Häufigkeiten ist. Wenn also Häufigkeiten über einer Unterteilung der Zahlenachse abgebildet werden, entsteht ein **Histogramm**:  "
   ]
  },
  {
   "cell_type": "code",
   "execution_count": null,
   "id": "02c90706-86c8-4615-9f44-95dbb64e0673",
   "metadata": {},
   "outputs": [],
   "source": [
    "fig = plt.figure(figsize=(10,3))\n",
    "ax1 = fig.add_subplot(1,2,1)\n",
    "ax1 = sns.histplot(data=df,x=\"Alter\",bins=2)\n",
    "ax2 = fig.add_subplot(1,2,2)\n",
    "ax2 = sns.histplot(data=df,x=\"Alter\",bins=30)\n",
    "plt.show()"
   ]
  },
  {
   "cell_type": "markdown",
   "id": "c5dd54e6-7f16-42ec-af3b-4849100adc7a",
   "metadata": {},
   "source": [
    "- In Histogrammen werden die Häufigkeiten der Klassen proportional zur Höhe der Rechtecke abgebildet. In **Dichtediagrammen** werden die relativen Häufgikeiten der Klassen proportional zur Fläche der Rechtecke abgebildet: "
   ]
  },
  {
   "cell_type": "code",
   "execution_count": null,
   "id": "613b267d-0eea-4d24-9093-e80d046f3098",
   "metadata": {},
   "outputs": [],
   "source": [
    "fig = plt.figure(figsize=(10,3))\n",
    "ax1 = fig.add_subplot(1,2,1)\n",
    "ax1 = sns.histplot(data=df,x=\"Alter\",bins=2,stat=\"density\")\n",
    "ax2 = fig.add_subplot(1,2,2)\n",
    "klassen = np.arange(23,70)\n",
    "ax2 = sns.histplot(data=df,x=\"Alter\",bins=klassen,stat=\"density\")\n",
    "plt.show()"
   ]
  },
  {
   "cell_type": "markdown",
   "id": "49abf466-4749-4b92-aa5b-e78f29c4527c",
   "metadata": {},
   "source": [
    "Ein Histogramm oder Dichtediagramm heisst:\n",
    "- **symmetrisch**, wenn die meisten Daten um den Mittelwert liegen und ungefähr die hälfte der Daten unter beziehungsweise über dieser mittleren Lage sind.\n",
    "- **linksschief**, wenn die Daten weiter nach links abfallen. Es gibt also auf der linken Seiten extreme Werte.\n",
    "- **rechtsschief**, wenn die Daten weiter nach rechts abfallen. Es gibt also auf der rechten Seiten extreme Werte.\n",
    "\n",
    "Um die Lage der Daten und die Symmetrie eines metrischen Merkmals graphsich darzustellen, können wir einen sogenannten **Blox-Plot** zeichen:\n",
    "- mit einem Rechteck, dessen Höhe dem Quartilsabstand $Q$ enspricht\n",
    "- der Median $x_{50}$ unterteil das Rechteck in zwei Teile\n",
    "- unten und oben wird mit einem *Whisker* der kleinest beziehungsweise der grösste noch normale Wert angegeben. Wert, die $1.5Q$-mal weiter vom unteren beziehungsweise vom oberen Quartil enfernt sind, heissen **Ausreisser** und sind nicht mehr innerhalb der beiden Whisker. Solche extreme Werte werden im Box-Plot mit einzelnen Punkten abgebildet.   "
   ]
  },
  {
   "cell_type": "code",
   "execution_count": null,
   "id": "398473ba-b341-4ea2-b905-40b3da163637",
   "metadata": {},
   "outputs": [],
   "source": [
    "import seaborn as sns\n",
    "fig, ax = plt.subplots()\n",
    "ax.axhline(30.5+1.5*(30.5-26), color=\"red\",alpha=0.3)\n",
    "ax.axhline(26-1.5*(30.5-26), color=\"red\",alpha=0.3)\n",
    "ax.axhline(30.5, color=\"red\",alpha=0.3, dashes=(2,2))\n",
    "ax.axhline(27, color=\"blue\",alpha=0.3, dashes=(2,2))\n",
    "ax.axhline(26, color=\"red\",alpha = 0.3, dashes=(2,2))\n",
    "ax = sns.boxplot(y=\"Alter\",data=df,width=0.15,\n",
    "                 color=\"0.7\",flierprops={\"marker\":\"x\"})\n",
    "#ax = sns.swarmplot(y=\"Alter\",data=df)\n",
    "#ax = sns.stripplot(y=\"Alter\",data=df,color=\"red\")\n"
   ]
  },
  {
   "cell_type": "markdown",
   "id": "edeb6bb7-3540-4474-8c59-b1eee585b880",
   "metadata": {},
   "source": [
    "#### <span style=\"color:rgb(160,0,86)\">Beispiel für einen Regenwolken-Plot:</span>"
   ]
  },
  {
   "cell_type": "code",
   "execution_count": null,
   "id": "24b52b2f-a937-461f-a9df-053fba787600",
   "metadata": {},
   "outputs": [],
   "source": [
    "# pip install palmerpenguins\n",
    "from palmerpenguins import load_penguins\n",
    "penguins = load_penguins()\n",
    "penguins.head()"
   ]
  },
  {
   "cell_type": "code",
   "execution_count": null,
   "id": "9f3852f4-4b2f-4efa-b316-fbf373954ae5",
   "metadata": {},
   "outputs": [],
   "source": [
    "penguins = load_penguins().dropna()\n",
    "penguins.head()"
   ]
  },
  {
   "cell_type": "code",
   "execution_count": null,
   "id": "6fe5406f-f950-429b-b2a2-d7c6ccfbc3ef",
   "metadata": {},
   "outputs": [],
   "source": [
    "import matplotlib.pyplot as plt\n",
    "import numpy as np\n",
    "import ptitprince as pt  # für den rainplot\n",
    "\n",
    "fig, ax = plt.subplots()\n",
    "ax = pt.RainCloud(x=\"species\", y=\"flipper_length_mm\", data=penguins, ax=ax)\n",
    "ax.set(xlabel='Spezies', ylabel='Flossenlänge', title='Palmers Pinguine')\n",
    "plt.show()"
   ]
  },
  {
   "cell_type": "code",
   "execution_count": null,
   "id": "15519874-2bff-4bf3-8b47-e49d1fb353c6",
   "metadata": {},
   "outputs": [],
   "source": [
    "import pandas as pd\n",
    "gla_cities = pd.read_csv(\"Daten/GLA_World_Cities_2016.csv\")\n",
    "gla_cities[\"Population\"] = \\\n",
    "gla_cities[\"Population\"].str.replace(\",\",\"\").astype(float)\n",
    "gla_cities.head(3)"
   ]
  },
  {
   "cell_type": "code",
   "execution_count": null,
   "id": "e810b5e3-33bd-471a-8fc3-b1aa6ede4c57",
   "metadata": {},
   "outputs": [],
   "source": [
    "pop = gla_cities.groupby(\"Country\")[[\"Population\"]].sum()\n",
    "pop.plot(y=\"Population\",kind=\"barh\",rot=45,color=\"gray\",edgecolor=\"black\")\n",
    "ax.set_xlabel(\"County\")\n",
    "ax.set_ylabel(\"Population for the Cities in the dataset\")"
   ]
  },
  {
   "cell_type": "code",
   "execution_count": null,
   "id": "3f7359de-2640-4d5e-98c6-d1b4ab0fa38f",
   "metadata": {},
   "outputs": [],
   "source": [
    "def city_size(x):\n",
    "    if x < 1.5:\n",
    "        s = \"Small\"\n",
    "    elif 1.5 <= x < 3:\n",
    "        s = \"Medium\"\n",
    "    elif 3 <= x < 5:\n",
    "        s = \"Large\"\n",
    "    else:\n",
    "        s = \"Mega\"\n",
    "    return s\n",
    "gla_cities[\"Population (M)\"] = gla_cities[\"Population\"]/1000000\n",
    "gla_cities[\"City Size\"] = gla_cities[\"Population (M)\"].apply(city_size)\n",
    "sns.barplot(data=gla_cities,x=\"Population (M)\",y=\"Country\",hue=\"City Size\",ci=None,estimator=sum)"
   ]
  },
  {
   "cell_type": "markdown",
   "id": "a8daca1a-9c4b-455c-a814-e6048778edb1",
   "metadata": {},
   "source": [
    "#### <span style=\"color:rgb(160,0,86)\">Weitere interessante Möglichkeiten mit Python:</span>\n",
    "- https://matplotlib.org/stable/gallery/index.html\n",
    "- https://seaborn.pydata.org/"
   ]
  },
  {
   "cell_type": "markdown",
   "id": "f1b22231-13dc-49cd-836a-fdaf5021da43",
   "metadata": {},
   "source": [
    "### <span style=\"color:rgb(160,0,86)\">Aufgabe 1</span>\n",
    "\n",
    "Laden Sie die Daten *2021_Personalerhebung.csv* und zeichnen Sie für alle Merkmale passende Diagramme, die die Verteilung der Daten abbilden."
   ]
  },
  {
   "cell_type": "code",
   "execution_count": null,
   "id": "1528b131-f566-4002-8800-84d6d65c5dea",
   "metadata": {},
   "outputs": [],
   "source": [
    "# To do!"
   ]
  },
  {
   "cell_type": "markdown",
   "id": "ed1b2e3c-3f43-4547-ad7f-a38bb32e27ef",
   "metadata": {},
   "source": [
    "### <span style=\"color:rgb(160,0,86)\">Aufgabe 2</span>\n",
    "\n",
    "Laden Sie die Daten *Gesundheitskosten.csv* und zeichnen Sie für alle Merkmale passende Diagramme, die die Verteilung der Daten abbilden."
   ]
  },
  {
   "cell_type": "code",
   "execution_count": null,
   "id": "51bf0f43-9118-4e1e-bd06-15ffa32948c7",
   "metadata": {},
   "outputs": [],
   "source": [
    "# To do!"
   ]
  },
  {
   "cell_type": "markdown",
   "id": "97f04709-f782-4989-945f-173591248207",
   "metadata": {},
   "source": [
    "### <span style=\"color:rgb(160,0,86)\">Aufgabe 3</span>\n",
    "\n",
    "Laden Sie die Daten *2022_Mathematik 1 WiSo Urliste* und zeichnen Sie für die Punkteverteilung der Aufgaben passende Diagramme. \n",
    "\n",
    "Bestimmen Sie gemäss der Formel $$\\frac{\\text{Erreichte Anzahl Punkte}}{\\text{maximale Anzahl Punkte}}\\cdot 5 + 1$$ für alle Studierende die Note und stellen Sie die Verteilung der Noten graphisch dar. Bestimmen Sie auch passende Lage- und Streumasse für die Noten."
   ]
  },
  {
   "cell_type": "code",
   "execution_count": null,
   "id": "e066a3b6",
   "metadata": {},
   "outputs": [],
   "source": [
    "# To do!"
   ]
  },
  {
   "cell_type": "markdown",
   "id": "afc58872-4e9b-44ca-97e9-2b7c5f4e62f7",
   "metadata": {},
   "source": [
    "![HSLU](Bilder/LogoHSLU.png)"
   ]
  }
 ],
 "metadata": {
  "kernelspec": {
   "display_name": "Python 3 (ipykernel)",
   "language": "python",
   "name": "python3"
  },
  "language_info": {
   "codemirror_mode": {
    "name": "ipython",
    "version": 3
   },
   "file_extension": ".py",
   "mimetype": "text/x-python",
   "name": "python",
   "nbconvert_exporter": "python",
   "pygments_lexer": "ipython3",
   "version": "3.10.6"
  }
 },
 "nbformat": 4,
 "nbformat_minor": 5
}
