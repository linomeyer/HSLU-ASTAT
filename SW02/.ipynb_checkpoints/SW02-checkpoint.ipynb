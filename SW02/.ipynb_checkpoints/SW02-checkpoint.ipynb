{
 "cells": [
  {
   "cell_type": "markdown",
   "id": "f8edfe32-7c29-46a2-939f-a0d3f4e6fa2b",
   "metadata": {},
   "source": [
    "# <span style=\"color:rgb(160,0,86)\">Datenmanipulation mit Python</span>\n",
    "\n",
    "***"
   ]
  },
  {
   "cell_type": "markdown",
   "id": "efc2b411-5d0c-45cd-a36d-deb3a678be0e",
   "metadata": {},
   "source": [
    "## <span style=\"color:rgb(160,0,86)\">Lernziele</span>\n",
    "\n",
    "- Sie wissen was eine statistische Einheit ist und können ihre Merkmale bezüglich ihrer Ausprägungen unterscheiden.\n",
    "- Sie kennen die Python Module *numpy* und *pandas*.  \n",
    "- Sie können Daten laden und einfache Operationen ausführen.  \n",
    "\n",
    "***"
   ]
  },
  {
   "cell_type": "markdown",
   "id": "e1aeb5b2-eafa-4db1-b3d5-9b13de1f83fe",
   "metadata": {},
   "source": [
    "### <span style=\"color:rgb(160,0,86)\">Was ist eine statistische Einheit?</span>\n",
    "\n",
    "- Eine **statistische Einheit** ist Träger von Informationen und Eigenschaften, die für eine statistische Untersuchung von Interesse ist.\n",
    "- Eine Eigenschaft einer statistischen Einheit, die von Interesse ist, heisst **statistisches Merkmal**.  "
   ]
  },
  {
   "cell_type": "markdown",
   "id": "2e06298c-4330-47c3-8648-09690e76b5d3",
   "metadata": {},
   "source": [
    "#### <span style=\"color:rgb(160,0,86)\">Beispiele:</span>\n",
    "\n",
    "- In einer Notenstatistik für das Modul ASTAT ist jede Studentin und jeder Student des Moduls eine statistische Einheit. Das statistische Merkmal ist die Abschlussnote an der MEP.\n",
    "- In einer schweizer Unfallstatistik im Jahr 2024 ist jeder Verkehrsunfall auf schweizer Strassen in diesem Jahr eine statistische Einheit. Statistische Merkmale können zum Beispiel Anzahl Todesopfer, Unfallkosten, Unfallstelle etc. sein.\n",
    "\n",
    "***"
   ]
  },
  {
   "cell_type": "markdown",
   "id": "87a56651-f044-45ad-a333-32eeb46b4cd5",
   "metadata": {},
   "source": [
    "### <span style=\"color:rgb(160,0,86)\">Welche Typen von Merkmalen gibt es?</span>\n",
    "\n",
    "- **Nominale Merkmale**: Die Ausprägungen des Merkmals können lediglich auf *Gleichheit* ($=$) oder *Ungleichheit* ($\\neq$) untersucht werden. <br> Zum Beispiel das Geschlecht, die Nationalität oder der Beruf einer Person.\n",
    "- **Ordinale Merkmale**: Die Ausprägungen des Merkmals haben zu der *Gleichheit* und *Ungleichheit* eine natürliche *Reihenfolge* ($>$, $<$). <br> Zum Beispiel das Gesamtprädikat eines Hochschulabschlusses mit den Auspägungen *ungenügend*, *genügend*, *befriedigend*, *gut*, *sehr gut* und *ausgezeichnet*. \n",
    "- **Metrische Merkmale**: Die Ausprägungen des Merkmals sind Zahlen. Neben dem Betrachen von *Gleichheit*, *Ungleichheit* und *Reihenfolge* kann mit diesen Ausprägungen auch *gerechnet* werden ($+\\;$, $\\,-\\;$, $\\,\\cdot\\;$, $\\,/\\;$ usw.). <br> Zum Beispiel die Temperatur (beliebige reelle Zahlen), der Umsatz (gerundete nicht negative reelle Zahlen), die Anzahl Mausklicks (nicht negative ganze Zahlen).\n"
   ]
  },
  {
   "cell_type": "markdown",
   "id": "06772c2d-197f-487b-b28c-c463e098ef17",
   "metadata": {},
   "source": [
    "### <span style=\"color:rgb(160,0,86)\">Wie werden statistische Einheiten zusammengefasst?</span>\n",
    "\n",
    "Häufig werden statistische Einheiten mit ihren Merkmalen in einem rechteckigen Schema (einer Matrix, einer Tabelle) zusammengefasst. Die Einheiten werden über die Zeilen und ihre Merkmale in den Spalten erfasst. Zum Beispiel: \n",
    "\n",
    "$$\\begin{bmatrix}\n",
    "\\text{Anna}&1981&w&176\\\\\n",
    "\\text{Beat}&2005&m&181\\\\\n",
    "\\text{Cary}&2011& &169\\\\\n",
    "\\text{Dana}&1991&w&165\\\\\n",
    "\\text{Edin}&1964&m&194\n",
    "\\end{bmatrix}$$\n"
   ]
  },
  {
   "cell_type": "markdown",
   "id": "d99f2aef-e919-408b-89ad-d0973cde4d82",
   "metadata": {},
   "source": [
    "### <span style=\"color:rgb(160,0,86)\">Sind Listen in Python eine passende Datenstruktur?</span>\n"
   ]
  },
  {
   "cell_type": "code",
   "execution_count": 3,
   "id": "4fc8ab8f-15b2-4571-948c-67aa5939c151",
   "metadata": {},
   "outputs": [],
   "source": [
    "Person_1 = [5.0,5.0,5.5]\n",
    "Person_2 = [4.5,4.0,4.5]"
   ]
  },
  {
   "cell_type": "code",
   "execution_count": 4,
   "id": "4589122a-3fec-4974-b6a6-a186d6194896",
   "metadata": {},
   "outputs": [
    {
     "data": {
      "text/plain": [
       "[5.0, 5.0, 5.5, 4.5, 4.0, 4.5]"
      ]
     },
     "execution_count": 4,
     "metadata": {},
     "output_type": "execute_result"
    }
   ],
   "source": [
    "Person_1 + Person_2"
   ]
  },
  {
   "cell_type": "code",
   "execution_count": 5,
   "id": "1d106b47-0c19-42d5-84bc-b56a3ec0f9d0",
   "metadata": {},
   "outputs": [
    {
     "ename": "TypeError",
     "evalue": "can't multiply sequence by non-int of type 'list'",
     "output_type": "error",
     "traceback": [
      "\u001b[1;31m-------------------------------------------------------------------------\u001b[0m",
      "\u001b[1;31mTypeError\u001b[0m                               Traceback (most recent call last)",
      "Cell \u001b[1;32mIn[5], line 1\u001b[0m\n\u001b[1;32m----> 1\u001b[0m \u001b[43mPerson_1\u001b[49m\u001b[43m \u001b[49m\u001b[38;5;241;43m*\u001b[39;49m\u001b[43m \u001b[49m\u001b[43mPerson_2\u001b[49m\n",
      "\u001b[1;31mTypeError\u001b[0m: can't multiply sequence by non-int of type 'list'"
     ]
    }
   ],
   "source": [
    "Person_1 * Person_2"
   ]
  },
  {
   "cell_type": "markdown",
   "id": "5dcaaca9-cf42-4a79-9920-c07558e92293",
   "metadata": {},
   "source": [
    "Nein, mit **NumPy** (Numerical Python) geht das besser! Das NumPy-Modul bietet eine Sammlung mathematischer Operationen für mehrdimensionale Arrays.\n"
   ]
  },
  {
   "cell_type": "code",
   "execution_count": 6,
   "id": "9f4e8b06-e218-415b-b42b-d94ec8df8392",
   "metadata": {},
   "outputs": [],
   "source": [
    "import numpy as np\n",
    "P_1 = np.array(Person_1)\n",
    "P_2 = np.array(Person_2)"
   ]
  },
  {
   "cell_type": "code",
   "execution_count": 9,
   "id": "ca29065f-f901-4acb-8e89-d1a363fc9a4e",
   "metadata": {},
   "outputs": [
    {
     "data": {
      "text/plain": [
       "array([4.75, 4.5 , 5.  ])"
      ]
     },
     "execution_count": 9,
     "metadata": {},
     "output_type": "execute_result"
    }
   ],
   "source": [
    "(P_1 + P_2)/2"
   ]
  },
  {
   "cell_type": "code",
   "execution_count": 10,
   "id": "0645359f-a194-4da8-ac40-8dda0eb72197",
   "metadata": {},
   "outputs": [
    {
     "data": {
      "text/plain": [
       "array([[5. , 5. , 5.5],\n",
       "       [4.5, 4. , 4.5]])"
      ]
     },
     "execution_count": 10,
     "metadata": {},
     "output_type": "execute_result"
    }
   ],
   "source": [
    "Noten = np.array([P_1,P_2])\n",
    "Noten"
   ]
  },
  {
   "cell_type": "code",
   "execution_count": 11,
   "id": "fc4526e4-5206-4ce6-acf5-5f48a3f090c3",
   "metadata": {},
   "outputs": [
    {
     "data": {
      "text/plain": [
       "(2, 3)"
      ]
     },
     "execution_count": 11,
     "metadata": {},
     "output_type": "execute_result"
    }
   ],
   "source": [
    "Noten.shape"
   ]
  },
  {
   "cell_type": "code",
   "execution_count": 12,
   "id": "57c9db04-7147-40f1-b6de-d316c0151185",
   "metadata": {},
   "outputs": [
    {
     "data": {
      "text/plain": [
       "dtype('float64')"
      ]
     },
     "execution_count": 12,
     "metadata": {},
     "output_type": "execute_result"
    }
   ],
   "source": [
    "Noten.dtype"
   ]
  },
  {
   "cell_type": "code",
   "execution_count": 15,
   "id": "b2b2eed1-9498-4ab0-9199-ae5379a51f81",
   "metadata": {},
   "outputs": [
    {
     "data": {
      "text/plain": [
       "5.5"
      ]
     },
     "execution_count": 15,
     "metadata": {},
     "output_type": "execute_result"
    }
   ],
   "source": [
    "Noten[0,2]"
   ]
  },
  {
   "cell_type": "code",
   "execution_count": 16,
   "id": "dd649359-1940-4912-bc07-651a38a7732d",
   "metadata": {},
   "outputs": [
    {
     "data": {
      "text/plain": [
       "array([4.5, 4. , 4.5])"
      ]
     },
     "execution_count": 16,
     "metadata": {},
     "output_type": "execute_result"
    }
   ],
   "source": [
    "Noten[1,:]"
   ]
  },
  {
   "cell_type": "code",
   "execution_count": 17,
   "id": "840ef981-a3af-4e77-9e87-2c4c7f90805a",
   "metadata": {},
   "outputs": [
    {
     "data": {
      "text/plain": [
       "array([5.5, 4.5])"
      ]
     },
     "execution_count": 17,
     "metadata": {},
     "output_type": "execute_result"
    }
   ],
   "source": [
    "Noten[:,2]"
   ]
  },
  {
   "cell_type": "code",
   "execution_count": 18,
   "id": "e3119b38-6357-4330-8bd8-4b17f5b61c03",
   "metadata": {},
   "outputs": [
    {
     "data": {
      "text/plain": [
       "array([[5. , 5.5],\n",
       "       [4. , 4.5]])"
      ]
     },
     "execution_count": 18,
     "metadata": {},
     "output_type": "execute_result"
    }
   ],
   "source": [
    "Noten[0:2,1:3]"
   ]
  },
  {
   "cell_type": "code",
   "execution_count": 19,
   "id": "0477efff-95bd-4360-8c77-9b592bb1d0af",
   "metadata": {},
   "outputs": [
    {
     "data": {
      "text/plain": [
       "5.5"
      ]
     },
     "execution_count": 19,
     "metadata": {},
     "output_type": "execute_result"
    }
   ],
   "source": [
    "Noten[0,:].max()"
   ]
  },
  {
   "cell_type": "code",
   "execution_count": 20,
   "id": "2d09da90-42a8-4a02-b9a0-daab0562888e",
   "metadata": {},
   "outputs": [
    {
     "data": {
      "text/plain": [
       "4.5"
      ]
     },
     "execution_count": 20,
     "metadata": {},
     "output_type": "execute_result"
    }
   ],
   "source": [
    "Noten[:,2].min()"
   ]
  },
  {
   "cell_type": "code",
   "execution_count": 21,
   "id": "773ba1fb-a64f-4b1d-83ea-7532249aebf7",
   "metadata": {},
   "outputs": [
    {
     "data": {
      "text/plain": [
       "13.0"
      ]
     },
     "execution_count": 21,
     "metadata": {},
     "output_type": "execute_result"
    }
   ],
   "source": [
    "Noten[1,:].sum()"
   ]
  },
  {
   "cell_type": "code",
   "execution_count": 22,
   "id": "abd64751-7d1d-4fd5-ba4a-89f77334d991",
   "metadata": {},
   "outputs": [
    {
     "data": {
      "text/plain": [
       "28.5"
      ]
     },
     "execution_count": 22,
     "metadata": {},
     "output_type": "execute_result"
    }
   ],
   "source": [
    "Noten.sum()"
   ]
  },
  {
   "cell_type": "code",
   "execution_count": 23,
   "id": "7ccf0549-00d3-4b9d-b2cd-f497b6a9c6d1",
   "metadata": {},
   "outputs": [
    {
     "data": {
      "text/plain": [
       "array([ 9.5,  9. , 10. ])"
      ]
     },
     "execution_count": 23,
     "metadata": {},
     "output_type": "execute_result"
    }
   ],
   "source": [
    "Noten.sum(axis=0)"
   ]
  },
  {
   "cell_type": "code",
   "execution_count": 24,
   "id": "600684dd-6882-43c1-a5f0-cad27fe4beaf",
   "metadata": {},
   "outputs": [
    {
     "data": {
      "text/plain": [
       "array([15.5, 13. ])"
      ]
     },
     "execution_count": 24,
     "metadata": {},
     "output_type": "execute_result"
    }
   ],
   "source": [
    "Noten.sum(axis=1)"
   ]
  },
  {
   "cell_type": "code",
   "execution_count": 25,
   "id": "1263ef0d-fb89-4d9d-9337-d084cefcb819",
   "metadata": {},
   "outputs": [
    {
     "data": {
      "text/plain": [
       "4.75"
      ]
     },
     "execution_count": 25,
     "metadata": {},
     "output_type": "execute_result"
    }
   ],
   "source": [
    "Noten.mean()"
   ]
  },
  {
   "cell_type": "code",
   "execution_count": 26,
   "id": "0edc5627-fc1a-4bc5-80d2-cabcfe6122f8",
   "metadata": {},
   "outputs": [
    {
     "data": {
      "text/plain": [
       "array([4.75, 4.5 , 5.  ])"
      ]
     },
     "execution_count": 26,
     "metadata": {},
     "output_type": "execute_result"
    }
   ],
   "source": [
    "Noten.mean(axis=0)"
   ]
  },
  {
   "cell_type": "code",
   "execution_count": 27,
   "id": "43c5dd80-55eb-4063-b5f3-4e4759e02d1c",
   "metadata": {},
   "outputs": [
    {
     "data": {
      "text/plain": [
       "array([5.16666667, 4.33333333])"
      ]
     },
     "execution_count": 27,
     "metadata": {},
     "output_type": "execute_result"
    }
   ],
   "source": [
    "Noten.mean(axis=1)"
   ]
  },
  {
   "cell_type": "code",
   "execution_count": 28,
   "id": "5be32667-3797-4443-949f-7f1025ea7674",
   "metadata": {},
   "outputs": [
    {
     "data": {
      "text/plain": [
       "array([4. , 4.5, 5. , 5.5])"
      ]
     },
     "execution_count": 28,
     "metadata": {},
     "output_type": "execute_result"
    }
   ],
   "source": [
    "np.unique(Noten)"
   ]
  },
  {
   "cell_type": "code",
   "execution_count": 29,
   "id": "fbf0293d-b8a4-4df6-ac67-9eea0e2d1cfa",
   "metadata": {},
   "outputs": [
    {
     "data": {
      "text/plain": [
       "(array([4. , 4.5, 5. , 5.5]), array([1, 2, 2, 1], dtype=int64))"
      ]
     },
     "execution_count": 29,
     "metadata": {},
     "output_type": "execute_result"
    }
   ],
   "source": [
    "np.unique(Noten,return_counts=True)"
   ]
  },
  {
   "cell_type": "code",
   "execution_count": 30,
   "id": "24f59d4d-fc2c-4117-8eaf-085249411e37",
   "metadata": {},
   "outputs": [
    {
     "data": {
      "text/plain": [
       "(array([[4.5, 4. , 4.5],\n",
       "        [5. , 5. , 5.5]]),\n",
       " array([1, 1], dtype=int64))"
      ]
     },
     "execution_count": 30,
     "metadata": {},
     "output_type": "execute_result"
    }
   ],
   "source": [
    "np.unique(Noten,return_counts=True,axis=0)"
   ]
  },
  {
   "cell_type": "code",
   "execution_count": 32,
   "id": "c65b2deb-b36b-4e31-b577-6dcaa1b81044",
   "metadata": {},
   "outputs": [
    {
     "data": {
      "text/plain": [
       "(array([[4.5, 4. , 4.5],\n",
       "        [5. , 5. , 5.5]]),\n",
       " array([1, 3], dtype=int64))"
      ]
     },
     "execution_count": 32,
     "metadata": {},
     "output_type": "execute_result"
    }
   ],
   "source": [
    "marks = np.array([Person_1,Person_1,Person_1,Person_2])\n",
    "np.unique(marks,return_counts=True,axis=0)"
   ]
  },
  {
   "cell_type": "markdown",
   "id": "b896af3a-560f-4863-8919-63360ce8160a",
   "metadata": {},
   "source": [
    "### <span style=\"color:rgb(160,0,86)\">Wie können grosse Datenmengen verarbeitet werden?</span>\n",
    "\n",
    "Häufige Formate für Daten in Matrix-Form sind:\n",
    "\n",
    "- **csv**-Dateien (Tabulator-,Komma- oder Spalten getrennte Textdateien)\n",
    "- **ods**-, **xls**-, **xlsx**-, **mdb**-Dateien (Tabellendokumente)\n",
    "- **sav**-Dateien für SPSS\n",
    "- **dta**-Dateien für STATA\n",
    "\n",
    "**Pandas** (Panel Data) ist ein Python-Modul, das schnelle und flexible Datenstrukturen bereitstellt, die das Arbeiten mit Daten in Matrix-Form einfach und intuitiv macht."
   ]
  },
  {
   "cell_type": "markdown",
   "id": "f918750d-37ef-4ef9-8594-b0472758fcd9",
   "metadata": {},
   "source": [
    "#### <span style=\"color:rgb(160,0,86)\">Beispiel:</span>\n",
    "\n",
    "Wir wollen die folgenden Daten mit Pandas verarbeiten:\n",
    "\n",
    "$$\\begin{bmatrix}\n",
    "\\text{Greater London}&8663300&1572\\\\\n",
    "\\text{Tokyo}&9272565&627\\\\\n",
    "\\text{Paris}&2229621&105\\\\\n",
    "\\text{New York}&8491079&784\\\\\n",
    "\\end{bmatrix}$$"
   ]
  },
  {
   "cell_type": "code",
   "execution_count": 35,
   "id": "c4a9a291-0ee5-4720-a50e-0bd9c756c64f",
   "metadata": {},
   "outputs": [],
   "source": [
    "names = [\"Greater London\",\"Tokyo\",\"Paris\",\"New York\"]\n",
    "population = [8663300,9272565,2229621,8491079]\n",
    "area = [1572,627,105,784]\n"
   ]
  },
  {
   "cell_type": "code",
   "execution_count": 36,
   "id": "14607dcd-a3ee-4aca-8ff4-905e1ff49bc1",
   "metadata": {},
   "outputs": [],
   "source": [
    "import pandas as pd\n",
    "\n",
    "df = pd.DataFrame({\"cities\":names,\"population\":population,\"area\":area})"
   ]
  },
  {
   "cell_type": "code",
   "execution_count": 38,
   "id": "d7dc384a-44ec-4d82-8748-94e9e6196460",
   "metadata": {},
   "outputs": [
    {
     "data": {
      "text/html": [
       "<div>\n",
       "<style scoped>\n",
       "    .dataframe tbody tr th:only-of-type {\n",
       "        vertical-align: middle;\n",
       "    }\n",
       "\n",
       "    .dataframe tbody tr th {\n",
       "        vertical-align: top;\n",
       "    }\n",
       "\n",
       "    .dataframe thead th {\n",
       "        text-align: right;\n",
       "    }\n",
       "</style>\n",
       "<table border=\"1\" class=\"dataframe\">\n",
       "  <thead>\n",
       "    <tr style=\"text-align: right;\">\n",
       "      <th></th>\n",
       "      <th>cities</th>\n",
       "      <th>population</th>\n",
       "      <th>area</th>\n",
       "    </tr>\n",
       "  </thead>\n",
       "  <tbody>\n",
       "    <tr>\n",
       "      <th>0</th>\n",
       "      <td>Greater London</td>\n",
       "      <td>8663300</td>\n",
       "      <td>1572</td>\n",
       "    </tr>\n",
       "    <tr>\n",
       "      <th>1</th>\n",
       "      <td>Tokyo</td>\n",
       "      <td>9272565</td>\n",
       "      <td>627</td>\n",
       "    </tr>\n",
       "    <tr>\n",
       "      <th>2</th>\n",
       "      <td>Paris</td>\n",
       "      <td>2229621</td>\n",
       "      <td>105</td>\n",
       "    </tr>\n",
       "  </tbody>\n",
       "</table>\n",
       "</div>"
      ],
      "text/plain": [
       "           cities  population  area\n",
       "0  Greater London     8663300  1572\n",
       "1           Tokyo     9272565   627\n",
       "2           Paris     2229621   105"
      ]
     },
     "execution_count": 38,
     "metadata": {},
     "output_type": "execute_result"
    }
   ],
   "source": [
    "df.head(3)"
   ]
  },
  {
   "cell_type": "code",
   "execution_count": 40,
   "id": "bd84dfee-c89e-4b95-a9a4-58ee8e61472b",
   "metadata": {},
   "outputs": [
    {
     "data": {
      "text/html": [
       "<div>\n",
       "<style scoped>\n",
       "    .dataframe tbody tr th:only-of-type {\n",
       "        vertical-align: middle;\n",
       "    }\n",
       "\n",
       "    .dataframe tbody tr th {\n",
       "        vertical-align: top;\n",
       "    }\n",
       "\n",
       "    .dataframe thead th {\n",
       "        text-align: right;\n",
       "    }\n",
       "</style>\n",
       "<table border=\"1\" class=\"dataframe\">\n",
       "  <thead>\n",
       "    <tr style=\"text-align: right;\">\n",
       "      <th></th>\n",
       "      <th>cities</th>\n",
       "      <th>population</th>\n",
       "      <th>area</th>\n",
       "    </tr>\n",
       "  </thead>\n",
       "  <tbody>\n",
       "    <tr>\n",
       "      <th>2</th>\n",
       "      <td>Paris</td>\n",
       "      <td>2229621</td>\n",
       "      <td>105</td>\n",
       "    </tr>\n",
       "    <tr>\n",
       "      <th>3</th>\n",
       "      <td>New York</td>\n",
       "      <td>8491079</td>\n",
       "      <td>784</td>\n",
       "    </tr>\n",
       "  </tbody>\n",
       "</table>\n",
       "</div>"
      ],
      "text/plain": [
       "     cities  population  area\n",
       "2     Paris     2229621   105\n",
       "3  New York     8491079   784"
      ]
     },
     "execution_count": 40,
     "metadata": {},
     "output_type": "execute_result"
    }
   ],
   "source": [
    "df.tail(2)"
   ]
  },
  {
   "cell_type": "code",
   "execution_count": 41,
   "id": "af4823f5-4599-48a7-8d20-0dfe396e8ef9",
   "metadata": {},
   "outputs": [
    {
     "data": {
      "text/plain": [
       "(4, 3)"
      ]
     },
     "execution_count": 41,
     "metadata": {},
     "output_type": "execute_result"
    }
   ],
   "source": [
    "df.shape"
   ]
  },
  {
   "cell_type": "code",
   "execution_count": 42,
   "id": "2d6777f4-36a2-47ce-a645-1d2dd382ca96",
   "metadata": {},
   "outputs": [
    {
     "data": {
      "text/plain": [
       "cities        object\n",
       "population     int64\n",
       "area           int64\n",
       "dtype: object"
      ]
     },
     "execution_count": 42,
     "metadata": {},
     "output_type": "execute_result"
    }
   ],
   "source": [
    "df.dtypes"
   ]
  },
  {
   "cell_type": "code",
   "execution_count": 43,
   "id": "b193726d-cb7c-4bd4-ac81-6f087a544180",
   "metadata": {},
   "outputs": [
    {
     "name": "stdout",
     "output_type": "stream",
     "text": [
      "<class 'pandas.core.frame.DataFrame'>\n",
      "RangeIndex: 4 entries, 0 to 3\n",
      "Data columns (total 3 columns):\n",
      " #   Column      Non-Null Count  Dtype \n",
      "---  ------      --------------  ----- \n",
      " 0   cities      4 non-null      object\n",
      " 1   population  4 non-null      int64 \n",
      " 2   area        4 non-null      int64 \n",
      "dtypes: int64(2), object(1)\n",
      "memory usage: 224.0+ bytes\n"
     ]
    }
   ],
   "source": [
    "df.info()"
   ]
  },
  {
   "cell_type": "code",
   "execution_count": 44,
   "id": "8bb4f66f-d30c-4005-ac30-6c0cc0fe7ca3",
   "metadata": {},
   "outputs": [
    {
     "data": {
      "text/plain": [
       "Index(['cities', 'population', 'area'], dtype='object')"
      ]
     },
     "execution_count": 44,
     "metadata": {},
     "output_type": "execute_result"
    }
   ],
   "source": [
    "df.columns"
   ]
  },
  {
   "cell_type": "code",
   "execution_count": 45,
   "id": "e837e7ee-f65d-413e-8e58-2934d67c062a",
   "metadata": {},
   "outputs": [
    {
     "data": {
      "text/plain": [
       "2    2229621\n",
       "3    8491079\n",
       "Name: population, dtype: int64"
      ]
     },
     "execution_count": 45,
     "metadata": {},
     "output_type": "execute_result"
    }
   ],
   "source": [
    "df[\"population\"][2:4]"
   ]
  },
  {
   "cell_type": "code",
   "execution_count": 48,
   "id": "def24327-ff62-45d7-b428-daf2dc324c19",
   "metadata": {},
   "outputs": [
    {
     "data": {
      "text/html": [
       "<div>\n",
       "<style scoped>\n",
       "    .dataframe tbody tr th:only-of-type {\n",
       "        vertical-align: middle;\n",
       "    }\n",
       "\n",
       "    .dataframe tbody tr th {\n",
       "        vertical-align: top;\n",
       "    }\n",
       "\n",
       "    .dataframe thead th {\n",
       "        text-align: right;\n",
       "    }\n",
       "</style>\n",
       "<table border=\"1\" class=\"dataframe\">\n",
       "  <thead>\n",
       "    <tr style=\"text-align: right;\">\n",
       "      <th></th>\n",
       "      <th>cities</th>\n",
       "      <th>area</th>\n",
       "    </tr>\n",
       "  </thead>\n",
       "  <tbody>\n",
       "    <tr>\n",
       "      <th>0</th>\n",
       "      <td>Greater London</td>\n",
       "      <td>1572</td>\n",
       "    </tr>\n",
       "  </tbody>\n",
       "</table>\n",
       "</div>"
      ],
      "text/plain": [
       "           cities  area\n",
       "0  Greater London  1572"
      ]
     },
     "execution_count": 48,
     "metadata": {},
     "output_type": "execute_result"
    }
   ],
   "source": [
    "df[[\"cities\",\"area\"]][0:1]"
   ]
  },
  {
   "cell_type": "code",
   "execution_count": 49,
   "id": "b67391ca-e400-46bc-b63b-65412a38755b",
   "metadata": {},
   "outputs": [],
   "source": [
    "# Eigene Index Namen setzen\n",
    "df.set_index(\"cities\",inplace=True) # inplace=True -> direkt im df"
   ]
  },
  {
   "cell_type": "code",
   "execution_count": 50,
   "id": "d6b991f6-34ba-459e-a8dd-35f6076121bb",
   "metadata": {},
   "outputs": [
    {
     "data": {
      "text/plain": [
       "population    9272565\n",
       "area              627\n",
       "Name: Tokyo, dtype: int64"
      ]
     },
     "execution_count": 50,
     "metadata": {},
     "output_type": "execute_result"
    }
   ],
   "source": [
    "df.loc[\"Tokyo\"]"
   ]
  },
  {
   "cell_type": "code",
   "execution_count": 51,
   "id": "f2a1d422-0857-45e8-84e2-f23c072fbf84",
   "metadata": {},
   "outputs": [
    {
     "data": {
      "text/plain": [
       "9272565"
      ]
     },
     "execution_count": 51,
     "metadata": {},
     "output_type": "execute_result"
    }
   ],
   "source": [
    "df.loc[\"Tokyo\",\"population\"]"
   ]
  },
  {
   "cell_type": "code",
   "execution_count": 52,
   "id": "18fc6709-a293-42f5-b240-338f22a0bbd4",
   "metadata": {},
   "outputs": [
    {
     "data": {
      "text/html": [
       "<div>\n",
       "<style scoped>\n",
       "    .dataframe tbody tr th:only-of-type {\n",
       "        vertical-align: middle;\n",
       "    }\n",
       "\n",
       "    .dataframe tbody tr th {\n",
       "        vertical-align: top;\n",
       "    }\n",
       "\n",
       "    .dataframe thead th {\n",
       "        text-align: right;\n",
       "    }\n",
       "</style>\n",
       "<table border=\"1\" class=\"dataframe\">\n",
       "  <thead>\n",
       "    <tr style=\"text-align: right;\">\n",
       "      <th></th>\n",
       "      <th>population</th>\n",
       "      <th>area</th>\n",
       "      <th>pop_density</th>\n",
       "    </tr>\n",
       "    <tr>\n",
       "      <th>cities</th>\n",
       "      <th></th>\n",
       "      <th></th>\n",
       "      <th></th>\n",
       "    </tr>\n",
       "  </thead>\n",
       "  <tbody>\n",
       "    <tr>\n",
       "      <th>Greater London</th>\n",
       "      <td>8663300</td>\n",
       "      <td>1572</td>\n",
       "      <td>5511.005089</td>\n",
       "    </tr>\n",
       "    <tr>\n",
       "      <th>Tokyo</th>\n",
       "      <td>9272565</td>\n",
       "      <td>627</td>\n",
       "      <td>14788.779904</td>\n",
       "    </tr>\n",
       "    <tr>\n",
       "      <th>Paris</th>\n",
       "      <td>2229621</td>\n",
       "      <td>105</td>\n",
       "      <td>21234.485714</td>\n",
       "    </tr>\n",
       "    <tr>\n",
       "      <th>New York</th>\n",
       "      <td>8491079</td>\n",
       "      <td>784</td>\n",
       "      <td>10830.457908</td>\n",
       "    </tr>\n",
       "  </tbody>\n",
       "</table>\n",
       "</div>"
      ],
      "text/plain": [
       "                population  area   pop_density\n",
       "cities                                        \n",
       "Greater London     8663300  1572   5511.005089\n",
       "Tokyo              9272565   627  14788.779904\n",
       "Paris              2229621   105  21234.485714\n",
       "New York           8491079   784  10830.457908"
      ]
     },
     "execution_count": 52,
     "metadata": {},
     "output_type": "execute_result"
    }
   ],
   "source": [
    "df[\"pop_density\"] = df[\"population\"]/df[\"area\"]\n",
    "df"
   ]
  },
  {
   "cell_type": "code",
   "execution_count": 53,
   "id": "15519874-2bff-4bf3-8b47-e49d1fb353c6",
   "metadata": {},
   "outputs": [
    {
     "data": {
      "text/html": [
       "<div>\n",
       "<style scoped>\n",
       "    .dataframe tbody tr th:only-of-type {\n",
       "        vertical-align: middle;\n",
       "    }\n",
       "\n",
       "    .dataframe tbody tr th {\n",
       "        vertical-align: top;\n",
       "    }\n",
       "\n",
       "    .dataframe thead th {\n",
       "        text-align: right;\n",
       "    }\n",
       "</style>\n",
       "<table border=\"1\" class=\"dataframe\">\n",
       "  <thead>\n",
       "    <tr style=\"text-align: right;\">\n",
       "      <th></th>\n",
       "      <th>City</th>\n",
       "      <th>Country</th>\n",
       "      <th>Population</th>\n",
       "      <th>Inland area in km2</th>\n",
       "      <th>Density in people per hectare</th>\n",
       "      <th>Dwellings</th>\n",
       "      <th>Density in dwellings per hectare</th>\n",
       "      <th>People per dwelling</th>\n",
       "      <th>Approx city radius km</th>\n",
       "      <th>Main topographical constraint</th>\n",
       "      <th>Constraint</th>\n",
       "    </tr>\n",
       "  </thead>\n",
       "  <tbody>\n",
       "    <tr>\n",
       "      <th>0</th>\n",
       "      <td>NaN</td>\n",
       "      <td>NaN</td>\n",
       "      <td>NaN</td>\n",
       "      <td>NaN</td>\n",
       "      <td>NaN</td>\n",
       "      <td>NaN</td>\n",
       "      <td>NaN</td>\n",
       "      <td>NaN</td>\n",
       "      <td>NaN</td>\n",
       "      <td>NaN</td>\n",
       "      <td>NaN</td>\n",
       "    </tr>\n",
       "    <tr>\n",
       "      <th>1</th>\n",
       "      <td>Greater London</td>\n",
       "      <td>England</td>\n",
       "      <td>8,663,300</td>\n",
       "      <td>1,572</td>\n",
       "      <td>55.0</td>\n",
       "      <td>3,454,490</td>\n",
       "      <td>22.0</td>\n",
       "      <td>2.5</td>\n",
       "      <td>23.0</td>\n",
       "      <td>Rivers</td>\n",
       "      <td>4%</td>\n",
       "    </tr>\n",
       "    <tr>\n",
       "      <th>2</th>\n",
       "      <td>Inner London</td>\n",
       "      <td>England</td>\n",
       "      <td>3,439,700</td>\n",
       "      <td>319</td>\n",
       "      <td>108.0</td>\n",
       "      <td>1,460,840</td>\n",
       "      <td>46.0</td>\n",
       "      <td>2.4</td>\n",
       "      <td>10.0</td>\n",
       "      <td>Rivers</td>\n",
       "      <td>5%</td>\n",
       "    </tr>\n",
       "  </tbody>\n",
       "</table>\n",
       "</div>"
      ],
      "text/plain": [
       "              City   Country Population Inland area in km2  \\\n",
       "0              NaN       NaN        NaN                NaN   \n",
       "1  Greater London   England   8,663,300              1,572   \n",
       "2    Inner London   England   3,439,700                319   \n",
       "\n",
       "   Density in people per hectare  Dwellings  Density in dwellings per hectare  \\\n",
       "0                            NaN        NaN                               NaN   \n",
       "1                           55.0  3,454,490                              22.0   \n",
       "2                          108.0  1,460,840                              46.0   \n",
       "\n",
       "   People per dwelling  Approx city radius km Main topographical constraint  \\\n",
       "0                  NaN                    NaN                           NaN   \n",
       "1                  2.5                   23.0                       Rivers    \n",
       "2                  2.4                   10.0                       Rivers    \n",
       "\n",
       "  Constraint  \n",
       "0        NaN  \n",
       "1         4%  \n",
       "2         5%  "
      ]
     },
     "execution_count": 53,
     "metadata": {},
     "output_type": "execute_result"
    }
   ],
   "source": [
    "gla_cities = pd.read_csv(\"Daten/GLA_World_Cities_2016.csv\")\n",
    "\n",
    "gla_cities.head(3)"
   ]
  },
  {
   "cell_type": "code",
   "execution_count": 54,
   "id": "b47bb35d-4abb-411c-8ca6-09bcacf0680a",
   "metadata": {},
   "outputs": [
    {
     "data": {
      "text/plain": [
       "(18, 11)"
      ]
     },
     "execution_count": 54,
     "metadata": {},
     "output_type": "execute_result"
    }
   ],
   "source": [
    "gla_cities.shape"
   ]
  },
  {
   "cell_type": "code",
   "execution_count": 55,
   "id": "b868224d-a8cc-4352-b17d-aee5c202474c",
   "metadata": {},
   "outputs": [
    {
     "data": {
      "text/html": [
       "<div>\n",
       "<style scoped>\n",
       "    .dataframe tbody tr th:only-of-type {\n",
       "        vertical-align: middle;\n",
       "    }\n",
       "\n",
       "    .dataframe tbody tr th {\n",
       "        vertical-align: top;\n",
       "    }\n",
       "\n",
       "    .dataframe thead th {\n",
       "        text-align: right;\n",
       "    }\n",
       "</style>\n",
       "<table border=\"1\" class=\"dataframe\">\n",
       "  <thead>\n",
       "    <tr style=\"text-align: right;\">\n",
       "      <th></th>\n",
       "      <th>City</th>\n",
       "      <th>Country</th>\n",
       "      <th>Population</th>\n",
       "      <th>Inland area in km2</th>\n",
       "      <th>Density in people per hectare</th>\n",
       "      <th>Dwellings</th>\n",
       "      <th>Density in dwellings per hectare</th>\n",
       "      <th>People per dwelling</th>\n",
       "      <th>Approx city radius km</th>\n",
       "      <th>Main topographical constraint</th>\n",
       "      <th>Constraint</th>\n",
       "    </tr>\n",
       "  </thead>\n",
       "  <tbody>\n",
       "    <tr>\n",
       "      <th>1</th>\n",
       "      <td>Greater London</td>\n",
       "      <td>England</td>\n",
       "      <td>8,663,300</td>\n",
       "      <td>1,572</td>\n",
       "      <td>55.0</td>\n",
       "      <td>3,454,490</td>\n",
       "      <td>22.0</td>\n",
       "      <td>2.5</td>\n",
       "      <td>23.0</td>\n",
       "      <td>Rivers</td>\n",
       "      <td>4%</td>\n",
       "    </tr>\n",
       "    <tr>\n",
       "      <th>2</th>\n",
       "      <td>Inner London</td>\n",
       "      <td>England</td>\n",
       "      <td>3,439,700</td>\n",
       "      <td>319</td>\n",
       "      <td>108.0</td>\n",
       "      <td>1,460,840</td>\n",
       "      <td>46.0</td>\n",
       "      <td>2.4</td>\n",
       "      <td>10.0</td>\n",
       "      <td>Rivers</td>\n",
       "      <td>5%</td>\n",
       "    </tr>\n",
       "    <tr>\n",
       "      <th>3</th>\n",
       "      <td>Outer London</td>\n",
       "      <td>England</td>\n",
       "      <td>5,223,500</td>\n",
       "      <td>1,254</td>\n",
       "      <td>42.0</td>\n",
       "      <td>1,993,660</td>\n",
       "      <td>16.0</td>\n",
       "      <td>2.6</td>\n",
       "      <td>NaN</td>\n",
       "      <td>NaN</td>\n",
       "      <td>NaN</td>\n",
       "    </tr>\n",
       "    <tr>\n",
       "      <th>4</th>\n",
       "      <td>Paris</td>\n",
       "      <td>France</td>\n",
       "      <td>2,229,621</td>\n",
       "      <td>105</td>\n",
       "      <td>212.0</td>\n",
       "      <td>1,336,209</td>\n",
       "      <td>127.0</td>\n",
       "      <td>1.7</td>\n",
       "      <td>8.0</td>\n",
       "      <td>Rivers</td>\n",
       "      <td>2%</td>\n",
       "    </tr>\n",
       "    <tr>\n",
       "      <th>5</th>\n",
       "      <td>Lyon</td>\n",
       "      <td>France</td>\n",
       "      <td>500,715</td>\n",
       "      <td>48</td>\n",
       "      <td>105.0</td>\n",
       "      <td>265,599</td>\n",
       "      <td>55.0</td>\n",
       "      <td>1.9</td>\n",
       "      <td>7.0</td>\n",
       "      <td>Rivers</td>\n",
       "      <td>5%</td>\n",
       "    </tr>\n",
       "    <tr>\n",
       "      <th>6</th>\n",
       "      <td>Berlin</td>\n",
       "      <td>Germany</td>\n",
       "      <td>3,469,849</td>\n",
       "      <td>892</td>\n",
       "      <td>39.0</td>\n",
       "      <td>1,892,000</td>\n",
       "      <td>21.0</td>\n",
       "      <td>1.8</td>\n",
       "      <td>16.0</td>\n",
       "      <td>Rivers</td>\n",
       "      <td>6%</td>\n",
       "    </tr>\n",
       "    <tr>\n",
       "      <th>7</th>\n",
       "      <td>Madrid (City)</td>\n",
       "      <td>Spain</td>\n",
       "      <td>3,141,991</td>\n",
       "      <td>606</td>\n",
       "      <td>52.0</td>\n",
       "      <td>1,320,531</td>\n",
       "      <td>22.0</td>\n",
       "      <td>2.4</td>\n",
       "      <td>13.0</td>\n",
       "      <td>Mountains</td>\n",
       "      <td>12%</td>\n",
       "    </tr>\n",
       "    <tr>\n",
       "      <th>8</th>\n",
       "      <td>Barcelona</td>\n",
       "      <td>Spain</td>\n",
       "      <td>1,604,555</td>\n",
       "      <td>98</td>\n",
       "      <td>163.0</td>\n",
       "      <td>684,078</td>\n",
       "      <td>70.0</td>\n",
       "      <td>2.3</td>\n",
       "      <td>6.0</td>\n",
       "      <td>Coast and mountains</td>\n",
       "      <td>75%</td>\n",
       "    </tr>\n",
       "    <tr>\n",
       "      <th>9</th>\n",
       "      <td>Sevilla</td>\n",
       "      <td>Spain</td>\n",
       "      <td>693,878</td>\n",
       "      <td>141</td>\n",
       "      <td>49.0</td>\n",
       "      <td>268,435</td>\n",
       "      <td>19.0</td>\n",
       "      <td>2.6</td>\n",
       "      <td>7.0</td>\n",
       "      <td>Rivers</td>\n",
       "      <td>3%</td>\n",
       "    </tr>\n",
       "    <tr>\n",
       "      <th>10</th>\n",
       "      <td>New York (City)</td>\n",
       "      <td>United States</td>\n",
       "      <td>8,491,079</td>\n",
       "      <td>784</td>\n",
       "      <td>108.0</td>\n",
       "      <td>3,371,062</td>\n",
       "      <td>43.0</td>\n",
       "      <td>2.5</td>\n",
       "      <td>14.0</td>\n",
       "      <td>Coast and rivers</td>\n",
       "      <td>40%</td>\n",
       "    </tr>\n",
       "    <tr>\n",
       "      <th>11</th>\n",
       "      <td>Chicago</td>\n",
       "      <td>United States</td>\n",
       "      <td>2,722,389</td>\n",
       "      <td>590</td>\n",
       "      <td>46.0</td>\n",
       "      <td>1,194,337</td>\n",
       "      <td>20.0</td>\n",
       "      <td>2.3</td>\n",
       "      <td>13.0</td>\n",
       "      <td>Lake</td>\n",
       "      <td>45%</td>\n",
       "    </tr>\n",
       "    <tr>\n",
       "      <th>12</th>\n",
       "      <td>Boston</td>\n",
       "      <td>United States</td>\n",
       "      <td>617,594</td>\n",
       "      <td>125</td>\n",
       "      <td>49.0</td>\n",
       "      <td>272,481</td>\n",
       "      <td>22.0</td>\n",
       "      <td>2.3</td>\n",
       "      <td>6.0</td>\n",
       "      <td>Coast</td>\n",
       "      <td>30%</td>\n",
       "    </tr>\n",
       "    <tr>\n",
       "      <th>13</th>\n",
       "      <td>Rio de Janeiro (Municipality)</td>\n",
       "      <td>Brazil</td>\n",
       "      <td>6,476,631</td>\n",
       "      <td>1200</td>\n",
       "      <td>54.0</td>\n",
       "      <td>2,467,000</td>\n",
       "      <td>21.0</td>\n",
       "      <td>2.6</td>\n",
       "      <td>18.0</td>\n",
       "      <td>Coast and mountains</td>\n",
       "      <td>75%</td>\n",
       "    </tr>\n",
       "    <tr>\n",
       "      <th>14</th>\n",
       "      <td>Belo Horizonte (Municipality)</td>\n",
       "      <td>Brazil</td>\n",
       "      <td>2,375,151</td>\n",
       "      <td>331</td>\n",
       "      <td>76.0</td>\n",
       "      <td>762,075</td>\n",
       "      <td>23.0</td>\n",
       "      <td>3.1</td>\n",
       "      <td>10.0</td>\n",
       "      <td>Mountains</td>\n",
       "      <td>45%</td>\n",
       "    </tr>\n",
       "    <tr>\n",
       "      <th>15</th>\n",
       "      <td>Singapore</td>\n",
       "      <td>Singapore</td>\n",
       "      <td>3,902,710</td>\n",
       "      <td>666</td>\n",
       "      <td>59.0</td>\n",
       "      <td>1,225,300</td>\n",
       "      <td>18.0</td>\n",
       "      <td>3.2</td>\n",
       "      <td>14.0</td>\n",
       "      <td>Coast</td>\n",
       "      <td>95%</td>\n",
       "    </tr>\n",
       "    <tr>\n",
       "      <th>16</th>\n",
       "      <td>Tokyo (Special Wards Area)</td>\n",
       "      <td>Japan</td>\n",
       "      <td>9,272,565</td>\n",
       "      <td>627</td>\n",
       "      <td>148.0</td>\n",
       "      <td>6,437,000</td>\n",
       "      <td>103.0</td>\n",
       "      <td>1.4</td>\n",
       "      <td>14.0</td>\n",
       "      <td>Coast and mountains</td>\n",
       "      <td>70%</td>\n",
       "    </tr>\n",
       "    <tr>\n",
       "      <th>17</th>\n",
       "      <td>Osaka (City)</td>\n",
       "      <td>Japan</td>\n",
       "      <td>2,691,742</td>\n",
       "      <td>225</td>\n",
       "      <td>120.0</td>\n",
       "      <td>1,634,100</td>\n",
       "      <td>73.0</td>\n",
       "      <td>1.6</td>\n",
       "      <td>8.0</td>\n",
       "      <td>Coast</td>\n",
       "      <td>20%</td>\n",
       "    </tr>\n",
       "  </tbody>\n",
       "</table>\n",
       "</div>"
      ],
      "text/plain": [
       "                              City         Country Population  \\\n",
       "1                  Greater London         England   8,663,300   \n",
       "2                    Inner London         England   3,439,700   \n",
       "3                    Outer London         England   5,223,500   \n",
       "4                           Paris          France   2,229,621   \n",
       "5                            Lyon          France     500,715   \n",
       "6                          Berlin         Germany   3,469,849   \n",
       "7                   Madrid (City)           Spain   3,141,991   \n",
       "8                       Barcelona           Spain   1,604,555   \n",
       "9                         Sevilla           Spain     693,878   \n",
       "10                New York (City)   United States   8,491,079   \n",
       "11                        Chicago   United States   2,722,389   \n",
       "12                         Boston   United States     617,594   \n",
       "13  Rio de Janeiro (Municipality)          Brazil   6,476,631   \n",
       "14  Belo Horizonte (Municipality)          Brazil   2,375,151   \n",
       "15                      Singapore       Singapore   3,902,710   \n",
       "16     Tokyo (Special Wards Area)           Japan   9,272,565   \n",
       "17                   Osaka (City)           Japan   2,691,742   \n",
       "\n",
       "   Inland area in km2  Density in people per hectare  Dwellings  \\\n",
       "1               1,572                           55.0  3,454,490   \n",
       "2                 319                          108.0  1,460,840   \n",
       "3               1,254                           42.0  1,993,660   \n",
       "4                 105                          212.0  1,336,209   \n",
       "5                  48                          105.0    265,599   \n",
       "6                 892                           39.0  1,892,000   \n",
       "7                 606                           52.0  1,320,531   \n",
       "8                  98                          163.0    684,078   \n",
       "9                 141                           49.0    268,435   \n",
       "10                784                          108.0  3,371,062   \n",
       "11                590                           46.0  1,194,337   \n",
       "12                125                           49.0    272,481   \n",
       "13               1200                           54.0  2,467,000   \n",
       "14                331                           76.0    762,075   \n",
       "15                666                           59.0  1,225,300   \n",
       "16                627                          148.0  6,437,000   \n",
       "17                225                          120.0  1,634,100   \n",
       "\n",
       "    Density in dwellings per hectare  People per dwelling  \\\n",
       "1                               22.0                  2.5   \n",
       "2                               46.0                  2.4   \n",
       "3                               16.0                  2.6   \n",
       "4                              127.0                  1.7   \n",
       "5                               55.0                  1.9   \n",
       "6                               21.0                  1.8   \n",
       "7                               22.0                  2.4   \n",
       "8                               70.0                  2.3   \n",
       "9                               19.0                  2.6   \n",
       "10                              43.0                  2.5   \n",
       "11                              20.0                  2.3   \n",
       "12                              22.0                  2.3   \n",
       "13                              21.0                  2.6   \n",
       "14                              23.0                  3.1   \n",
       "15                              18.0                  3.2   \n",
       "16                             103.0                  1.4   \n",
       "17                              73.0                  1.6   \n",
       "\n",
       "    Approx city radius km Main topographical constraint Constraint  \n",
       "1                    23.0                       Rivers          4%  \n",
       "2                    10.0                       Rivers          5%  \n",
       "3                     NaN                           NaN        NaN  \n",
       "4                     8.0                        Rivers         2%  \n",
       "5                     7.0                        Rivers         5%  \n",
       "6                    16.0                        Rivers         6%  \n",
       "7                    13.0                     Mountains        12%  \n",
       "8                     6.0           Coast and mountains        75%  \n",
       "9                     7.0                        Rivers         3%  \n",
       "10                   14.0              Coast and rivers        40%  \n",
       "11                   13.0                          Lake        45%  \n",
       "12                    6.0                         Coast        30%  \n",
       "13                   18.0           Coast and mountains        75%  \n",
       "14                   10.0                     Mountains        45%  \n",
       "15                   14.0                         Coast        95%  \n",
       "16                   14.0           Coast and mountains        70%  \n",
       "17                    8.0                         Coast        20%  "
      ]
     },
     "execution_count": 55,
     "metadata": {},
     "output_type": "execute_result"
    }
   ],
   "source": [
    "gla_cities.dropna(how=\"all\")"
   ]
  },
  {
   "cell_type": "code",
   "execution_count": 56,
   "id": "3b4504db-3a3c-4a79-820a-5bc841f9b62b",
   "metadata": {},
   "outputs": [
    {
     "data": {
      "text/plain": [
       "(18, 11)"
      ]
     },
     "execution_count": 56,
     "metadata": {},
     "output_type": "execute_result"
    }
   ],
   "source": [
    "gla_cities.shape"
   ]
  },
  {
   "cell_type": "code",
   "execution_count": 57,
   "id": "3a468f46-32d2-447e-afc9-1b308312a9be",
   "metadata": {},
   "outputs": [],
   "source": [
    "gla_cities.dropna(how=\"all\",inplace=True)"
   ]
  },
  {
   "cell_type": "code",
   "execution_count": 58,
   "id": "37066a5c-fad5-4677-95fd-a87c1173df9c",
   "metadata": {},
   "outputs": [
    {
     "data": {
      "text/plain": [
       "(17, 11)"
      ]
     },
     "execution_count": 58,
     "metadata": {},
     "output_type": "execute_result"
    }
   ],
   "source": [
    "gla_cities.shape"
   ]
  },
  {
   "cell_type": "code",
   "execution_count": 59,
   "id": "d9e30049-d1a7-4dc2-b4dc-daa2af272514",
   "metadata": {},
   "outputs": [
    {
     "data": {
      "text/plain": [
       "Index(['City', 'Country', 'Population', 'Area km2',\n",
       "       'Density in people per hectare', 'Dwellings',\n",
       "       'Density in dwellings per hectare', 'People per dwelling',\n",
       "       'Approx city radius km', 'Main topographical constraint', 'Constraint'],\n",
       "      dtype='object')"
      ]
     },
     "execution_count": 59,
     "metadata": {},
     "output_type": "execute_result"
    }
   ],
   "source": [
    "renamecols = {\"Inland area in km2\":\"Area km2\"}\n",
    "gla_cities.rename(columns=renamecols,inplace=True)\n",
    "gla_cities.columns"
   ]
  },
  {
   "cell_type": "code",
   "execution_count": 60,
   "id": "5c142e40-efcf-4a9c-a5ad-fce9335762f4",
   "metadata": {},
   "outputs": [
    {
     "ename": "TypeError",
     "evalue": "unsupported operand type(s) for /: 'str' and 'str'",
     "output_type": "error",
     "traceback": [
      "\u001b[1;31m-------------------------------------------------------------------------\u001b[0m",
      "\u001b[1;31mTypeError\u001b[0m                               Traceback (most recent call last)",
      "File \u001b[1;32m~\\AppData\\Local\\Programs\\Python\\Python310\\lib\\site-packages\\pandas\\core\\ops\\array_ops.py:218\u001b[0m, in \u001b[0;36m_na_arithmetic_op\u001b[1;34m(left, right, op, is_cmp)\u001b[0m\n\u001b[0;32m    217\u001b[0m \u001b[38;5;28;01mtry\u001b[39;00m:\n\u001b[1;32m--> 218\u001b[0m     result \u001b[38;5;241m=\u001b[39m \u001b[43mfunc\u001b[49m\u001b[43m(\u001b[49m\u001b[43mleft\u001b[49m\u001b[43m,\u001b[49m\u001b[43m \u001b[49m\u001b[43mright\u001b[49m\u001b[43m)\u001b[49m\n\u001b[0;32m    219\u001b[0m \u001b[38;5;28;01mexcept\u001b[39;00m \u001b[38;5;167;01mTypeError\u001b[39;00m:\n",
      "File \u001b[1;32m~\\AppData\\Local\\Programs\\Python\\Python310\\lib\\site-packages\\pandas\\core\\computation\\expressions.py:242\u001b[0m, in \u001b[0;36mevaluate\u001b[1;34m(op, a, b, use_numexpr)\u001b[0m\n\u001b[0;32m    240\u001b[0m     \u001b[38;5;28;01mif\u001b[39;00m use_numexpr:\n\u001b[0;32m    241\u001b[0m         \u001b[38;5;66;03m# error: \"None\" not callable\u001b[39;00m\n\u001b[1;32m--> 242\u001b[0m         \u001b[38;5;28;01mreturn\u001b[39;00m \u001b[43m_evaluate\u001b[49m\u001b[43m(\u001b[49m\u001b[43mop\u001b[49m\u001b[43m,\u001b[49m\u001b[43m \u001b[49m\u001b[43mop_str\u001b[49m\u001b[43m,\u001b[49m\u001b[43m \u001b[49m\u001b[43ma\u001b[49m\u001b[43m,\u001b[49m\u001b[43m \u001b[49m\u001b[43mb\u001b[49m\u001b[43m)\u001b[49m  \u001b[38;5;66;03m# type: ignore[misc]\u001b[39;00m\n\u001b[0;32m    243\u001b[0m \u001b[38;5;28;01mreturn\u001b[39;00m _evaluate_standard(op, op_str, a, b)\n",
      "File \u001b[1;32m~\\AppData\\Local\\Programs\\Python\\Python310\\lib\\site-packages\\pandas\\core\\computation\\expressions.py:73\u001b[0m, in \u001b[0;36m_evaluate_standard\u001b[1;34m(op, op_str, a, b)\u001b[0m\n\u001b[0;32m     72\u001b[0m     _store_test_result(\u001b[38;5;28;01mFalse\u001b[39;00m)\n\u001b[1;32m---> 73\u001b[0m \u001b[38;5;28;01mreturn\u001b[39;00m \u001b[43mop\u001b[49m\u001b[43m(\u001b[49m\u001b[43ma\u001b[49m\u001b[43m,\u001b[49m\u001b[43m \u001b[49m\u001b[43mb\u001b[49m\u001b[43m)\u001b[49m\n",
      "\u001b[1;31mTypeError\u001b[0m: unsupported operand type(s) for /: 'str' and 'str'",
      "\nDuring handling of the above exception, another exception occurred:\n",
      "\u001b[1;31mTypeError\u001b[0m                               Traceback (most recent call last)",
      "Cell \u001b[1;32mIn[60], line 2\u001b[0m\n\u001b[0;32m      1\u001b[0m gla_cities[\u001b[38;5;124m\"\u001b[39m\u001b[38;5;124mpop_density\u001b[39m\u001b[38;5;124m\"\u001b[39m] \u001b[38;5;241m=\u001b[39m \\\n\u001b[1;32m----> 2\u001b[0m \u001b[43mgla_cities\u001b[49m\u001b[43m[\u001b[49m\u001b[38;5;124;43m\"\u001b[39;49m\u001b[38;5;124;43mPopulation\u001b[39;49m\u001b[38;5;124;43m\"\u001b[39;49m\u001b[43m]\u001b[49m\u001b[38;5;241;43m/\u001b[39;49m\u001b[43mgla_cities\u001b[49m\u001b[43m[\u001b[49m\u001b[38;5;124;43m\"\u001b[39;49m\u001b[38;5;124;43mArea km2\u001b[39;49m\u001b[38;5;124;43m\"\u001b[39;49m\u001b[43m]\u001b[49m\n",
      "File \u001b[1;32m~\\AppData\\Local\\Programs\\Python\\Python310\\lib\\site-packages\\pandas\\core\\ops\\common.py:76\u001b[0m, in \u001b[0;36m_unpack_zerodim_and_defer.<locals>.new_method\u001b[1;34m(self, other)\u001b[0m\n\u001b[0;32m     72\u001b[0m             \u001b[38;5;28;01mreturn\u001b[39;00m \u001b[38;5;28mNotImplemented\u001b[39m\n\u001b[0;32m     74\u001b[0m other \u001b[38;5;241m=\u001b[39m item_from_zerodim(other)\n\u001b[1;32m---> 76\u001b[0m \u001b[38;5;28;01mreturn\u001b[39;00m \u001b[43mmethod\u001b[49m\u001b[43m(\u001b[49m\u001b[38;5;28;43mself\u001b[39;49m\u001b[43m,\u001b[49m\u001b[43m \u001b[49m\u001b[43mother\u001b[49m\u001b[43m)\u001b[49m\n",
      "File \u001b[1;32m~\\AppData\\Local\\Programs\\Python\\Python310\\lib\\site-packages\\pandas\\core\\arraylike.py:210\u001b[0m, in \u001b[0;36mOpsMixin.__truediv__\u001b[1;34m(self, other)\u001b[0m\n\u001b[0;32m    208\u001b[0m \u001b[38;5;129m@unpack_zerodim_and_defer\u001b[39m(\u001b[38;5;124m\"\u001b[39m\u001b[38;5;124m__truediv__\u001b[39m\u001b[38;5;124m\"\u001b[39m)\n\u001b[0;32m    209\u001b[0m \u001b[38;5;28;01mdef\u001b[39;00m \u001b[38;5;21m__truediv__\u001b[39m(\u001b[38;5;28mself\u001b[39m, other):\n\u001b[1;32m--> 210\u001b[0m     \u001b[38;5;28;01mreturn\u001b[39;00m \u001b[38;5;28;43mself\u001b[39;49m\u001b[38;5;241;43m.\u001b[39;49m\u001b[43m_arith_method\u001b[49m\u001b[43m(\u001b[49m\u001b[43mother\u001b[49m\u001b[43m,\u001b[49m\u001b[43m \u001b[49m\u001b[43moperator\u001b[49m\u001b[38;5;241;43m.\u001b[39;49m\u001b[43mtruediv\u001b[49m\u001b[43m)\u001b[49m\n",
      "File \u001b[1;32m~\\AppData\\Local\\Programs\\Python\\Python310\\lib\\site-packages\\pandas\\core\\series.py:6135\u001b[0m, in \u001b[0;36mSeries._arith_method\u001b[1;34m(self, other, op)\u001b[0m\n\u001b[0;32m   6133\u001b[0m \u001b[38;5;28;01mdef\u001b[39;00m \u001b[38;5;21m_arith_method\u001b[39m(\u001b[38;5;28mself\u001b[39m, other, op):\n\u001b[0;32m   6134\u001b[0m     \u001b[38;5;28mself\u001b[39m, other \u001b[38;5;241m=\u001b[39m \u001b[38;5;28mself\u001b[39m\u001b[38;5;241m.\u001b[39m_align_for_op(other)\n\u001b[1;32m-> 6135\u001b[0m     \u001b[38;5;28;01mreturn\u001b[39;00m \u001b[43mbase\u001b[49m\u001b[38;5;241;43m.\u001b[39;49m\u001b[43mIndexOpsMixin\u001b[49m\u001b[38;5;241;43m.\u001b[39;49m\u001b[43m_arith_method\u001b[49m\u001b[43m(\u001b[49m\u001b[38;5;28;43mself\u001b[39;49m\u001b[43m,\u001b[49m\u001b[43m \u001b[49m\u001b[43mother\u001b[49m\u001b[43m,\u001b[49m\u001b[43m \u001b[49m\u001b[43mop\u001b[49m\u001b[43m)\u001b[49m\n",
      "File \u001b[1;32m~\\AppData\\Local\\Programs\\Python\\Python310\\lib\\site-packages\\pandas\\core\\base.py:1382\u001b[0m, in \u001b[0;36mIndexOpsMixin._arith_method\u001b[1;34m(self, other, op)\u001b[0m\n\u001b[0;32m   1379\u001b[0m     rvalues \u001b[38;5;241m=\u001b[39m np\u001b[38;5;241m.\u001b[39marange(rvalues\u001b[38;5;241m.\u001b[39mstart, rvalues\u001b[38;5;241m.\u001b[39mstop, rvalues\u001b[38;5;241m.\u001b[39mstep)\n\u001b[0;32m   1381\u001b[0m \u001b[38;5;28;01mwith\u001b[39;00m np\u001b[38;5;241m.\u001b[39merrstate(\u001b[38;5;28mall\u001b[39m\u001b[38;5;241m=\u001b[39m\u001b[38;5;124m\"\u001b[39m\u001b[38;5;124mignore\u001b[39m\u001b[38;5;124m\"\u001b[39m):\n\u001b[1;32m-> 1382\u001b[0m     result \u001b[38;5;241m=\u001b[39m \u001b[43mops\u001b[49m\u001b[38;5;241;43m.\u001b[39;49m\u001b[43marithmetic_op\u001b[49m\u001b[43m(\u001b[49m\u001b[43mlvalues\u001b[49m\u001b[43m,\u001b[49m\u001b[43m \u001b[49m\u001b[43mrvalues\u001b[49m\u001b[43m,\u001b[49m\u001b[43m \u001b[49m\u001b[43mop\u001b[49m\u001b[43m)\u001b[49m\n\u001b[0;32m   1384\u001b[0m \u001b[38;5;28;01mreturn\u001b[39;00m \u001b[38;5;28mself\u001b[39m\u001b[38;5;241m.\u001b[39m_construct_result(result, name\u001b[38;5;241m=\u001b[39mres_name)\n",
      "File \u001b[1;32m~\\AppData\\Local\\Programs\\Python\\Python310\\lib\\site-packages\\pandas\\core\\ops\\array_ops.py:283\u001b[0m, in \u001b[0;36marithmetic_op\u001b[1;34m(left, right, op)\u001b[0m\n\u001b[0;32m    279\u001b[0m     _bool_arith_check(op, left, right)  \u001b[38;5;66;03m# type: ignore[arg-type]\u001b[39;00m\n\u001b[0;32m    281\u001b[0m     \u001b[38;5;66;03m# error: Argument 1 to \"_na_arithmetic_op\" has incompatible type\u001b[39;00m\n\u001b[0;32m    282\u001b[0m     \u001b[38;5;66;03m# \"Union[ExtensionArray, ndarray[Any, Any]]\"; expected \"ndarray[Any, Any]\"\u001b[39;00m\n\u001b[1;32m--> 283\u001b[0m     res_values \u001b[38;5;241m=\u001b[39m \u001b[43m_na_arithmetic_op\u001b[49m\u001b[43m(\u001b[49m\u001b[43mleft\u001b[49m\u001b[43m,\u001b[49m\u001b[43m \u001b[49m\u001b[43mright\u001b[49m\u001b[43m,\u001b[49m\u001b[43m \u001b[49m\u001b[43mop\u001b[49m\u001b[43m)\u001b[49m  \u001b[38;5;66;03m# type: ignore[arg-type]\u001b[39;00m\n\u001b[0;32m    285\u001b[0m \u001b[38;5;28;01mreturn\u001b[39;00m res_values\n",
      "File \u001b[1;32m~\\AppData\\Local\\Programs\\Python\\Python310\\lib\\site-packages\\pandas\\core\\ops\\array_ops.py:227\u001b[0m, in \u001b[0;36m_na_arithmetic_op\u001b[1;34m(left, right, op, is_cmp)\u001b[0m\n\u001b[0;32m    219\u001b[0m \u001b[38;5;28;01mexcept\u001b[39;00m \u001b[38;5;167;01mTypeError\u001b[39;00m:\n\u001b[0;32m    220\u001b[0m     \u001b[38;5;28;01mif\u001b[39;00m \u001b[38;5;129;01mnot\u001b[39;00m is_cmp \u001b[38;5;129;01mand\u001b[39;00m (\n\u001b[0;32m    221\u001b[0m         left\u001b[38;5;241m.\u001b[39mdtype \u001b[38;5;241m==\u001b[39m \u001b[38;5;28mobject\u001b[39m \u001b[38;5;129;01mor\u001b[39;00m \u001b[38;5;28mgetattr\u001b[39m(right, \u001b[38;5;124m\"\u001b[39m\u001b[38;5;124mdtype\u001b[39m\u001b[38;5;124m\"\u001b[39m, \u001b[38;5;28;01mNone\u001b[39;00m) \u001b[38;5;241m==\u001b[39m \u001b[38;5;28mobject\u001b[39m\n\u001b[0;32m    222\u001b[0m     ):\n\u001b[1;32m   (...)\u001b[0m\n\u001b[0;32m    225\u001b[0m         \u001b[38;5;66;03m# Don't do this for comparisons, as that will handle complex numbers\u001b[39;00m\n\u001b[0;32m    226\u001b[0m         \u001b[38;5;66;03m#  incorrectly, see GH#32047\u001b[39;00m\n\u001b[1;32m--> 227\u001b[0m         result \u001b[38;5;241m=\u001b[39m \u001b[43m_masked_arith_op\u001b[49m\u001b[43m(\u001b[49m\u001b[43mleft\u001b[49m\u001b[43m,\u001b[49m\u001b[43m \u001b[49m\u001b[43mright\u001b[49m\u001b[43m,\u001b[49m\u001b[43m \u001b[49m\u001b[43mop\u001b[49m\u001b[43m)\u001b[49m\n\u001b[0;32m    228\u001b[0m     \u001b[38;5;28;01melse\u001b[39;00m:\n\u001b[0;32m    229\u001b[0m         \u001b[38;5;28;01mraise\u001b[39;00m\n",
      "File \u001b[1;32m~\\AppData\\Local\\Programs\\Python\\Python310\\lib\\site-packages\\pandas\\core\\ops\\array_ops.py:163\u001b[0m, in \u001b[0;36m_masked_arith_op\u001b[1;34m(x, y, op)\u001b[0m\n\u001b[0;32m    161\u001b[0m     \u001b[38;5;66;03m# See GH#5284, GH#5035, GH#19448 for historical reference\u001b[39;00m\n\u001b[0;32m    162\u001b[0m     \u001b[38;5;28;01mif\u001b[39;00m mask\u001b[38;5;241m.\u001b[39many():\n\u001b[1;32m--> 163\u001b[0m         result[mask] \u001b[38;5;241m=\u001b[39m \u001b[43mop\u001b[49m\u001b[43m(\u001b[49m\u001b[43mxrav\u001b[49m\u001b[43m[\u001b[49m\u001b[43mmask\u001b[49m\u001b[43m]\u001b[49m\u001b[43m,\u001b[49m\u001b[43m \u001b[49m\u001b[43myrav\u001b[49m\u001b[43m[\u001b[49m\u001b[43mmask\u001b[49m\u001b[43m]\u001b[49m\u001b[43m)\u001b[49m\n\u001b[0;32m    165\u001b[0m \u001b[38;5;28;01melse\u001b[39;00m:\n\u001b[0;32m    166\u001b[0m     \u001b[38;5;28;01mif\u001b[39;00m \u001b[38;5;129;01mnot\u001b[39;00m is_scalar(y):\n",
      "\u001b[1;31mTypeError\u001b[0m: unsupported operand type(s) for /: 'str' and 'str'"
     ]
    }
   ],
   "source": [
    "gla_cities[\"pop_density\"] = \\\n",
    "gla_cities[\"Population\"]/gla_cities[\"Area km2\"]"
   ]
  },
  {
   "cell_type": "code",
   "execution_count": 61,
   "id": "a7eca0d5-d470-4ca5-9c51-0af882a8adf5",
   "metadata": {},
   "outputs": [
    {
     "data": {
      "text/html": [
       "<div>\n",
       "<style scoped>\n",
       "    .dataframe tbody tr th:only-of-type {\n",
       "        vertical-align: middle;\n",
       "    }\n",
       "\n",
       "    .dataframe tbody tr th {\n",
       "        vertical-align: top;\n",
       "    }\n",
       "\n",
       "    .dataframe thead th {\n",
       "        text-align: right;\n",
       "    }\n",
       "</style>\n",
       "<table border=\"1\" class=\"dataframe\">\n",
       "  <thead>\n",
       "    <tr style=\"text-align: right;\">\n",
       "      <th></th>\n",
       "      <th>City</th>\n",
       "      <th>Country</th>\n",
       "      <th>Population</th>\n",
       "      <th>Area km2</th>\n",
       "      <th>Density in people per hectare</th>\n",
       "      <th>Dwellings</th>\n",
       "      <th>Density in dwellings per hectare</th>\n",
       "      <th>People per dwelling</th>\n",
       "      <th>Approx city radius km</th>\n",
       "      <th>Main topographical constraint</th>\n",
       "      <th>Constraint</th>\n",
       "    </tr>\n",
       "  </thead>\n",
       "  <tbody>\n",
       "    <tr>\n",
       "      <th>1</th>\n",
       "      <td>Greater London</td>\n",
       "      <td>England</td>\n",
       "      <td>8663300.0</td>\n",
       "      <td>1,572</td>\n",
       "      <td>55.0</td>\n",
       "      <td>3,454,490</td>\n",
       "      <td>22.0</td>\n",
       "      <td>2.5</td>\n",
       "      <td>23.0</td>\n",
       "      <td>Rivers</td>\n",
       "      <td>4%</td>\n",
       "    </tr>\n",
       "    <tr>\n",
       "      <th>2</th>\n",
       "      <td>Inner London</td>\n",
       "      <td>England</td>\n",
       "      <td>3439700.0</td>\n",
       "      <td>319</td>\n",
       "      <td>108.0</td>\n",
       "      <td>1,460,840</td>\n",
       "      <td>46.0</td>\n",
       "      <td>2.4</td>\n",
       "      <td>10.0</td>\n",
       "      <td>Rivers</td>\n",
       "      <td>5%</td>\n",
       "    </tr>\n",
       "    <tr>\n",
       "      <th>3</th>\n",
       "      <td>Outer London</td>\n",
       "      <td>England</td>\n",
       "      <td>5223500.0</td>\n",
       "      <td>1,254</td>\n",
       "      <td>42.0</td>\n",
       "      <td>1,993,660</td>\n",
       "      <td>16.0</td>\n",
       "      <td>2.6</td>\n",
       "      <td>NaN</td>\n",
       "      <td>NaN</td>\n",
       "      <td>NaN</td>\n",
       "    </tr>\n",
       "  </tbody>\n",
       "</table>\n",
       "</div>"
      ],
      "text/plain": [
       "              City   Country  Population Area km2  \\\n",
       "1  Greater London   England    8663300.0    1,572   \n",
       "2    Inner London   England    3439700.0      319   \n",
       "3    Outer London   England    5223500.0    1,254   \n",
       "\n",
       "   Density in people per hectare  Dwellings  Density in dwellings per hectare  \\\n",
       "1                           55.0  3,454,490                              22.0   \n",
       "2                          108.0  1,460,840                              46.0   \n",
       "3                           42.0  1,993,660                              16.0   \n",
       "\n",
       "   People per dwelling  Approx city radius km Main topographical constraint  \\\n",
       "1                  2.5                   23.0                       Rivers    \n",
       "2                  2.4                   10.0                       Rivers    \n",
       "3                  2.6                    NaN                           NaN   \n",
       "\n",
       "  Constraint  \n",
       "1         4%  \n",
       "2         5%  \n",
       "3        NaN  "
      ]
     },
     "execution_count": 61,
     "metadata": {},
     "output_type": "execute_result"
    }
   ],
   "source": [
    "gla_cities[\"Population\"] = \\\n",
    "gla_cities[\"Population\"].str.replace(\",\",\"\").astype(float)\n",
    "gla_cities.head(3)"
   ]
  },
  {
   "cell_type": "code",
   "execution_count": 62,
   "id": "abc17411-5481-4d4f-b771-c83840f11fb5",
   "metadata": {},
   "outputs": [],
   "source": [
    "gla_cities[\"Area km2\"] = \\\n",
    "gla_cities[\"Area km2\"].str.replace(\",\",\"\").astype(float)\n",
    "gla_cities[\"Dwellings\"] = \\\n",
    "gla_cities[\"Dwellings\"].str.replace(\",\",\"\").astype(float)"
   ]
  },
  {
   "cell_type": "code",
   "execution_count": 63,
   "id": "6209a873-c5d7-46d3-9bfb-1c5a3fc81dd3",
   "metadata": {},
   "outputs": [
    {
     "data": {
      "text/plain": [
       "1     5511.005089\n",
       "2    10782.758621\n",
       "3     4165.470494\n",
       "Name: pop_density, dtype: float64"
      ]
     },
     "execution_count": 63,
     "metadata": {},
     "output_type": "execute_result"
    }
   ],
   "source": [
    "gla_cities[\"pop_density\"] = \\\n",
    "gla_cities[\"Population\"]/gla_cities[\"Area km2\"]\n",
    "gla_cities[\"pop_density\"].head(3)"
   ]
  },
  {
   "cell_type": "code",
   "execution_count": 65,
   "id": "a70657be-ad9b-4f09-9a20-7cfa5edfa3bf",
   "metadata": {},
   "outputs": [
    {
     "data": {
      "text/html": [
       "<div>\n",
       "<style scoped>\n",
       "    .dataframe tbody tr th:only-of-type {\n",
       "        vertical-align: middle;\n",
       "    }\n",
       "\n",
       "    .dataframe tbody tr th {\n",
       "        vertical-align: top;\n",
       "    }\n",
       "\n",
       "    .dataframe thead th {\n",
       "        text-align: right;\n",
       "    }\n",
       "</style>\n",
       "<table border=\"1\" class=\"dataframe\">\n",
       "  <thead>\n",
       "    <tr style=\"text-align: right;\">\n",
       "      <th></th>\n",
       "      <th>City</th>\n",
       "      <th>Country</th>\n",
       "      <th>Population</th>\n",
       "      <th>Area km2</th>\n",
       "      <th>Density in people per hectare</th>\n",
       "      <th>Dwellings</th>\n",
       "      <th>Density in dwellings per hectare</th>\n",
       "      <th>People per dwelling</th>\n",
       "      <th>Approx city radius km</th>\n",
       "      <th>Main topographical constraint</th>\n",
       "      <th>Constraint</th>\n",
       "      <th>pop_density</th>\n",
       "      <th>Population (M)</th>\n",
       "    </tr>\n",
       "  </thead>\n",
       "  <tbody>\n",
       "    <tr>\n",
       "      <th>1</th>\n",
       "      <td>Greater London</td>\n",
       "      <td>England</td>\n",
       "      <td>8663300.0</td>\n",
       "      <td>1572.0</td>\n",
       "      <td>55.0</td>\n",
       "      <td>3454490.0</td>\n",
       "      <td>22.0</td>\n",
       "      <td>2.5</td>\n",
       "      <td>23.0</td>\n",
       "      <td>Rivers</td>\n",
       "      <td>4%</td>\n",
       "      <td>5511.005089</td>\n",
       "      <td>8.6633</td>\n",
       "    </tr>\n",
       "    <tr>\n",
       "      <th>2</th>\n",
       "      <td>Inner London</td>\n",
       "      <td>England</td>\n",
       "      <td>3439700.0</td>\n",
       "      <td>319.0</td>\n",
       "      <td>108.0</td>\n",
       "      <td>1460840.0</td>\n",
       "      <td>46.0</td>\n",
       "      <td>2.4</td>\n",
       "      <td>10.0</td>\n",
       "      <td>Rivers</td>\n",
       "      <td>5%</td>\n",
       "      <td>10782.758621</td>\n",
       "      <td>3.4397</td>\n",
       "    </tr>\n",
       "    <tr>\n",
       "      <th>3</th>\n",
       "      <td>Outer London</td>\n",
       "      <td>England</td>\n",
       "      <td>5223500.0</td>\n",
       "      <td>1254.0</td>\n",
       "      <td>42.0</td>\n",
       "      <td>1993660.0</td>\n",
       "      <td>16.0</td>\n",
       "      <td>2.6</td>\n",
       "      <td>NaN</td>\n",
       "      <td>NaN</td>\n",
       "      <td>NaN</td>\n",
       "      <td>4165.470494</td>\n",
       "      <td>5.2235</td>\n",
       "    </tr>\n",
       "  </tbody>\n",
       "</table>\n",
       "</div>"
      ],
      "text/plain": [
       "              City   Country  Population  Area km2  \\\n",
       "1  Greater London   England    8663300.0    1572.0   \n",
       "2    Inner London   England    3439700.0     319.0   \n",
       "3    Outer London   England    5223500.0    1254.0   \n",
       "\n",
       "   Density in people per hectare  Dwellings  Density in dwellings per hectare  \\\n",
       "1                           55.0  3454490.0                              22.0   \n",
       "2                          108.0  1460840.0                              46.0   \n",
       "3                           42.0  1993660.0                              16.0   \n",
       "\n",
       "   People per dwelling  Approx city radius km Main topographical constraint  \\\n",
       "1                  2.5                   23.0                       Rivers    \n",
       "2                  2.4                   10.0                       Rivers    \n",
       "3                  2.6                    NaN                           NaN   \n",
       "\n",
       "  Constraint   pop_density  Population (M)  \n",
       "1         4%   5511.005089          8.6633  \n",
       "2         5%  10782.758621          3.4397  \n",
       "3        NaN   4165.470494          5.2235  "
      ]
     },
     "execution_count": 65,
     "metadata": {},
     "output_type": "execute_result"
    }
   ],
   "source": [
    "gla_cities[\"Population (M)\"] = gla_cities[\"Population\"]/1000000 \n",
    "gla_cities.head(3)"
   ]
  },
  {
   "cell_type": "code",
   "execution_count": 67,
   "id": "caf6c4bf-6d23-4097-87e9-678a89cc5370",
   "metadata": {},
   "outputs": [],
   "source": [
    "def city_size(x):\n",
    "    if x < 1.5:\n",
    "        s = \"Small\"\n",
    "    elif 1.5 <= x < 3:\n",
    "        s = \"Medium\"\n",
    "    elif 3 <= x < 5:\n",
    "        s = \"Large\"\n",
    "    else:\n",
    "        s = \"Mega\"\n",
    "    return s"
   ]
  },
  {
   "cell_type": "code",
   "execution_count": 68,
   "id": "56bf0e1c-d89f-4564-8b37-37f4ed173d52",
   "metadata": {},
   "outputs": [
    {
     "data": {
      "text/html": [
       "<div>\n",
       "<style scoped>\n",
       "    .dataframe tbody tr th:only-of-type {\n",
       "        vertical-align: middle;\n",
       "    }\n",
       "\n",
       "    .dataframe tbody tr th {\n",
       "        vertical-align: top;\n",
       "    }\n",
       "\n",
       "    .dataframe thead th {\n",
       "        text-align: right;\n",
       "    }\n",
       "</style>\n",
       "<table border=\"1\" class=\"dataframe\">\n",
       "  <thead>\n",
       "    <tr style=\"text-align: right;\">\n",
       "      <th></th>\n",
       "      <th>City</th>\n",
       "      <th>Country</th>\n",
       "      <th>Population</th>\n",
       "      <th>Area km2</th>\n",
       "      <th>Density in people per hectare</th>\n",
       "      <th>Dwellings</th>\n",
       "      <th>Density in dwellings per hectare</th>\n",
       "      <th>People per dwelling</th>\n",
       "      <th>Approx city radius km</th>\n",
       "      <th>Main topographical constraint</th>\n",
       "      <th>Constraint</th>\n",
       "      <th>pop_density</th>\n",
       "      <th>Population (M)</th>\n",
       "      <th>City Size</th>\n",
       "    </tr>\n",
       "  </thead>\n",
       "  <tbody>\n",
       "    <tr>\n",
       "      <th>1</th>\n",
       "      <td>Greater London</td>\n",
       "      <td>England</td>\n",
       "      <td>8663300.0</td>\n",
       "      <td>1572.0</td>\n",
       "      <td>55.0</td>\n",
       "      <td>3454490.0</td>\n",
       "      <td>22.0</td>\n",
       "      <td>2.5</td>\n",
       "      <td>23.0</td>\n",
       "      <td>Rivers</td>\n",
       "      <td>4%</td>\n",
       "      <td>5511.005089</td>\n",
       "      <td>8.6633</td>\n",
       "      <td>Mega</td>\n",
       "    </tr>\n",
       "    <tr>\n",
       "      <th>2</th>\n",
       "      <td>Inner London</td>\n",
       "      <td>England</td>\n",
       "      <td>3439700.0</td>\n",
       "      <td>319.0</td>\n",
       "      <td>108.0</td>\n",
       "      <td>1460840.0</td>\n",
       "      <td>46.0</td>\n",
       "      <td>2.4</td>\n",
       "      <td>10.0</td>\n",
       "      <td>Rivers</td>\n",
       "      <td>5%</td>\n",
       "      <td>10782.758621</td>\n",
       "      <td>3.4397</td>\n",
       "      <td>Large</td>\n",
       "    </tr>\n",
       "    <tr>\n",
       "      <th>3</th>\n",
       "      <td>Outer London</td>\n",
       "      <td>England</td>\n",
       "      <td>5223500.0</td>\n",
       "      <td>1254.0</td>\n",
       "      <td>42.0</td>\n",
       "      <td>1993660.0</td>\n",
       "      <td>16.0</td>\n",
       "      <td>2.6</td>\n",
       "      <td>NaN</td>\n",
       "      <td>NaN</td>\n",
       "      <td>NaN</td>\n",
       "      <td>4165.470494</td>\n",
       "      <td>5.2235</td>\n",
       "      <td>Mega</td>\n",
       "    </tr>\n",
       "  </tbody>\n",
       "</table>\n",
       "</div>"
      ],
      "text/plain": [
       "              City   Country  Population  Area km2  \\\n",
       "1  Greater London   England    8663300.0    1572.0   \n",
       "2    Inner London   England    3439700.0     319.0   \n",
       "3    Outer London   England    5223500.0    1254.0   \n",
       "\n",
       "   Density in people per hectare  Dwellings  Density in dwellings per hectare  \\\n",
       "1                           55.0  3454490.0                              22.0   \n",
       "2                          108.0  1460840.0                              46.0   \n",
       "3                           42.0  1993660.0                              16.0   \n",
       "\n",
       "   People per dwelling  Approx city radius km Main topographical constraint  \\\n",
       "1                  2.5                   23.0                       Rivers    \n",
       "2                  2.4                   10.0                       Rivers    \n",
       "3                  2.6                    NaN                           NaN   \n",
       "\n",
       "  Constraint   pop_density  Population (M) City Size  \n",
       "1         4%   5511.005089          8.6633      Mega  \n",
       "2         5%  10782.758621          3.4397     Large  \n",
       "3        NaN   4165.470494          5.2235      Mega  "
      ]
     },
     "execution_count": 68,
     "metadata": {},
     "output_type": "execute_result"
    }
   ],
   "source": [
    "gla_cities[\"City Size\"] = \\\n",
    "gla_cities[\"Population (M)\"].apply(city_size)\n",
    "gla_cities.head(3)"
   ]
  },
  {
   "cell_type": "code",
   "execution_count": 69,
   "id": "423ac954-be81-4e5f-bafe-2aff60e92690",
   "metadata": {},
   "outputs": [
    {
     "data": {
      "text/html": [
       "<div>\n",
       "<style scoped>\n",
       "    .dataframe tbody tr th:only-of-type {\n",
       "        vertical-align: middle;\n",
       "    }\n",
       "\n",
       "    .dataframe tbody tr th {\n",
       "        vertical-align: top;\n",
       "    }\n",
       "\n",
       "    .dataframe thead th {\n",
       "        text-align: right;\n",
       "    }\n",
       "</style>\n",
       "<table border=\"1\" class=\"dataframe\">\n",
       "  <thead>\n",
       "    <tr style=\"text-align: right;\">\n",
       "      <th></th>\n",
       "      <th>City</th>\n",
       "      <th>Country</th>\n",
       "      <th>Population</th>\n",
       "      <th>Area km2</th>\n",
       "      <th>Density in people per hectare</th>\n",
       "      <th>Dwellings</th>\n",
       "      <th>Density in dwellings per hectare</th>\n",
       "      <th>People per dwelling</th>\n",
       "      <th>Approx city radius km</th>\n",
       "      <th>Main topographical constraint</th>\n",
       "      <th>Constraint</th>\n",
       "      <th>pop_density</th>\n",
       "      <th>Population (M)</th>\n",
       "      <th>City Size</th>\n",
       "    </tr>\n",
       "  </thead>\n",
       "  <tbody>\n",
       "    <tr>\n",
       "      <th>5</th>\n",
       "      <td>Lyon</td>\n",
       "      <td>France</td>\n",
       "      <td>500715.0</td>\n",
       "      <td>48.0</td>\n",
       "      <td>105.0</td>\n",
       "      <td>265599.0</td>\n",
       "      <td>55.0</td>\n",
       "      <td>1.9</td>\n",
       "      <td>7.0</td>\n",
       "      <td>Rivers</td>\n",
       "      <td>5%</td>\n",
       "      <td>10431.562500</td>\n",
       "      <td>0.500715</td>\n",
       "      <td>Small</td>\n",
       "    </tr>\n",
       "    <tr>\n",
       "      <th>9</th>\n",
       "      <td>Sevilla</td>\n",
       "      <td>Spain</td>\n",
       "      <td>693878.0</td>\n",
       "      <td>141.0</td>\n",
       "      <td>49.0</td>\n",
       "      <td>268435.0</td>\n",
       "      <td>19.0</td>\n",
       "      <td>2.6</td>\n",
       "      <td>7.0</td>\n",
       "      <td>Rivers</td>\n",
       "      <td>3%</td>\n",
       "      <td>4921.120567</td>\n",
       "      <td>0.693878</td>\n",
       "      <td>Small</td>\n",
       "    </tr>\n",
       "    <tr>\n",
       "      <th>12</th>\n",
       "      <td>Boston</td>\n",
       "      <td>United States</td>\n",
       "      <td>617594.0</td>\n",
       "      <td>125.0</td>\n",
       "      <td>49.0</td>\n",
       "      <td>272481.0</td>\n",
       "      <td>22.0</td>\n",
       "      <td>2.3</td>\n",
       "      <td>6.0</td>\n",
       "      <td>Coast</td>\n",
       "      <td>30%</td>\n",
       "      <td>4940.752000</td>\n",
       "      <td>0.617594</td>\n",
       "      <td>Small</td>\n",
       "    </tr>\n",
       "  </tbody>\n",
       "</table>\n",
       "</div>"
      ],
      "text/plain": [
       "        City         Country  Population  Area km2  \\\n",
       "5      Lyon          France     500715.0      48.0   \n",
       "9   Sevilla           Spain     693878.0     141.0   \n",
       "12   Boston   United States     617594.0     125.0   \n",
       "\n",
       "    Density in people per hectare  Dwellings  \\\n",
       "5                           105.0   265599.0   \n",
       "9                            49.0   268435.0   \n",
       "12                           49.0   272481.0   \n",
       "\n",
       "    Density in dwellings per hectare  People per dwelling  \\\n",
       "5                               55.0                  1.9   \n",
       "9                               19.0                  2.6   \n",
       "12                              22.0                  2.3   \n",
       "\n",
       "    Approx city radius km Main topographical constraint Constraint  \\\n",
       "5                     7.0                        Rivers         5%   \n",
       "9                     7.0                        Rivers         3%   \n",
       "12                    6.0                         Coast        30%   \n",
       "\n",
       "     pop_density  Population (M) City Size  \n",
       "5   10431.562500        0.500715     Small  \n",
       "9    4921.120567        0.693878     Small  \n",
       "12   4940.752000        0.617594     Small  "
      ]
     },
     "execution_count": 69,
     "metadata": {},
     "output_type": "execute_result"
    }
   ],
   "source": [
    "gla_cities[gla_cities[\"City Size\"]==\"Small\"]"
   ]
  },
  {
   "cell_type": "code",
   "execution_count": 70,
   "id": "ac1f6836-425f-4060-bf19-47084f29eb62",
   "metadata": {},
   "outputs": [
    {
     "data": {
      "text/html": [
       "<div>\n",
       "<style scoped>\n",
       "    .dataframe tbody tr th:only-of-type {\n",
       "        vertical-align: middle;\n",
       "    }\n",
       "\n",
       "    .dataframe tbody tr th {\n",
       "        vertical-align: top;\n",
       "    }\n",
       "\n",
       "    .dataframe thead th {\n",
       "        text-align: right;\n",
       "    }\n",
       "</style>\n",
       "<table border=\"1\" class=\"dataframe\">\n",
       "  <thead>\n",
       "    <tr style=\"text-align: right;\">\n",
       "      <th></th>\n",
       "      <th>City</th>\n",
       "      <th>Population (M)</th>\n",
       "    </tr>\n",
       "  </thead>\n",
       "  <tbody>\n",
       "    <tr>\n",
       "      <th>1</th>\n",
       "      <td>Greater London</td>\n",
       "      <td>8.663300</td>\n",
       "    </tr>\n",
       "    <tr>\n",
       "      <th>10</th>\n",
       "      <td>New York (City)</td>\n",
       "      <td>8.491079</td>\n",
       "    </tr>\n",
       "    <tr>\n",
       "      <th>16</th>\n",
       "      <td>Tokyo (Special Wards Area)</td>\n",
       "      <td>9.272565</td>\n",
       "    </tr>\n",
       "  </tbody>\n",
       "</table>\n",
       "</div>"
      ],
      "text/plain": [
       "                           City  Population (M)\n",
       "1               Greater London         8.663300\n",
       "10             New York (City)         8.491079\n",
       "16  Tokyo (Special Wards Area)         9.272565"
      ]
     },
     "execution_count": 70,
     "metadata": {},
     "output_type": "execute_result"
    }
   ],
   "source": [
    "gla_cities[[\"City\",\"Population (M)\"]][gla_cities[\"Population (M)\"]>8]"
   ]
  },
  {
   "cell_type": "code",
   "execution_count": 71,
   "id": "f89ab9f1-77bc-42d1-ab03-fc77e0fd5c72",
   "metadata": {},
   "outputs": [
    {
     "data": {
      "text/plain": [
       "City Size\n",
       "Large     4\n",
       "Medium    5\n",
       "Mega      5\n",
       "Small     3\n",
       "dtype: int64"
      ]
     },
     "execution_count": 71,
     "metadata": {},
     "output_type": "execute_result"
    }
   ],
   "source": [
    "gla_grouped = gla_cities.groupby(\"City Size\")\n",
    "gla_grouped.size()"
   ]
  },
  {
   "cell_type": "code",
   "execution_count": 72,
   "id": "c5cd31c7-d3c0-4ac2-9859-409274aec9fa",
   "metadata": {},
   "outputs": [
    {
     "data": {
      "text/plain": [
       "City Size\n",
       "Large     3.488563\n",
       "Medium    2.324692\n",
       "Mega      7.625415\n",
       "Small     0.604062\n",
       "Name: Population (M), dtype: float64"
      ]
     },
     "execution_count": 72,
     "metadata": {},
     "output_type": "execute_result"
    }
   ],
   "source": [
    "gla_grouped[\"Population (M)\"].mean()"
   ]
  },
  {
   "cell_type": "code",
   "execution_count": 74,
   "id": "9c4586ca-085a-48aa-83c3-2d141147f04f",
   "metadata": {},
   "outputs": [
    {
     "data": {
      "text/plain": [
       "City Size\n",
       "Large     3.141991\n",
       "Medium    1.604555\n",
       "Mega      5.223500\n",
       "Small     0.500715\n",
       "Name: Population (M), dtype: float64"
      ]
     },
     "execution_count": 74,
     "metadata": {},
     "output_type": "execute_result"
    }
   ],
   "source": [
    "gla_grouped[\"Population (M)\"].min()"
   ]
  },
  {
   "cell_type": "markdown",
   "id": "f1b22231-13dc-49cd-836a-fdaf5021da43",
   "metadata": {},
   "source": [
    "### <span style=\"color:rgb(160,0,86)\">Aufgabe 1</span>\n",
    "\n",
    "Diese Aufgabe befasst wir uns mit dem Datensatz **weather.csv** im Ordner Daten.\n",
    "\n",
    "- Laden Sie den Datensatz und speichern Sie diesen unter der Variable **data**.\n",
    "- Wählen Sie den Wert der zweiten Zeile und dritten Spalte aus.\n",
    "- Wählen Sie die 4. Zeile aus.\n",
    "- Wählen Sie die 1. und die 4. Spalte aus.\n",
    "- Ersetzen Sie den Spalten Basel durch Genf.\n",
    "- Bestimmen Sie die mittleren Temperaturen aller Städte.\n",
    "- Bestimmen Sie die mittleren Temperaturen aller Monate.\n",
    "- Ergänzen Sie eine Spalte mit den mittleren monatlichen Temperaturen."
   ]
  },
  {
   "cell_type": "code",
   "execution_count": null,
   "id": "1528b131-f566-4002-8800-84d6d65c5dea",
   "metadata": {},
   "outputs": [],
   "source": [
    "# To do!"
   ]
  },
  {
   "cell_type": "markdown",
   "id": "940af48f-22e1-4363-a5ed-5e21db3fc721",
   "metadata": {},
   "source": [
    "### <span style=\"color:rgb(160,0,86)\">Aufgabe 2</span>\n",
    "\n",
    "Das Dataframe **d.fuel** im Ordner Daten enthält die Daten verschiedener Fahrzeuge aus einer amerikanischen Untersuchung der 80er-Jahre. Jede Zeile enthält die Daten eines\n",
    "Fahrzeuges (ein Fahrzeug entspricht einer statistischen Einheit).\n",
    "\n",
    "- Laden Sie das Dataframe.\n",
    "- Beschreiben Sie die Ausprägung der Merkmale.\n",
    "- Wählen Sie die fünfte Zeile des Dataframe aus.\n",
    "- Welche Werte stehen in der fünften Zeile?\n",
    "- Wählen Sie die erste bis fünfte Beobachtung des Dataframes aus.\n",
    "- Zeigen Sie gleichzeitig die 1. bis 3. und die 57. bis 60. Beobachtung des Dataframes an.\n",
    "- Ergänzen Sie eine Spale mit den Mittelwert der Reichweiten aller Autos in Miles/Gallon.\n",
    "- Berechnen Sie den Mittelwert der Reichweite der Autos 7 bis 22.\n",
    "- Ergänzen Sie eine Spalte **t.kml**, die alle Reichweiten in km/l, und\n",
    "eine Spalte **t.kg**, der alle Gewichte in kg enthält.\n",
    "- Berechnen Sie den Mittelwert der Reichweiten in km/l und denjenigen der Fahrzeuggewichte in kg.\n",
    "- Bestimmen Sie das mittlere Gewicht der Sportwagen (*Sporty*)."
   ]
  },
  {
   "cell_type": "code",
   "execution_count": null,
   "id": "51bf0f43-9118-4e1e-bd06-15ffa32948c7",
   "metadata": {},
   "outputs": [],
   "source": [
    "# To do!"
   ]
  },
  {
   "cell_type": "markdown",
   "id": "afc58872-4e9b-44ca-97e9-2b7c5f4e62f7",
   "metadata": {},
   "source": [
    "![HSLU](Bilder/LogoHSLU.png)"
   ]
  }
 ],
 "metadata": {
  "kernelspec": {
   "display_name": "Python 3 (ipykernel)",
   "language": "python",
   "name": "python3"
  },
  "language_info": {
   "codemirror_mode": {
    "name": "ipython",
    "version": 3
   },
   "file_extension": ".py",
   "mimetype": "text/x-python",
   "name": "python",
   "nbconvert_exporter": "python",
   "pygments_lexer": "ipython3",
   "version": "3.10.6"
  }
 },
 "nbformat": 4,
 "nbformat_minor": 5
}
