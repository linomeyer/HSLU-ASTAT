{
 "cells": [
  {
   "cell_type": "markdown",
   "id": "f8edfe32-7c29-46a2-939f-a0d3f4e6fa2b",
   "metadata": {},
   "source": [
    "# <span style=\"color:rgb(160,0,86)\">Zusammenhangsanalyse</span>\n",
    "\n",
    "***"
   ]
  },
  {
   "cell_type": "markdown",
   "id": "efc2b411-5d0c-45cd-a36d-deb3a678be0e",
   "metadata": {},
   "source": [
    "## <span style=\"color:rgb(160,0,86)\">Lernziele</span>\n",
    "\n",
    "- Sie verstehen den Sinn einer Zusammenhangsanalyse.\n",
    "- Sie können eine Kontingenztafel lesen. \n",
    "- Sie können für nominale Daten den korrigierten Kontingenzkoeffizienten berechnen.\n",
    "- Sie können den  und interpretieren.    \n",
    "\n",
    "***"
   ]
  },
  {
   "cell_type": "markdown",
   "id": "e1aeb5b2-eafa-4db1-b3d5-9b13de1f83fe",
   "metadata": {},
   "source": [
    "### <span style=\"color:rgb(160,0,86)\">Was ist eine Zusammenhangsanalyse?</span>\n",
    "\n",
    "Die Zusammenhangsanalyse ist ein Teilbereich der Statistik, das sich mit der Frage beschäftigt, ob und wie stark zwei oder mehr *Merkmale miteinander zusammenhängen*. Ziel ist es, **Beziehungen zwischen Variablen** zu erkennen, zu beschreiben und gegebenenfalls zu quantifizieren.\n",
    "\n",
    "Je nach Art der Merkmale unterscheidet man verschiedene Verfahren:\n",
    "\n",
    "- Für **nominale Merkmale** (z.B. Geschlecht, Rauchverhalten, usw.) können wir untersuchen, ob sich die relativen **Häufigkeiten unter den Merkmalen** unterscheiden.\n",
    "\n",
    "- Für **ordinale Merkmale** (z.B. Schulnoten, Zufriedenheitsbewertungen, usw.) können wir zusätzlich prüfen, ob es einen *gerichteten Zusammenhang gibt*, die Merkmale miteinander steigen, entgegengesetzt verlaufen oder gar nichts miteinander zu tun haben. Ein **positiver Zusammenhang** besteht: Wenn ein Merkmal steigt, dann steigt auch das andere Merkmal. Ein **negativer Zusammenhang** besteht: Wenn ein Merkmal steigt, dann sinkt das andere Merkmal.\n",
    "\n",
    "- Für **metrische Merkmale** (z.B. Körpergrösse, Gewicht, usw.) können wir zudem untersuchen, ob ein **linearer Zusammenhang**, also eine *Korrelation* besteht. Das ist möglich, wenn zahlenwertige Daten vorliegen, die auf  Zahlenachsen fest lokalisiert sind.  \n",
    "\n",
    "<span style=\"color:rgb(160,0,86)\">***Die Zusammenhangsanalyse ist wichtig, um Muster in Daten zu erkennen und fundierte Entscheidungen auf Basis von Daten zu treffen.***</span>\n",
    "\n",
    "***"
   ]
  },
  {
   "cell_type": "markdown",
   "id": "2e06298c-4330-47c3-8648-09690e76b5d3",
   "metadata": {},
   "source": [
    "### <span style=\"color:rgb(160,0,86)\">Wie untersuchen wir Zusammenhang in nominalen Daten?</span>\n",
    "\n",
    "Eine **Kontingenztafel** ist eine tabellarische Darstellung, mit der man die **gemeinsame Häufigkeit** zweier Merkmale $\\pmb{A}$ und $\\pmb{B}$ zeigt. Sie hilft dabei, *Zusammenhänge* oder *Abhängigkeiten* zwischen diesen Merkmalen zu analysieren.\n",
    "\n",
    "In dieser Tabel wird für jeden Wert $a_1, a_2, a_3, \\ldots$ des Merkmals $\\pmb{A}$ und für jeden Wert $b_1, b_2, b_3, \\ldots$ des Merkmals $\\pmb{B}$ angegeben, wie viele statistische Einheiten die Werte $a_i$ und $b_j$ haben: \n",
    "\n",
    "$$\\begin{array}{c|cccc|c}\n",
    "    & b_1 & b_2 & b_3 & \\cdots & \\\\ \\hline \n",
    "a_1 & n(a_1,b_1) & n(a_1,b_2) & n(a_1,b_3) & \\cdots & n(a_1)\\\\\n",
    "a_2 & n(a_2,b_1) & n(a_2,b_2) & n(a_2,b_3) & \\cdots & n(a_2)\\\\\n",
    "a_3 & n(a_3,b_1) & n(a_3,b_2) & n(a_3,b_3) & \\cdots & n(a_3)\\\\\n",
    "\\vdots & \\vdots & \\vdots & \\vdots & \\ddots & \\vdots\\\\ \\hline\n",
    "    & n(b_1) & n(b_2) & n(b_3) & \\cdots & n\n",
    "\\end{array}$$\n",
    "\n",
    "wobei $n(a_i)$ die **Zeilensummen**, $n(b_j)$ die **Spaltensummen** und $n$ die **Gesamtsumme** ist. Wenn wir alle diese absoluten Häufigkeiten durch $n$ dividieren, finden wir die **relativen Häufigkeiten**  \n",
    "\n",
    "$$\\begin{array}{c|cccc|c}\n",
    "    & b_1 & b_2 & b_3 & \\cdots & \\\\ \\hline \n",
    "a_1 & h(a_1,b_1) & h(a_1,b_2) & h(a_1,b_3) & \\cdots & h(a_1)\\\\\n",
    "a_2 & h(a_2,b_1) & h(a_2,b_2) & h(a_2,b_3) & \\cdots & h(a_2)\\\\\n",
    "a_3 & h(a_3,b_1) & h(a_3,b_2) & h(a_3,b_3) & \\cdots & h(a_3)\\\\\n",
    "\\vdots & \\vdots & \\vdots & \\vdots & \\ddots & \\vdots\\\\ \\hline\n",
    "    & h(b_1) & h(b_2) & h(b_3) & \\cdots & 1\n",
    "\\end{array}$$\n",
    "\n",
    "\n",
    "Die zwei Merkmale $\\pmb{A}$ und $\\pmb{B}$ sind **unabhängig**, wenn\n",
    "- die Verteilungen des Merkmals $\\pmb{A}$ für alle Werte $b_1, b_2, b_3, \\ldots$ mit der **Randverteilung** übereinstimmt: $$\\frac{n(a_i,b_1)}{n(b_1)}=\\frac{n(a_i,b_2)}{n(b_2)}=\\frac{n(a_i,b_3)}{n(b_3)}=\\ldots=\\pmb{\\frac{n(a_i)}{n}}=\\pmb{h(a_i)}\\;\\,\\text{ für alle Werte } a_i$$\n",
    "- und die Verteilungen des Merkmals $\\pmb{B}$ für alle Werte $a_1, a_2, a_3, \\ldots$ mit der **Randverteilung** übereinstimmt: $$\\frac{n(a_1,b_j)}{n(a_1)}=\\frac{n(a_2,b_j)}{n(a_2)}=\\frac{n(a_3,b_j)}{n(a_3)}=\\ldots=\\pmb{\\frac{n(b_j)}{n}}=\\pmb{h(b_j)}\\;\\,\\text{ für alle Werte } b_j$$\n",
    "\n",
    "### <span style=\"color:rgb(160,0,86)\">Zum Beispiel</span>\n",
    "\n",
    "Die folgenden zwei Merkmale $\\pmb{A}$ und $\\pmb{B}$ mit der Kontingenztafel\n",
    "$$\\begin{array}{c|ccccc|c}\n",
    "    & b_1 & b_2 & b_3 & b_4 & b_5 &\\\\ \\hline \n",
    "a_1 & 16 & 4 & 20 &  8 & 2 & 50\\\\\n",
    "a_2 & 24 & 6 & 30 & 12 & 3 & 75\\\\ \\hline\n",
    "    & 40 & 10 & 50 & 20 & 5 & 125\n",
    "\\end{array}$$\n",
    "sind **unabhängig**. Denn es gilt für die Verteilung von $\\pmb{A}$\n",
    "$$h(a_1)=\\frac{16}{40}=\\frac{4}{10}=\\frac{20}{50}=\\frac{8}{20}=\\frac{2}{5}=\\pmb{\\frac{50}{125}}=\\pmb{0.4}$$\n",
    "$$h(a_2)=\\frac{24}{40}=\\frac{6}{10}=\\frac{30}{50}=\\frac{12}{20}=\\frac{3}{5}=\\pmb{\\frac{75}{125}}=\\pmb{0.6}$$\n",
    "und für die Verteilung von $\\pmb{B}$\n",
    "$$h(b_1)=\\frac{16}{50}=\\frac{24}{75}=\\pmb{\\frac{40}{125}}=\\pmb{0.32}$$\n",
    "$$h(b_2)=\\frac{4}{50}=\\frac{6}{75}=\\pmb{\\frac{10}{125}}=\\pmb{0.08}$$\n",
    "$$h(b_3)=\\frac{20}{50}=\\frac{30}{75}=\\pmb{\\frac{50}{125}}=\\pmb{0.40}$$\n",
    "$$h(b_4)=\\frac{8}{50}=\\frac{12}{75}=\\pmb{\\frac{20}{125}}=\\pmb{0.16}$$\n",
    "$$h(b_5)=\\frac{2}{50}=\\frac{3}{75}=\\pmb{\\frac{5}{125}}=\\pmb{0.04}$$\n",
    "Wenn wir die **relativen Häufigkeiten** berechnen\n",
    "$$\\begin{array}{c|ccccc|c}\n",
    "    & b_1 & b_2 & b_3 & b_4 & b_5 &\\\\ \\hline \n",
    "a_1 & 0.128 & 0.032 & 0.160 &  0.064 & 0.016 & 0.4\\\\\n",
    "a_2 & 0.192 & 0.048 & 0.240 & 0.096 & 0.024 & 0.6\\\\ \\hline\n",
    "    & 0.32 & 0.08 & 0.40 & 0.16 & 0.04 & 1\n",
    "\\end{array}$$\n",
    "stellen wir fest, dass **bei unabhängigen Merkmalen** die relative Häufigkeit für die Werte $a_i$ und $b_j$ jeweils das **Produkt der Randverteilungen** ist:\n",
    "$$\\pmb{h(a_i,b_j)=h(a_i)\\cdot h(b_j)} $$\n"
   ]
  },
  {
   "cell_type": "code",
   "id": "82631cd7-5a3c-4626-8763-1762f6fb28df",
   "metadata": {
    "ExecuteTime": {
     "end_time": "2025-04-14T07:34:24.927808Z",
     "start_time": "2025-04-14T07:34:24.808733Z"
    }
   },
   "source": [
    "from unittest.mock import inplace\n",
    "\n",
    "import numpy as np\n",
    "\n",
    "h_A = np.array([0.4, 0.6]).reshape(2, 1)\n",
    "h_B = np.array([0.32, 0.08, 0.40, 0.16, 0.04]).reshape(1, 5)\n",
    "h_A * h_B"
   ],
   "outputs": [
    {
     "data": {
      "text/plain": [
       "array([[0.128, 0.032, 0.16 , 0.064, 0.016],\n",
       "       [0.192, 0.048, 0.24 , 0.096, 0.024]])"
      ]
     },
     "execution_count": 1,
     "metadata": {},
     "output_type": "execute_result"
    }
   ],
   "execution_count": 1
  },
  {
   "cell_type": "markdown",
   "id": "50d1e641-f871-4da2-995b-128e52fbd08e",
   "metadata": {},
   "source": [
    "Im Allgemeinen sind zwei Merkmale nicht unabhängig. Einen **extrem starken Zusammenhang** haben etwa die Merkmale $\\pmb{C}$ und $\\pmb{D}$ mit der Kontingenztafel \n",
    "$$\\begin{array}{c|ccc|c}\n",
    "    & d_1 & d_2 & d_3 &\\\\ \\hline \n",
    "c_1 & 40 & 0 & 0 &  40\\\\\n",
    "c_2 & 0 & 40 & 20 & 60\\\\ \\hline\n",
    "    & 40 & 40 & 20 & 100\n",
    "\\end{array}$$\n",
    "Die Verteilung des Merkmals $\\pmb{C}$ für die Werte $d_1$, $d_2$ und $d_3$ und die Verteilung des Merkmals $\\pmb{D}$ für die Werte $c_1$ und $c_2$ sind nicht gleich wie die Randverteilungen. Wir können sogar aus dem Merkmal $\\pmb{D}$ eindeutig auf das Merkmal $\\pmb{C}$ schliessen.\n",
    "\n",
    "***\n",
    "\n",
    "Wie bei den **Masszahlen** zur Charakterisierung von der **Lage** und der **Streuung** *eines Merkmals*, können wir nun auch eine **Masszahl** für die **Unabhängigkeit** *zweier Merkmale* berechnen: \n",
    "- Zuerst bestimmen wir über alle Zeilen und Spalten der Kontingenztafel die Summe der quadrierten Pearson-Residuen $$\\pmb{\\chi^2 = \\sum_{i,j}\\frac{\\big(h(a_i,b_j)-h(a_i)\\cdot h(b_j)\\big)^2}{h(a_i)\\cdot h(b_j)}} $$\n",
    "Wenn die Merkmale $\\pmb{A}$ und $\\pmb{B}$ **unabhängig** sind, dann ist $\\pmb{\\chi^2}=0$. Man kann zeigen, dass immer $$0\\leqslant \\chi^2 \\leqslant \\pmb{\\min\\{\\text{Anzahl Zeilen},\\text{Anzahl Spalten}\\}-1} = \\pmb{C_{\\text{max}}}$$ gilt. Dieser Wert kann also für grosse Datensätze ($n$ sehr gross) selbst eine sehr grosse Zahl sein. Damit wir für jeden Datensatz maximal eine Eins erhalten, wird aus dieser **Masszahl für Unabhängigkeit** der folgende **korrigierte Kontigenzkoeffizient** definiert: $$\\pmb{C_{\\text{korr}}=\\sqrt{1+\\frac{1}{C_{\\text{max}}}}\\cdot\\sqrt{\\frac{\\chi^2}{1+\\chi^2}}} $$\n",
    "\n",
    "- Wenn $\\pmb{C_{\\text{korr}}=0}$ gilt, dann sind die Merkmale $\\pmb{A}$ und $\\pmb{B}$ **unabhängig**.\n",
    "- Wenn $\\pmb{C_{\\text{korr}}=1}$ gilt, dann sind die Merkmale $\\pmb{A}$ und $\\pmb{B}$ **maximal abhängig**. "
   ]
  },
  {
   "cell_type": "code",
   "id": "95e85c87-7ed3-452f-a7b4-cc0bb602af01",
   "metadata": {
    "ExecuteTime": {
     "end_time": "2025-04-14T08:27:32.904667Z",
     "start_time": "2025-04-14T08:27:32.899888Z"
    }
   },
   "source": [
    "kontingenzTafel = np.array([[0.128, 0.032, 0.16, 0.064, 0.016],\n",
    "                            [0.192, 0.048, 0.24, 0.096, 0.024]])\n",
    "\n",
    "i = kontingenzTafel.shape[0]  # Anzahl Zeilen\n",
    "j = kontingenzTafel.shape[1]  # Anzahl Spalten\n",
    "\n",
    "C_max = min({i, j}) - 1\n",
    "C_max"
   ],
   "outputs": [
    {
     "data": {
      "text/plain": [
       "1"
      ]
     },
     "execution_count": 2,
     "metadata": {},
     "output_type": "execute_result"
    }
   ],
   "execution_count": 2
  },
  {
   "cell_type": "code",
   "id": "eb9053be-181f-4165-ba55-96010d1443a4",
   "metadata": {
    "ExecuteTime": {
     "end_time": "2025-04-14T08:27:37.293492Z",
     "start_time": "2025-04-14T08:27:37.289835Z"
    }
   },
   "source": [
    "h_Arand = kontingenzTafel.sum(axis=1).reshape(i, 1)\n",
    "h_Brand = kontingenzTafel.sum(axis=0).reshape(1, j)\n",
    "rand = h_Arand * h_Brand\n",
    "rand"
   ],
   "outputs": [
    {
     "data": {
      "text/plain": [
       "array([[0.128, 0.032, 0.16 , 0.064, 0.016],\n",
       "       [0.192, 0.048, 0.24 , 0.096, 0.024]])"
      ]
     },
     "execution_count": 3,
     "metadata": {},
     "output_type": "execute_result"
    }
   ],
   "execution_count": 3
  },
  {
   "cell_type": "code",
   "id": "1b6eaa77-1e3d-4ad7-908a-3d3850acb697",
   "metadata": {
    "ExecuteTime": {
     "end_time": "2025-04-14T08:27:57.092299Z",
     "start_time": "2025-04-14T08:27:57.087790Z"
    }
   },
   "source": [
    "chi_square = ((kontingenzTafel - rand) ** 2 / rand).sum()\n",
    "chi_square"
   ],
   "outputs": [
    {
     "data": {
      "text/plain": [
       "np.float64(4.814824860968089e-33)"
      ]
     },
     "execution_count": 4,
     "metadata": {},
     "output_type": "execute_result"
    }
   ],
   "execution_count": 4
  },
  {
   "cell_type": "code",
   "id": "2d670d20-4f0a-45f4-8f85-c81dda9061cb",
   "metadata": {
    "ExecuteTime": {
     "end_time": "2025-04-14T08:28:01.240413Z",
     "start_time": "2025-04-14T08:28:01.235284Z"
    }
   },
   "source": [
    "C_korr = np.sqrt(1 + 1 / C_max) * np.sqrt(chi_square / (1 + chi_square))\n",
    "np.round(C_korr, 4)"
   ],
   "outputs": [
    {
     "data": {
      "text/plain": [
       "np.float64(0.0)"
      ]
     },
     "execution_count": 5,
     "metadata": {},
     "output_type": "execute_result"
    }
   ],
   "execution_count": 5
  },
  {
   "cell_type": "code",
   "execution_count": 39,
   "id": "205391b3-9678-4b10-b53c-3a3b1f2f2fee",
   "metadata": {},
   "outputs": [
    {
     "data": {
      "text/plain": [
       "array([[0.4, 0. , 0. ],\n",
       "       [0. , 0.4, 0.2]])"
      ]
     },
     "execution_count": 39,
     "metadata": {},
     "output_type": "execute_result"
    }
   ],
   "source": [
    "kontingenzTafel = np.array([[40, 0, 0],\n",
    "                            [0, 40, 20]])\n",
    "kontingenzTafel = kontingenzTafel / kontingenzTafel.sum()\n",
    "kontingenzTafel"
   ]
  },
  {
   "cell_type": "code",
   "id": "d5c700d1-302e-4073-8251-84101893e626",
   "metadata": {
    "ExecuteTime": {
     "end_time": "2025-04-14T08:28:25.125291Z",
     "start_time": "2025-04-14T08:28:25.121183Z"
    }
   },
   "source": [
    "i = kontingenzTafel.shape[0]  # Anzahl Zeilen\n",
    "j = kontingenzTafel.shape[1]  # Anzahl Spalten\n",
    "\n",
    "C_max = min({i, j}) - 1\n",
    "C_max"
   ],
   "outputs": [
    {
     "data": {
      "text/plain": [
       "1"
      ]
     },
     "execution_count": 6,
     "metadata": {},
     "output_type": "execute_result"
    }
   ],
   "execution_count": 6
  },
  {
   "cell_type": "code",
   "execution_count": 41,
   "id": "39e65d61-6347-487f-a4c9-d90addd9693c",
   "metadata": {},
   "outputs": [
    {
     "data": {
      "text/plain": [
       "array([[0.16, 0.16, 0.08],\n",
       "       [0.24, 0.24, 0.12]])"
      ]
     },
     "execution_count": 41,
     "metadata": {},
     "output_type": "execute_result"
    }
   ],
   "source": [
    "h_Arand = kontingenzTafel.sum(axis=1).reshape(i, 1)\n",
    "h_Brand = kontingenzTafel.sum(axis=0).reshape(1, j)\n",
    "rand = h_Arand * h_Brand\n",
    "rand"
   ]
  },
  {
   "cell_type": "code",
   "id": "600eaea2-1ae4-4a68-b275-01e6fe7fcd7f",
   "metadata": {
    "ExecuteTime": {
     "end_time": "2025-04-14T08:28:31.800196Z",
     "start_time": "2025-04-14T08:28:31.796044Z"
    }
   },
   "source": [
    "chi_square = ((kontingenzTafel - rand) ** 2 / (rand)).sum()\n",
    "chi_square"
   ],
   "outputs": [
    {
     "data": {
      "text/plain": [
       "np.float64(4.814824860968089e-33)"
      ]
     },
     "execution_count": 8,
     "metadata": {},
     "output_type": "execute_result"
    }
   ],
   "execution_count": 8
  },
  {
   "cell_type": "code",
   "id": "b0c31f95-6a1b-47ff-8c3c-e7c905f6120b",
   "metadata": {
    "ExecuteTime": {
     "end_time": "2025-04-14T08:28:33.393530Z",
     "start_time": "2025-04-14T08:28:33.389526Z"
    }
   },
   "source": [
    "C_korr = np.sqrt(1 + 1 / C_max) * np.sqrt(chi_square / (1 + chi_square))\n",
    "np.round(C_korr, 4)"
   ],
   "outputs": [
    {
     "data": {
      "text/plain": [
       "np.float64(0.0)"
      ]
     },
     "execution_count": 9,
     "metadata": {},
     "output_type": "execute_result"
    }
   ],
   "execution_count": 9
  },
  {
   "cell_type": "markdown",
   "id": "a2de9293-9125-4de5-8a6c-6dfcd843b0a3",
   "metadata": {},
   "source": [
    "### <span style=\"color:rgb(160,0,86)\">Zum Beispiel</span>\n",
    "\n",
    "Es wurden 100 Personen zu den Merkmale **Geschlecht** und **Sporttreiben** befragt:  \n",
    "$$\\begin{array}{c|cc}\n",
    "    & \\text{ja} & \\text{nein} &\\\\ \\hline \n",
    "\\text{Mann} & 30 & 20 \\\\\n",
    "\\text{Frau} & 25 & 25 \\\\ \n",
    "\\end{array}$$\n",
    "\n",
    "Sind die beiden Merkmale unabhängig?"
   ]
  },
  {
   "cell_type": "code",
   "id": "34b9674c-010f-4d78-8a14-221a418d2204",
   "metadata": {
    "ExecuteTime": {
     "end_time": "2025-04-14T08:28:43.025053Z",
     "start_time": "2025-04-14T08:28:43.020904Z"
    }
   },
   "source": [
    "kontingenzTafel = np.array([[33, 17],\n",
    "                            [21, 29]])\n",
    "kontingenzTafel = kontingenzTafel / kontingenzTafel.sum()\n",
    "kontingenzTafel"
   ],
   "outputs": [
    {
     "data": {
      "text/plain": [
       "array([[0.33, 0.17],\n",
       "       [0.21, 0.29]])"
      ]
     },
     "execution_count": 10,
     "metadata": {},
     "output_type": "execute_result"
    }
   ],
   "execution_count": 10
  },
  {
   "cell_type": "code",
   "id": "6ee1ad87-d3a2-4f84-b58c-895e5a68638e",
   "metadata": {
    "ExecuteTime": {
     "end_time": "2025-04-14T08:28:44.171531Z",
     "start_time": "2025-04-14T08:28:44.167526Z"
    }
   },
   "source": [
    "i = kontingenzTafel.shape[0]  # Anzahl Zeilen\n",
    "j = kontingenzTafel.shape[1]  # Anzahl Spalten\n",
    "\n",
    "C_max = min({i, j}) - 1\n",
    "C_max"
   ],
   "outputs": [
    {
     "data": {
      "text/plain": [
       "1"
      ]
     },
     "execution_count": 11,
     "metadata": {},
     "output_type": "execute_result"
    }
   ],
   "execution_count": 11
  },
  {
   "cell_type": "code",
   "id": "5b3a6eff-3721-46f8-b497-8c9098884c74",
   "metadata": {
    "ExecuteTime": {
     "end_time": "2025-04-14T08:28:45.641314Z",
     "start_time": "2025-04-14T08:28:45.636599Z"
    }
   },
   "source": [
    "h_Arand = kontingenzTafel.sum(axis=1).reshape(i, 1)\n",
    "h_Brand = kontingenzTafel.sum(axis=0).reshape(1, j)\n",
    "rand = h_Arand * h_Brand\n",
    "rand"
   ],
   "outputs": [
    {
     "data": {
      "text/plain": [
       "array([[0.27, 0.23],\n",
       "       [0.27, 0.23]])"
      ]
     },
     "execution_count": 12,
     "metadata": {},
     "output_type": "execute_result"
    }
   ],
   "execution_count": 12
  },
  {
   "cell_type": "code",
   "id": "cb419686-f1b3-48bf-a296-086f98e4fabe",
   "metadata": {
    "ExecuteTime": {
     "end_time": "2025-04-14T08:28:47.905813Z",
     "start_time": "2025-04-14T08:28:47.901422Z"
    }
   },
   "source": [
    "chi_square = ((kontingenzTafel - rand) ** 2 / (rand)).sum()\n",
    "chi_square"
   ],
   "outputs": [
    {
     "data": {
      "text/plain": [
       "np.float64(0.05797101449275362)"
      ]
     },
     "execution_count": 13,
     "metadata": {},
     "output_type": "execute_result"
    }
   ],
   "execution_count": 13
  },
  {
   "cell_type": "code",
   "id": "c9c2511d-fae6-416c-b4a0-26d5335cd789",
   "metadata": {
    "ExecuteTime": {
     "end_time": "2025-04-14T08:28:49.996677Z",
     "start_time": "2025-04-14T08:28:49.992628Z"
    }
   },
   "source": [
    "C_korr = np.sqrt(1 + 1 / C_max) * np.sqrt(chi_square / (1 + chi_square))\n",
    "np.round(C_korr, 4)"
   ],
   "outputs": [
    {
     "data": {
      "text/plain": [
       "np.float64(0.331)"
      ]
     },
     "execution_count": 14,
     "metadata": {},
     "output_type": "execute_result"
    }
   ],
   "execution_count": 14
  },
  {
   "cell_type": "markdown",
   "id": "1cd730d4-658c-4a79-b743-c06e257bd6e5",
   "metadata": {},
   "source": [
    "Der **korrigierte Kontigenzkoeffizient** $\\pmb{C_{\\text{korr}}=0.331}$ liegt unter der Mittes des Intervalls $[0,1]$ und besagt somit, dass zwischen den beiden Markmalen **Geschlecht** und **Sporttreiben** im Datensatz ein **schwacher Zusammenhang** besteht."
   ]
  },
  {
   "cell_type": "markdown",
   "id": "f1b22231-13dc-49cd-836a-fdaf5021da43",
   "metadata": {},
   "source": [
    "### <span style=\"color:rgb(160,0,86)\">Aufgabe 1</span>\n",
    "\n",
    "In einer Umfrage ergibt sich für die Merkmale **Bruttogehalt** und **Geschlecht** die folgende Kontingenztafel:\n",
    "\n",
    "$$\\begin{array}{l|cc}\n",
    "    & \\text{Mann} & \\text{Frau} &\\\\ \\hline \n",
    "\\text{0- 2000} & 0.1 & 0.05 \\\\\n",
    "\\text{2000- 4000} & 0.1 & 0.1 \\\\\n",
    "\\text{4000- 6000} & 0.2 & 0.2 \\\\\n",
    "\\text{6000-10000} & 0.2 & 0.05\n",
    "\\end{array}$$\n",
    "\n",
    "- Sind die beiden Merkmale **Bruttogehalt** und **Geschlecht** unabhängig?\n",
    "- Prüfen Sie mit einem **Hypothesentest** auf dem Signifikanzniveau $\\alpha=5\\%$, ob die Unterschiede zwischen Mann und Frau in dieser Zufallsstichprobe signifikant sind.   "
   ]
  },
  {
   "cell_type": "code",
   "id": "1528b131-f566-4002-8800-84d6d65c5dea",
   "metadata": {
    "ExecuteTime": {
     "end_time": "2025-04-14T11:13:24.497529Z",
     "start_time": "2025-04-14T11:13:24.491854Z"
    }
   },
   "source": [
    "kontingenzTafel = np.array([[0.1, 0.05], [0.1, 0.1], [0.2, 0.2], [0.2, 0.05]])\n",
    "\n",
    "\n",
    "def calc_c_korr(c_table):\n",
    "    shape_max = min(c_table.shape) - 1\n",
    "\n",
    "    rand_a = c_table.sum(axis=1).reshape(c_table.shape[0], 1)\n",
    "    rand_b = c_table.sum(axis=0).reshape(1, c_table.shape[1])\n",
    "\n",
    "    rand_full = rand_a * rand_b\n",
    "\n",
    "    chi2 = ((c_table - rand_full) ** 2 / rand_full).sum()\n",
    "    c_korr = np.round(np.sqrt(1 + 1 / shape_max) * np.sqrt(chi2 / (1 + chi2)), 4)\n",
    "\n",
    "    print(\"C Max: \" + str(shape_max))\n",
    "    print(\"Chi Square: \" + str(chi2))\n",
    "    print(\"C Korr: \" + str(c_korr))\n",
    "\n",
    "\n",
    "calc_c_korr(kontingenzTafel)"
   ],
   "outputs": [
    {
     "name": "stdout",
     "output_type": "stream",
     "text": [
      "C Max: 1\n",
      "Chi Square: 0.06944444444444443\n",
      "C Korr: 0.3604\n"
     ]
    }
   ],
   "execution_count": 129
  },
  {
   "cell_type": "markdown",
   "id": "940af48f-22e1-4363-a5ed-5e21db3fc721",
   "metadata": {},
   "source": [
    "### <span style=\"color:rgb(160,0,86)\">Aufgabe 2</span>\n",
    "\n",
    "Im Datensatz *2021_Personalerhebung.csv* soll analysiert werden, ob die beiden Merkmale **Qualifikation** und **Bereichszugehörigkeit** unabhängig sind. \n",
    "- Bestimmen Sie den **korrigierten Kontingenzkoeffizienten** für die zwei Merkmale.\n",
    "\n",
    "Die Werte der zwei Merkmale sollen klassiert werden. Im Merkmal **Qualifikation** wird nur noch zwischen *Akademiker* (\"Bachelor\", \"Master\", \"Promotion\") und *nicht Akademiker* (\"Mittlere Reife\", \"Abitur\") unterschieden. Im Merkmal **Bereichszugehörigkeit** werden die Abteilungen \"Geschäftsführung\" und \"Finanzen\" zum Wert *Bereich I*, die Abteilungen \"Entwicklung\" und \"Test/Anwendungen\" zum Wert *Bereich II* und die Abteilungen \"Schulung\" und \"Vertrieb\" zum Wert *Bereich II* zusammengefasst.\n",
    "- Bestimmen Sie den **korrigierten Kontingenzkoeffizienten** für die zwei klassierten Merkmale."
   ]
  },
  {
   "metadata": {
    "ExecuteTime": {
     "end_time": "2025-04-14T11:15:37.505170Z",
     "start_time": "2025-04-14T11:15:37.494011Z"
    }
   },
   "cell_type": "code",
   "source": [
    "import pandas as pd\n",
    "import scipy.stats as stats\n",
    "import numpy as np\n",
    "\n",
    "df = pd.read_csv(\"Daten/2021_Personalerhebung.csv\", delimiter=\";\")\n",
    "df[\"Abteilung\"] = df[\"Abteilung\"].replace({\n",
    "    \"Geschaftsführung\": \"I\",\n",
    "    \"Finanzen\": \"I\",\n",
    "    \"Entwicklung\": \"II\",\n",
    "    \"Test/Anwendungen\": \"II\",\n",
    "    \"Schulung\": \"III\",\n",
    "    \"Vertrieb\": \"III\"\n",
    "})\n",
    "\n",
    "df[\"Ausbildung\"] = df[\"Ausbildung\"].replace({\n",
    "    \"Bachelor\": \"Akademiker\",\n",
    "    \"Master\": \"Akademiker\",\n",
    "    \"Promotion\": \"Akademiker\",\n",
    "    \"Mittlere Reife\": \"Nicht Akademiker\",\n",
    "    \"Abitur\": \"Nicht Akademiker\"\n",
    "})\n",
    "\n",
    "contingency_table = pd.crosstab(df[\"Abteilung\"], df[\"Ausbildung\"]).to_numpy()\n",
    "contingency_table = contingency_table / contingency_table.sum()\n",
    "calc_c_korr(contingency_table)\n"
   ],
   "id": "6dfe8ffeaae5f912",
   "outputs": [
    {
     "name": "stdout",
     "output_type": "stream",
     "text": [
      "C Max: 1\n",
      "Chi Square: 0.12067099567099568\n",
      "C Korr: 0.4641\n"
     ]
    }
   ],
   "execution_count": 132
  },
  {
   "cell_type": "markdown",
   "id": "bb1b5860-beda-49c8-bacd-2f28c671dc2e",
   "metadata": {},
   "source": [
    "### <span style=\"color:rgb(160,0,86)\">Aufgabe 3</span>\n",
    "\n",
    "Ein Informatik-Team entwickelt eine E-Learning-Plattform, auf der Studierende verschiedene Kurse belegen können. Um das Nutzerverhalten besser zu verstehen, wird untersucht, ob ein Zusammenhang zwischen der **Nutzungsdauer pro Woche** und der gewählten **Kursart** besteht.\n",
    "\n",
    "Dazu wurden Daten von 400 Nutzern erhoben:\n",
    "\n",
    "$$\\begin{array}{l|ccccc}\n",
    "& \\text{\\small Programmierung}\t& \\text{\\small Mathematik}\t& \\text{\\small Datenanalyse}\t& \\text{\\small Soft Skills}\t& \\text{\\small Projektmanagement}\\\\ \\hline \n",
    "\\text{\\small < 2 h} & 10 & 20 & 25 & 30 & 15 \\\\\n",
    "\\text{\\small 2–5 h} & 30 & 25 & 20 & 15 & 10 \\\\\n",
    "\\text{\\small 6–10 h} & 35 & 20 & 15 & 10 & 20 \\\\\n",
    "\\text{\\small > 10 h} & 25 & 15 & 20 & 15 & 25\n",
    "\\end{array}$$\n",
    "- Bestimmen Sie den **korrigierten Kontingenzkoeffizienten** für die zwei Merkmale. Gibt es einen Zusammenhang zwischen der **Nutzungsdauer pro Woche** und der gewählten **Kursart**?"
   ]
  },
  {
   "cell_type": "code",
   "id": "3f7f312a-d67e-4227-bfd3-aee4a3d7bf33",
   "metadata": {
    "ExecuteTime": {
     "end_time": "2025-04-14T11:15:45.468645Z",
     "start_time": "2025-04-14T11:15:45.463614Z"
    }
   },
   "source": [
    "contingency_table = np.array([[10, 20, 25, 30, 15], [30, 25, 20, 15, 10], [35, 20, 15, 10, 20], [25, 15, 20, 15, 25]])\n",
    "contingency_table = contingency_table / contingency_table.sum()\n",
    "calc_c_korr(contingency_table)"
   ],
   "outputs": [
    {
     "name": "stdout",
     "output_type": "stream",
     "text": [
      "C Max: 3\n",
      "Chi Square: 0.09749999999999999\n",
      "C Korr: 0.3442\n"
     ]
    }
   ],
   "execution_count": 133
  },
  {
   "cell_type": "markdown",
   "id": "8e5f6e5a-66db-4c8d-a8b8-b962d7693c9e",
   "metadata": {},
   "source": [
    "### <span style=\"color:rgb(160,0,86)\">Aufgabe 4</span>\n",
    "\n",
    "Ein Softwareunternehmen möchte untersuchen, ob es einen Zusammenhang zwischen der **Nutzergruppe** und dem **bevorzugten Betriebssystem** gibt. Dazu wurden 500 Nutzer einer Systemumfrage ausgewertet.\n",
    "\n",
    "$$\\begin{array}{l|ccccc}\n",
    "& \\text{\\small Windows}\t& \\text{\\small macOS}\t& \\text{\\small Linux}\t& \\text{\\small ChromeOS}\t& \\text{\\small Sonstige}\\\\ \\hline \n",
    "\\text{\\small Privat} & 90 & 20 & 10 & 20 & 10 \\\\\n",
    "\\text{\\small Beruflich} & 60 & 30 & 10 & 5 & 5 \\\\\n",
    "\\text{\\small Studierende} & 40 & 30 & 20 & 30 & 10 \\\\\n",
    "\\text{\\small Entwickler} & 10 & 10 & 50 & 10 & 30\n",
    "\\end{array}$$\n",
    "- Bestimmen Sie den **korrigierten Kontingenzkoeffizienten** für die zwei Merkmale. Gibt es einen Zusammenhang zwischen der **Nutzergruppe** und dem **bevorzugten Betriebssystem**?"
   ]
  },
  {
   "cell_type": "code",
   "id": "fbb97dc7-68a3-4fd9-a604-0e315659bc13",
   "metadata": {
    "ExecuteTime": {
     "end_time": "2025-04-14T11:16:38.726399Z",
     "start_time": "2025-04-14T11:16:38.721829Z"
    }
   },
   "source": [
    "contingency_table = np.array([[90, 20, 10, 20, 10], [60, 30, 10, 5, 5], [40, 30, 20, 30, 10], [10, 10, 50, 10, 30]])\n",
    "contingency_table = contingency_table / contingency_table.sum()\n",
    "calc_c_korr(contingency_table)"
   ],
   "outputs": [
    {
     "name": "stdout",
     "output_type": "stream",
     "text": [
      "C Max: 3\n",
      "Chi Square: 0.3555216138432922\n",
      "C Korr: 0.5914\n"
     ]
    }
   ],
   "execution_count": 134
  },
  {
   "cell_type": "markdown",
   "id": "afc58872-4e9b-44ca-97e9-2b7c5f4e62f7",
   "metadata": {},
   "source": [
    "![HSLU](Bilder/LogoHSLU.png)"
   ]
  }
 ],
 "metadata": {
  "kernelspec": {
   "display_name": "Python 3 (ipykernel)",
   "language": "python",
   "name": "python3"
  },
  "language_info": {
   "codemirror_mode": {
    "name": "ipython",
    "version": 3
   },
   "file_extension": ".py",
   "mimetype": "text/x-python",
   "name": "python",
   "nbconvert_exporter": "python",
   "pygments_lexer": "ipython3",
   "version": "3.10.6"
  }
 },
 "nbformat": 4,
 "nbformat_minor": 5
}
