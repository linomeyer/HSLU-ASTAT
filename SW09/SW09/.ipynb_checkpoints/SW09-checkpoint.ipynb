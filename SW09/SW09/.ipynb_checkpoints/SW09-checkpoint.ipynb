{
 "cells": [
  {
   "cell_type": "markdown",
   "id": "f8edfe32-7c29-46a2-939f-a0d3f4e6fa2b",
   "metadata": {},
   "source": [
    "# <span style=\"color:rgb(160,0,86)\">Datenmanipulation mit Python</span>\n",
    "\n",
    "***"
   ]
  },
  {
   "cell_type": "markdown",
   "id": "efc2b411-5d0c-45cd-a36d-deb3a678be0e",
   "metadata": {},
   "source": [
    "## <span style=\"color:rgb(160,0,86)\">Lernziele</span>\n",
    "\n",
    "- Sie wissen was eine statistische Einheit ist und können ihre Merkmale bezüglich ihrer Ausprägungen unterscheiden.\n",
    "- Sie kennen die Python Module *numpy* und *pandas*.  \n",
    "- Sie können Daten laden und einfache Operationen ausführen.  \n",
    "\n",
    "***"
   ]
  },
  {
   "cell_type": "markdown",
   "id": "e1aeb5b2-eafa-4db1-b3d5-9b13de1f83fe",
   "metadata": {},
   "source": [
    "### <span style=\"color:rgb(160,0,86)\">Was ist eine statistische Einheit?</span>\n",
    "\n",
    "- Eine **statistische Einheit** ist Träger von Informationen und Eigenschaften, die für eine statistische Untersuchung von Interesse ist.\n",
    "- Eine Eigenschaft einer statistischen Einheit, die von Interesse ist, heisst **statistisches Merkmal**.  "
   ]
  },
  {
   "cell_type": "markdown",
   "id": "2e06298c-4330-47c3-8648-09690e76b5d3",
   "metadata": {},
   "source": [
    "#### <span style=\"color:rgb(160,0,86)\">Beispiele:</span>\n",
    "\n",
    "- In einer Notenstatistik für das Modul ASTAT ist jede Studentin und jeder Student des Moduls eine statistische Einheit. Das statistische Merkmal ist die Abschlussnote an der MEP.\n",
    "- In einer schweizer Unfallstatistik im Jahr 2024 ist jeder Verkehrsunfall auf schweizer Strassen in diesem Jahr eine statistische Einheit. Statistische Merkmale können zum Beispiel Anzahl Todesopfer, Unfallkosten, Unfallstelle etc. sein.\n",
    "\n",
    "***"
   ]
  },
  {
   "cell_type": "code",
   "execution_count": 53,
   "id": "15519874-2bff-4bf3-8b47-e49d1fb353c6",
   "metadata": {},
   "outputs": [
    {
     "data": {
      "text/html": [
       "<div>\n",
       "<style scoped>\n",
       "    .dataframe tbody tr th:only-of-type {\n",
       "        vertical-align: middle;\n",
       "    }\n",
       "\n",
       "    .dataframe tbody tr th {\n",
       "        vertical-align: top;\n",
       "    }\n",
       "\n",
       "    .dataframe thead th {\n",
       "        text-align: right;\n",
       "    }\n",
       "</style>\n",
       "<table border=\"1\" class=\"dataframe\">\n",
       "  <thead>\n",
       "    <tr style=\"text-align: right;\">\n",
       "      <th></th>\n",
       "      <th>City</th>\n",
       "      <th>Country</th>\n",
       "      <th>Population</th>\n",
       "      <th>Inland area in km2</th>\n",
       "      <th>Density in people per hectare</th>\n",
       "      <th>Dwellings</th>\n",
       "      <th>Density in dwellings per hectare</th>\n",
       "      <th>People per dwelling</th>\n",
       "      <th>Approx city radius km</th>\n",
       "      <th>Main topographical constraint</th>\n",
       "      <th>Constraint</th>\n",
       "    </tr>\n",
       "  </thead>\n",
       "  <tbody>\n",
       "    <tr>\n",
       "      <th>0</th>\n",
       "      <td>NaN</td>\n",
       "      <td>NaN</td>\n",
       "      <td>NaN</td>\n",
       "      <td>NaN</td>\n",
       "      <td>NaN</td>\n",
       "      <td>NaN</td>\n",
       "      <td>NaN</td>\n",
       "      <td>NaN</td>\n",
       "      <td>NaN</td>\n",
       "      <td>NaN</td>\n",
       "      <td>NaN</td>\n",
       "    </tr>\n",
       "    <tr>\n",
       "      <th>1</th>\n",
       "      <td>Greater London</td>\n",
       "      <td>England</td>\n",
       "      <td>8,663,300</td>\n",
       "      <td>1,572</td>\n",
       "      <td>55.0</td>\n",
       "      <td>3,454,490</td>\n",
       "      <td>22.0</td>\n",
       "      <td>2.5</td>\n",
       "      <td>23.0</td>\n",
       "      <td>Rivers</td>\n",
       "      <td>4%</td>\n",
       "    </tr>\n",
       "    <tr>\n",
       "      <th>2</th>\n",
       "      <td>Inner London</td>\n",
       "      <td>England</td>\n",
       "      <td>3,439,700</td>\n",
       "      <td>319</td>\n",
       "      <td>108.0</td>\n",
       "      <td>1,460,840</td>\n",
       "      <td>46.0</td>\n",
       "      <td>2.4</td>\n",
       "      <td>10.0</td>\n",
       "      <td>Rivers</td>\n",
       "      <td>5%</td>\n",
       "    </tr>\n",
       "  </tbody>\n",
       "</table>\n",
       "</div>"
      ],
      "text/plain": [
       "              City   Country Population Inland area in km2  \\\n",
       "0              NaN       NaN        NaN                NaN   \n",
       "1  Greater London   England   8,663,300              1,572   \n",
       "2    Inner London   England   3,439,700                319   \n",
       "\n",
       "   Density in people per hectare  Dwellings  Density in dwellings per hectare  \\\n",
       "0                            NaN        NaN                               NaN   \n",
       "1                           55.0  3,454,490                              22.0   \n",
       "2                          108.0  1,460,840                              46.0   \n",
       "\n",
       "   People per dwelling  Approx city radius km Main topographical constraint  \\\n",
       "0                  NaN                    NaN                           NaN   \n",
       "1                  2.5                   23.0                       Rivers    \n",
       "2                  2.4                   10.0                       Rivers    \n",
       "\n",
       "  Constraint  \n",
       "0        NaN  \n",
       "1         4%  \n",
       "2         5%  "
      ]
     },
     "execution_count": 53,
     "metadata": {},
     "output_type": "execute_result"
    }
   ],
   "source": [
    "gla_cities = pd.read_csv(\"Daten/GLA_World_Cities_2016.csv\")\n",
    "\n",
    "gla_cities.head(3)"
   ]
  },
  {
   "cell_type": "markdown",
   "id": "f1b22231-13dc-49cd-836a-fdaf5021da43",
   "metadata": {},
   "source": [
    "### <span style=\"color:rgb(160,0,86)\">Aufgabe 1</span>\n"
   ]
  },
  {
   "cell_type": "code",
   "execution_count": null,
   "id": "1528b131-f566-4002-8800-84d6d65c5dea",
   "metadata": {},
   "outputs": [],
   "source": [
    "# To do!"
   ]
  },
  {
   "cell_type": "markdown",
   "id": "940af48f-22e1-4363-a5ed-5e21db3fc721",
   "metadata": {},
   "source": [
    "### <span style=\"color:rgb(160,0,86)\">Aufgabe 2</span>\n",
    "\n"
   ]
  },
  {
   "cell_type": "code",
   "execution_count": null,
   "id": "51bf0f43-9118-4e1e-bd06-15ffa32948c7",
   "metadata": {},
   "outputs": [],
   "source": [
    "# To do!"
   ]
  },
  {
   "cell_type": "markdown",
   "id": "afc58872-4e9b-44ca-97e9-2b7c5f4e62f7",
   "metadata": {},
   "source": [
    "![HSLU](Bilder/LogoHSLU.png)"
   ]
  }
 ],
 "metadata": {
  "kernelspec": {
   "display_name": "Python 3 (ipykernel)",
   "language": "python",
   "name": "python3"
  },
  "language_info": {
   "codemirror_mode": {
    "name": "ipython",
    "version": 3
   },
   "file_extension": ".py",
   "mimetype": "text/x-python",
   "name": "python",
   "nbconvert_exporter": "python",
   "pygments_lexer": "ipython3",
   "version": "3.10.6"
  }
 },
 "nbformat": 4,
 "nbformat_minor": 5
}
