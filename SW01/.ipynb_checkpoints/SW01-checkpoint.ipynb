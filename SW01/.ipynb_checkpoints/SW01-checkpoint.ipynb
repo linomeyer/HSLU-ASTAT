{
 "cells": [
  {
   "metadata": {},
   "cell_type": "raw",
   "source": "",
   "id": "75e77f8a65738bfe"
  }
 ],
 "metadata": {},
 "nbformat": 4,
 "nbformat_minor": 5
}
