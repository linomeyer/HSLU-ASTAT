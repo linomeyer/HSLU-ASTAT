{
 "cells": [
  {
   "cell_type": "markdown",
   "id": "f8edfe32-7c29-46a2-939f-a0d3f4e6fa2b",
   "metadata": {},
   "source": [
    "# <span style=\"color:rgb(160,0,86)\">Testverfahren</span>\n",
    "\n",
    "***"
   ]
  },
  {
   "cell_type": "markdown",
   "id": "efc2b411-5d0c-45cd-a36d-deb3a678be0e",
   "metadata": {},
   "source": [
    "## <span style=\"color:rgb(160,0,86)\">Lernziele</span>\n",
    "\n",
    "- Sie können p-Werte bestimmen und kennen ihre Bedeutung.\n",
    "- Sie können eine Varianzanalyse durchführen.  \n",
    "- Sie können ein Q-Q-D.  \n",
    "\n",
    "***"
   ]
  },
  {
   "cell_type": "markdown",
   "id": "e1aeb5b2-eafa-4db1-b3d5-9b13de1f83fe",
   "metadata": {},
   "source": [
    "### <span style=\"color:rgb(160,0,86)\">Was ist der p-Wert?</span>\n",
    "\n",
    "Die blosse Betrachtung des Diagramms ist kein sehr präzises Mittel zur Messung der **statistischen Signifikanz**, daher ist der $p$-Wert von grossem Interesse:\n",
    "\n",
    "- Der $\\pmb{p}\\textbf{-Wert}$ ist **die Häufigkeit**, mit der das Zufallsmodell ein Ergebnis erzeugt, das **extremer** ist **als das beobachtete** Ergebnis.\n",
    "\n",
    "Wir können den $\\pmb{p}\\textbf{-Wert}$ *aus einem Permutationstest* **schätzen**, indem wir den Anteil der Fälle ermitteln, in denen der Permutationstest einen Unterschied ergibt, der gleich oder grösser ist als der beobachtete Unterschied.\n"
   ]
  },
  {
   "cell_type": "markdown",
   "id": "76c93d6a-cb8b-4423-8f0a-9a4e124897e4",
   "metadata": {},
   "source": [
    "### <span style=\"color:rgb(160,0,86)\">Wie brauchen wir den p-Wert?</span>\n",
    "\n",
    "Statistiker missbilligen die Praxis, es dem Ermessen des Forschers zu überlassen, ob ein Ergebnis *zu ungewöhnlich* ist, um zufällig zu sein.\n",
    "\n",
    "Vielmehr wird ***im Voraus ein Schwellenwert festgelegt***, wie zum Beispiel: \n",
    "- *extremer als 5% der Zufallsergebnisse (Nullhypothese)*\n",
    "\n",
    "Dieser Schwellenwert $\\pmb{\\alpha}$ (*Alpha*) wird als **Signifikanzniveau**  bezeichnet. Typische *Alpha-Werte* sind **5%** und **1%**. \n",
    "\n",
    "Jedes gewählte Niveau ist eine **willkürliche Entscheidung** - es gibt nichts an dem Verfahren, das $x$% korrekte Entscheidungen in der Zeit garantiert. Das liegt daran, dass die Wahrscheinlichkeitsfrage nicht lautet: \n",
    "- *Wie hoch ist die Wahrscheinlichkeit, dass dies zufällig passiert ist?*\n",
    "\n",
    "sondern: \n",
    "- *Wie hoch ist die Wahrscheinlichkeit eines so extremen Ergebnisses bei einem gegebenen Zufallsmodell?*\n",
    "\n",
    "Wir leiten die Entscheidung auf die Angemessenheit des Zufallsmodells zurück, aber dieses Urteil ist nicht mit einer Wahrscheinlichkeit verbunden. \n",
    "\n",
    "Dieser Punkt führt immer wieder zu Verwirrung!\n",
    "\n"
   ]
  },
  {
   "cell_type": "markdown",
   "id": "1eeda53b-6615-411d-b1c2-24a699326bca",
   "metadata": {},
   "source": [
    "#### <span style=\"color:rgb(160,0,86)\">Kontroverse um den p-Wert</span>\n",
    "\n",
    "Die Verwendung des $\\pmb{p}\\textbf{-Wert}$ war in den letzten Jahren Gegenstand erheblicher Kontroversen. \n",
    "\n",
    "Eine Psychologiezeitschrift ist sogar so weit gegangen, die Verwendung von $\\pmb{p}\\textbf{-Wert}$ in eingereichten Arbeiten zu verbieten. Die Begründung war, dass Veröffentlichungsentscheidungen, die allein auf dem $\\pmb{p}\\textbf{-Wert}$ basieren, zur Veröffentlichung schlechter Forschungsergebnisse führen.\n",
    "\n",
    "Zu viele Forscher, die sich nur unzureichend darüber im Klaren sind, was ein $\\pmb{p}\\textbf{-Wert}$ wirklich bedeutet, durchsuchen Daten unter verschiedenen möglichen Hypothesen, bis sie eine Kombination finden, die einen signifikanten $\\pmb{p}\\textbf{-Wert}$ hat. \n",
    "\n",
    "Das eigentliche Problem besteht darin, dass man dem $\\pmb{p}\\textbf{-Wert}$ mehr Bedeutung beimessen will, als er enthält. Wir hätte gerne, dass der $\\pmb{p}\\textbf{-Wert}$ folgendes aussagt:\n",
    "- *Die Wahrscheinlichkeit, dass das Ergebnis auf Zufall zurückzuführen ist.*\n",
    "\n",
    "Wir hoffen auf einen niedrigen Wert, damit wir daraus schliessen können, dass wir etwas bewiesen haben. So haben viele Herausgeber von Zeitschriften den $\\pmb{p}\\textbf{-Wert}$ interpretiert. Aber der p-Wert sagt tatsächlich etwas anderes:\n",
    "- <span style=\"color:rgb(160,0,86)\">***Die Wahrscheinlichkeit, dass bei einem gegebenen Zufallsmodell so extreme Ergebnisse wie die beobachteten Ergebnisse auftreten könnten.***</span>\n",
    "\n",
    "Der Unterschied ist subtil, aber real. Ein signifikanter $\\pmb{p}\\textbf{-Wert}$ erbringt keinen *Beweis*. Die logische Grundlage für die Schlussfolgerung **statistisch signifikant** ist schwächer, wenn man die wahre Bedeutung des $\\pmb{p}\\textbf{-Wert}$ versteht.\n",
    "\n",
    "Im März 2016 hat die *American Statistical Association* nach langen internen Beratungen das Ausmass der Missverständnisse über $\\pmb{p}\\textbf{-Werte}$ aufgedeckt und eine warnende Erklärung zu deren Verwendung herausgegeben. In dieser *ASA*-Erklärung werden sechs Grundsätze für Forscher hervorgehoben:\n",
    "1. $\\pmb{p}\\textbf{-Werte}$ können anzeigen, wie unvereinbar die Daten mit einem bestimmten statistischen Modell sind.\n",
    "2. $\\pmb{p}\\textbf{-Werte}$ messen nicht die Wahrscheinlichkeit, dass die untersuchte Hypothese wahr ist, oder die Wahrscheinlichkeit, dass die Daten allein durch Zufall entstanden sind.\n",
    "3. Wissenschaftliche Schlussfolgerungen und geschäftliche oder politische Entscheidungen sollten nicht nur darauf beruhen, ob ein $\\pmb{p}\\textbf{-Wert}$ einen bestimmten Schwellenwert überschreitet.\n",
    "4. Ordnungsgemässe Schlussfolgerungen erfordern eine umfassende Berichterstattung und Transparenz.\n",
    "5. Ein $\\pmb{p}\\textbf{-Wert}$ oder eine **statistische Signifikanz** ist kein Mass für die Grösse eines Effekts oder die Bedeutung eines Ergebnisses.\n",
    "6. Ein $\\pmb{p}\\textbf{-Wert}$ an sich ist kein gutes Mass für die Evidenz eines Modells oder einer Hypothese.\n",
    "\n",
    "#### <span style=\"color:rgb(160,0,86)\">Fehler vom Typ 1 und Typ 2</span>\n",
    "Bei der Bewertung der statistischen Signifikanz sind zwei Arten von Fehlern möglich: \n",
    "- **Fehler des Typs 1**, bei dem man irrtümlich zu dem Schluss kommt, dass ein Effekt tatsächlich vorhanden ist, obwohl er in Wirklichkeit nur auf Zufall beruht\n",
    "- **Fehler des Typs 2**, bei dem man irrtümlich zu dem Schluss kommt, dass ein Effekt nicht vorhanden ist, also auf Zufall beruht, obwohl er tatsächlich vorhanden ist\n",
    "\n",
    "Eigentlich ist *ein Fehler des Typs 2* weniger ein Fehler als vielmehr die Einschätzung, dass der **Stichprobenumfang zu klein** ist, um den **Effekt zu erkennen**.  \n",
    "\n",
    "Wenn ein $\\pmb{p}\\textbf{-Wert}$ unterhalb der statistischen Signifikanz liegt (z.B. über 5 %), heisst das,  \n",
    "- <span style=\"color:rgb(160,0,86)\">***dass ein Effekt nicht nachgewiesen ist. Es könnte sein, dass eine grössere Stichprobe einen kleineren p-Wert ergeben würde.***</span>\n",
    "  \n",
    "Die grundlegende Funktion von Hypothesentests besteht darin, sich vor zufälligen Fehlern zu schützen. Daher sind sie in der Regel so aufgebaut, \n",
    "- <span style=\"color:rgb(160,0,86)\">***dass Fehler vom Typ 1 minimiert werden.***</span>\n",
    "\n",
    "#### <span style=\"color:rgb(160,0,86)\">Die p-Werte in den Datenwissenschaften</span>\n",
    "Die Arbeit von Datenwissenschaftlern ist in der Regel nicht für die Veröffentlichung in wissenschaftlichen Zeitschriften bestimmt, daher ist die Debatte über $\\pmb{p}\\textbf{-Werte}$ eher akademisch. \n",
    "\n",
    "Für einen Datenwissenschaftler ist ein $\\pmb{p}\\textbf{-Wert}$ eine **nützliche Metrik** in Situationen, in denen man wissen möchte, ob ein Modellergebnis, das interessant und nützlich erscheint, im Bereich der normalen Zufallsvariabilität liegt. \n",
    "\n",
    "Als Entscheidungshilfe in einem Experiment sollte ein $\\pmb{p}\\textbf{-Wert}$ **nicht als Kontrollgrösse** betrachtet werden, sondern lediglich als weitere **Information**, die **für eine Entscheidung** von Bedeutung ist. \n",
    "\n",
    "Beispielsweise werden $\\pmb{p}\\textbf{-Wert}$ in einigen statistischen oder maschinellen Lernmodellen verwendet. Ein Merkmal wird je nach seinem $\\pmb{p}\\textbf{-Wert}$ in ein Modell aufgenommen oder daraus ausgeschlossen."
   ]
  },
  {
   "cell_type": "markdown",
   "id": "2e06298c-4330-47c3-8648-09690e76b5d3",
   "metadata": {},
   "source": [
    "### <span style=\"color:rgb(160,0,86)\">Was ist eine Varianzanalyse?</span>\n",
    "\n",
    "Nehmen wir an, dass wir anstelle eines A/B-Tests einen Vergleich zwischen mehreren Gruppen A-B-C-D mit jeweils numerischen Daten haben. Das statistische Verfahren, mit dem auf einen statistisch signifikanten **Unterschied zwischen den Gruppen** getestet wird, heisst **Varianzanalyse** oder **ANOVA**.\n",
    "\n",
    "Wir betrachen die Verweildauer (stickiness) auf vier Webseiten. Die vier Seiten werden nach dem Zufallsprinzip ausgetauscht, so dass jeder Webbesucher eine zufällige Seite erhält. Insgesamt gibt es fünf Besucher für jede Seite. \n",
    "\n",
    "- Beachten Sie, dass wir bei so einem Webtest die *klassische Zufallsstichprobe*, bei der jeder Besucher nach dem Zufallsprinzip aus einer grossen Grundgesamtheit ausgewählt wird, **nicht vollständig umsetzen können**. Wir müssen die Besucher so nehmen, wie sie kommen. Die Besucher können sich systematisch unterscheiden, abhängig von der Tageszeit, der Wochenzeit, der Jahreszeit, den Internet-Bedingungen, dem verwendeten Gerät und so weiter. \n",
    "\n",
    "- Diese Faktoren sollten bei der Überprüfung der Versuchsergebnisse als **potenzielle Verzerrungen** berücksichtigt werden.\n",
    "\n",
    "Nun haben wir ein Problem. Als wir nur zwei Gruppen verglichen haben, war es eine einfache Angelegenheit. Wir haben lediglich die Differenz zwischen den Mittelwerten der einzelnen Gruppen betrachtet. Bei vier Mittelwerten gibt es **sechs mögliche Vergleiche** zwischen den Gruppen:\n",
    "1. Seite 1 im Vergleich zu Seite 2\n",
    "2. Seite 1 im Vergleich zu Seite 3\n",
    "3. Seite 1 im Vergleich zu Seite 4\n",
    "4. Seite 2 im Vergleich zu Seite 3\n",
    "5. Seite 2 im Vergleich zu Seite 4\n",
    "6. Seite 3 im Vergleich zu Seite 4\n",
    "\n",
    "<span style=\"color:rgb(160,0,86)\">***Je mehr solcher paarweisen Vergleiche wir anstellen, desto grösser ist die Gefahr, dass wir uns vom Zufall täuschen lassen.***</span> \n",
    "\n",
    "Anstatt sich über all die verschiedenen Vergleiche zwischen einzelnen Seiten Gedanken zu machen, die wir möglicherweise anstellen könnten, können wir **einen einzigen Gesamttest** durchführen, der sich mit der Frage befasst: \n",
    "- *Könnten alle Seiten das gleiche zugrundeliegende Nutzerverhalten haben und die Unterschiede zwischen ihnen auf die zufällige Art und Weise zurückzuführen sein, in der ein gemeinsamer Satz von Besuchsdauern auf die vier Seiten verteilt wurde?*\n",
    "\n",
    "Das Verfahren, mit dem dies getestet wird, ist die **Varianzanalyse**. Die Grundlage dafür ist das folgende **Resampling-Verfahren**, hier spezifiziert für den A-B-C-D-Test der vier Webseiten:\n",
    "1) Zusammenfassen aller Daten in einer einzigen Box\n",
    "2) Mischen und Ziehen von vier Stichproben (resamples) mit je fünf Werten\n",
    "3) Notieren Sie den Mittelwert jeder der vier Gruppen\n",
    "4) Speichern Sie die Varianz zwischen der vier Gruppenmittelwerte\n",
    "5) Wiederholen Sie die Schritte 2 bis 4 viele Male (z.B. 1.000)\n",
    "\n",
    "In wie vielen Fällen war die **Varianz der Stichprobe** grösser als die **beobachtete Varianz**? Dies ist der $\\pmb{p}\\textbf{-Wert}$."
   ]
  },
  {
   "cell_type": "markdown",
   "id": "f1b22231-13dc-49cd-836a-fdaf5021da43",
   "metadata": {},
   "source": [
    "### <span style=\"color:rgb(160,0,86)\">Aufgabe 1</span>\n",
    "\n",
    "- Laden Sie die Daten der Stichprobe in der Datei *four_sessions.csv* im Ordner Daten. \n",
    "- Zeichnen Sie für die Verweildauer vier Boxplots, je für die Seite A, B, C und D.\n",
    "- Wie lautet die **Nullhypothese** und die entsprechende **Alternativhypothese**?\n",
    "- Bestimmen Sie die **beobachtete Varianz**.\n",
    "- Bestimmen Sie mit dem Resampling-Verfahren für die Varianzanalyse eine Menge von 1000 permutieren Varianzen und stellen Sie die Verteilung dieser Varianzen in einem Dichtediagramm dar. Zeichnen Sie in das gleiche Diagramm auch die beobachtete Varianz ein.\n",
    "- Bestimmen Sie den $\\pmb{p}\\textbf{-Wert}$ und machen Sie auf dem **Signifikanzniveau von 5%** einen Testentscheid."
   ]
  },
  {
   "cell_type": "code",
   "id": "1528b131-f566-4002-8800-84d6d65c5dea",
   "metadata": {
    "ExecuteTime": {
     "end_time": "2025-04-08T08:33:27.853136Z",
     "start_time": "2025-04-08T08:33:27.627098Z"
    }
   },
   "source": [
    "import matplotlib.pyplot as plt\n",
    "import pandas as pd\n",
    "import seaborn as sns\n",
    "\n",
    "data = pd.read_csv(\"Daten/four_sessions.csv\")\n",
    "\n",
    "plt.figure(figsize=(15, 5))\n",
    "\n",
    "plt.subplot(1, 4, 1)\n",
    "time1 = pd.DataFrame(data.loc[data['Page'] == 'Page 1']['Time'])\n",
    "sns.boxplot(y='Time', data=time1, color='blue')\n",
    "plt.subplot(1, 4, 2)\n",
    "time2 = pd.DataFrame(data.loc[data['Page'] == 'Page 2']['Time'])\n",
    "sns.boxplot(y='Time', data=time2, color='blue')\n",
    "plt.subplot(1, 4, 3)\n",
    "time3 = pd.DataFrame(data.loc[data['Page'] == 'Page 3']['Time'])\n",
    "sns.boxplot(y='Time', data=time3, color='blue')\n",
    "plt.subplot(1, 4, 4)\n",
    "time4 = pd.DataFrame(data.loc[data['Page'] == 'Page 4']['Time'])\n",
    "sns.boxplot(y='Time', data=time4, color='blue')\n",
    "\n",
    "# Nullhypothese = kein Unterschied\n",
    "# Alternativhypothese = Die Ergebnisse unterscheiden sich signifikant"
   ],
   "outputs": [
    {
     "data": {
      "text/plain": [
       "<Axes: ylabel='Time'>"
      ]
     },
     "execution_count": 6,
     "metadata": {},
     "output_type": "execute_result"
    },
    {
     "data": {
      "text/plain": [
       "<Figure size 1500x500 with 4 Axes>"
      ],
      "image/png": "[encoded data removed]"
     },
     "metadata": {},
     "output_type": "display_data"
    }
   ],
   "execution_count": 6
  },
  {
   "metadata": {
    "ExecuteTime": {
     "end_time": "2025-04-08T08:33:29.377897Z",
     "start_time": "2025-04-08T08:33:29.252032Z"
    }
   },
   "cell_type": "code",
   "source": [
    "import numpy as np\n",
    "\n",
    "observed_variance = time1.mean().iloc[0] - time2.mean().iloc[0] - time3.mean().iloc[0] - time4.mean().iloc[0]\n",
    "print(observed_variance)\n",
    "\n",
    "time = [time1['Time'].tolist(), time2['Time'].tolist(), time3['Time'].tolist(), time4['Time'].tolist()]\n",
    "time = np.array(time).flatten()\n",
    "print(time)\n",
    "\n",
    "\n",
    "def resampling(sample, n):\n",
    "    variances = []\n",
    "    for i in range(n):\n",
    "        new_sample = sample\n",
    "        s1 = []\n",
    "        s2 = []\n",
    "        s3 = []\n",
    "        s4 = []\n",
    "        s1.append(np.random.choice(new_sample, size=5, replace=False))\n",
    "        s2.append(np.random.choice(new_sample, size=5, replace=False))\n",
    "        s3.append(np.random.choice(new_sample, size=5, replace=False))\n",
    "        s4.append(np.random.choice(new_sample, size=5, replace=False))\n",
    "        variances.append(np.mean(s1) - np.mean(s2) - np.mean(s3) - np.mean(s4))\n",
    "\n",
    "    return variances\n",
    "\n",
    "\n",
    "vari = resampling(time, 1000)\n",
    "\n",
    "sns.histplot(data=pd.DataFrame({'Time': vari}), x=\"Time\", bins=10, stat=\"density\")\n",
    "plt.axvline(observed_variance, color=\"red\")\n",
    "\n",
    "p_value = 0\n",
    "for cur_var in vari:\n",
    "    p_value += 1 if cur_var >= observed_variance else 0\n",
    "\n",
    "print(p_value / 1000)\n",
    "print(p_value < 0.05)"
   ],
   "id": "5df04874e9bb8e9c",
   "outputs": [
    {
     "name": "stdout",
     "output_type": "stream",
     "text": [
      "-350.0\n",
      "[164 172 177 156 195 178 191 182 185 177 175 193 171 163 176 155 166 164\n",
      " 170 168]\n",
      "0.611\n",
      "False\n"
     ]
    },
    {
     "data": {
      "text/plain": [
       "<Figure size 640x480 with 1 Axes>"
      ],
      "image/png": "[encoded data removed]"
     },
     "metadata": {},
     "output_type": "display_data"
    }
   ],
   "execution_count": 7
  },
  {
   "cell_type": "markdown",
   "id": "aace2600-4daa-42f4-9427-27cf4c84ebc0",
   "metadata": {},
   "source": [
    "### <span style=\"color:rgb(160,0,86)\">Wie werden Verteilungen verglichen?</span>\n",
    "\n",
    "Eine *graphische Methode* ist das sogenannte \n",
    "- **Q-Q-Diagramm** (Quantil-Quantil-Diagramm) zum Vergleich zweier Verteilungen, indem ihre Quantile gegeneinander aufgetragen werden. Ein Punkt $(x,y)$ im Koordinatensystem entspricht einem der Quantile der zweiten Verteilung ($y$-Koordinate), das gegen das gleiche Quantil der ersten Verteilung ($x$-Koordinate) aufgetragen wird.\n",
    "- Wenn die beiden zu vergleichenden Verteilungen ähnlich sind, liegen die Punkte in der Q-Q-Darstellung **annähernd auf der Linie**.\n",
    "\n",
    "![HSLU](Bilder/QQPlot.png)"
   ]
  },
  {
   "cell_type": "markdown",
   "id": "134592d5-1780-4bc2-aff5-94a147c71969",
   "metadata": {},
   "source": [
    "### <span style=\"color:rgb(160,0,86)\">Aufgabe 2</span>\n",
    "\n",
    "- Laden Sie die Daten der Stichprobe in der Datei *Palette.sav* und *loans_income.csv* im Ordner Daten.\n",
    "- Prüfen Sie mit einem **Q-Q-Diagramm** für alle Merkmale in diesen Daten, ob sie normalverteilt sind.   "
   ]
  },
  {
   "cell_type": "code",
   "id": "9bfcb6d1-5355-469b-b627-ee41e9b074e6",
   "metadata": {
    "ExecuteTime": {
     "end_time": "2025-04-08T08:54:34.858823Z",
     "start_time": "2025-04-08T08:54:34.846459Z"
    }
   },
   "source": [
    "import pyreadstat as prs  #do not delete\n",
    "from scipy.stats import norm\n",
    "\n",
    "df = pd.read_spss(\"Daten/Palette.sav\")\n",
    "print(df)\n",
    "r = norm.rvs(size=len(df))\n",
    "\n",
    "plt.figure(figsize=(15, 5))\n"
   ],
   "outputs": [
    {
     "name": "stdout",
     "output_type": "stream",
     "text": [
      "      Nummer  Breite  Höhe  Gewicht\n",
      "0    10001.0    44.7  58.5     66.5\n",
      "1    10002.0    44.0  60.1     65.5\n",
      "2    10003.0    44.4  57.2     63.0\n",
      "3    10004.0    43.3  59.2     64.5\n",
      "4    10005.0    45.3  57.6     65.5\n",
      "..       ...     ...   ...      ...\n",
      "745  10746.0    44.4  55.7     61.5\n",
      "746  10747.0    44.0  54.4     61.0\n",
      "747  10748.0    44.6  57.3     66.0\n",
      "748  10749.0    42.8  57.1     58.5\n",
      "749  10750.0    44.3  54.3     61.0\n",
      "\n",
      "[750 rows x 4 columns]\n"
     ]
    },
    {
     "data": {
      "text/plain": [
       "<Figure size 1500x500 with 0 Axes>"
      ]
     },
     "execution_count": 13,
     "metadata": {},
     "output_type": "execute_result"
    },
    {
     "data": {
      "text/plain": [
       "<Figure size 1500x500 with 0 Axes>"
      ]
     },
     "metadata": {},
     "output_type": "display_data"
    }
   ],
   "execution_count": 13
  },
  {
   "cell_type": "markdown",
   "id": "91761f9e-81c5-439b-b923-fc3087bfc50f",
   "metadata": {},
   "source": [
    "Web-Tests gehen oft über A/B-Tests hinaus und testen mehrere *Behandlungs*-Varianten auf einmal. Der **Chi-Quadrat-Test** wird bei Daten verwendet, um zu prüfen, wie gut sie einer **erwarteten Verteilung** entsprechen.\n",
    "\n",
    "Der Chi-Quadrat-Test wurde ursprünglich von Karl Pearson im Jahr 1900 entwickelt. Der Begriff ***chi*** stammt von dem griechischen Buchstaben $\\pmb{\\chi}$, den Pearson in dem Artikel verwendete.\n",
    "\n",
    "#### <span style=\"color:rgb(160,0,86)\">Ein Resampling-Ansatz für den Chi-Quadrat-Test</span>\n",
    "\n",
    "Angenommen, wir testen drei verschiedene Schlagzeilen A, B und C und führen sie jeweils mit 1.000 Besuchern durch. Die Ergebnisse sind in folgender Tabelle dargestellt.\n",
    "\n",
    "$$\\begin{array}{c|ccc}\n",
    "& \\textbf{Schlagzeile A} & \\textbf{Schlagzeile B} & \\textbf{Schlagzeile C} \\\\ \\hline\n",
    "\\textbf{Klick} & 14 & 8 & 12\\\\\n",
    "\\textbf{kein Klick} & 986 & 992 & 988\\\\ \n",
    "\\end{array}$$\n",
    "Die Schlagzeilen scheinen sich deutlich zu unterscheiden. Schlagzeile A hat eine fast doppelt so hohe Klickrate wie B. Die tatsächlichen Zahlen sind jedoch gering. Mit einem Resampling-Verfahren kann getestet werden, ob sich die Klickraten in einem grösseren Ausmass unterscheiden, als es der Zufall verursachen könnte. \n",
    "\n",
    "Für diesen Test benötigen wir die ***erwartete Verteilung der Klicks***, dass alle drei Schlagzeilen die gleiche Klickrate haben, also eine Klickrate von $$\\frac{14+8+12}{1000+1000+1000}=\\frac{34}{3000}$$ für alle drei Schlagzeilen.\n",
    "\n",
    "Das sogenannte **quadratische Pearson-Residuum** $$R^2=\\frac{(\\text{beobachtete Häufigkeit}-\\text{erwartete Häufigkeit})^2}{\\text{erwartete Häufigkeit}}$$ misst das Aussmass, wie stark sich die **beobachteten Häufigkeiten** und die **erwarteten Häufigkeiten** unterscheiden. \n",
    "\n",
    "Die **Chi-Quadrat-Metrik** $\\pmb{\\chi^2}$ ist definiert als die **Summe der quadrierten Pearson-Residuen**:\n",
    "$$\\pmb{\\chi^2} = \n",
    "\\pmb{R}_{\\text{\\small A,Klick}}^2 + \\pmb{R}_{\\text{\\small A,kein Klick}}^2 + \\pmb{R}_{\\text{\\small B,Klick}}^2 + \\pmb{R}_{\\text{\\small B,kein Klick}}^2 + \\pmb{R}_{\\text{\\small C,Klick}}^2 + \\pmb{R}_{\\text{\\small C,kein Klick}}^2$$\n",
    "wobei über **alle Zeilen** und **Spalten der Tabelle** addiert wird. \n",
    "\n",
    "Ob die Chi-Quadrat-Metrik für dieses Beispiel grösser ist, als bei einem Zufallsmodell vernünftigerweise auftreten könnte,  können wir mit dem folgenden **Resampling-Algorithmus** testen:\n",
    "\n",
    "1. Erstellen Sie eine Liste mit 34 Einsen (Klicks) und 2966 Nullen (keine Klicks).\n",
    "2. Mischen Sie die Liste und nehmen Sie drei separate Stichproben mit $n=1000$ und zählen Sie die Klicks in jeder Stichprobe.\n",
    "3. Finden Sie alle quadrierten Pearson-Residuen und addieren Sie sie.\n",
    "4. Wiederhole 1000 Mal die Schritte 2 und 3.\n",
    "\n",
    "Wie oft ist die **Summe der quadrierten Pearson-Residuen** grösser als die beobachtete? Das ist der $\\pmb{p}\\textbf{-Wert}$."
   ]
  },
  {
   "cell_type": "markdown",
   "id": "940af48f-22e1-4363-a5ed-5e21db3fc721",
   "metadata": {},
   "source": [
    "### <span style=\"color:rgb(160,0,86)\">Aufgabe 3</span>\n",
    "\n",
    "- Laden Sie die Daten der Stichprobe in der Datei *click_rates.csv* im Ordner Daten. \n",
    "- Wie lautet die **Nullhypothese** und die entsprechende **Alternativhypothese**?\n",
    "- Bestimmen Sie mit dem Resampling-Verfahren für den **Chi-Quadrat-Test** eine Menge von 1000 permutieren Summen der quadrierten Pearson-Residuen und stellen Sie die Verteilung dieser Werte in einem Dichtediagramm dar. Zeichnen Sie in das gleiche Diagramm auch die beobachtete Summe der quadrierten Pearson-Residuen ein.\n",
    "- Bestimmen Sie den $\\pmb{p}\\textbf{-Wert}$ und machen Sie auf dem **Signifikanzniveau von 5%** einen Testentscheid."
   ]
  },
  {
   "cell_type": "code",
   "execution_count": null,
   "id": "51bf0f43-9118-4e1e-bd06-15ffa32948c7",
   "metadata": {},
   "outputs": [],
   "source": [
    "# To do!"
   ]
  },
  {
   "cell_type": "markdown",
   "id": "b9539f1e-785b-4615-864c-69636cc3cc75",
   "metadata": {},
   "source": [
    "### <span style=\"color:rgb(160,0,86)\">Aufgabe 4</span>\n",
    "Ein interessantes Beispiel ist die Forscherin **Thereza Imanishi-Kari** von der Tufts University, die 1991 beschuldigt wurde, in ihrer Forschung Daten gefälscht zu haben. Der Kongressabgeordnete John Dingell schaltete sich ein, und der Fall führte schliesslich zum Rücktritt ihres Kollegen David Baltimore von der Präsidentschaft der Rockefeller University.\n",
    "\n",
    "Imanishi-Kari wurde nach einem langwierigen Verfahren entlastet. Ein Teil des Falles beruhte jedoch auf statistischen Beweisen für die erwartete Verteilung der Ziffern in ihren Labordaten, bei denen jede Beobachtung viele Ziffern aufwies. Die Ermittler konzentrierten sich auf die *inneren Ziffern*, von denen man annehmen kann, dass sie einer gleichmässigen Zufallsverteilung folgen. Das heisst, sie treten nach dem Zufallsprinzip auf, wobei jede Ziffer mit gleicher Wahrscheinlichkeit vorkommt (die führende Ziffer könnte überwiegend einen Wert haben, und die Endziffern könnten durch Rundung beeinflusst werden). In der Datei *imanishi_data.csv* im Ordner Daten sind die Häufigkeiten der inneren Ziffern aus den tatsächlichen Daten des Falles aufgeführt.\n",
    "\n",
    "- Laden Sie die Daten der Stichprobe in der Datei *imanishi_data.csv* im Ordner Daten.\n",
    "- Zeichnen Sie ein Dichtediagramm für die Häufigkeiten der *inneren Ziffern*.\n",
    "- Wie lautet die **Nullhypothese** und die entsprechende **Alternativhypothese**?\n",
    "- Bestimmen Sie mit dem Resampling-Verfahren für den **Chi-Quadrat-Test** eine Menge von 1000 permutieren Summen der quadrierten Pearson-Residuen und stellen Sie die Verteilung dieser Werte in einem Dichtediagramm dar. Zeichnen Sie in das gleiche Diagramm auch die beobachtete Summe der quadrierten Pearson-Residuen ein.\n",
    "- Bestimmen Sie den $\\pmb{p}\\textbf{-Wert}$ und machen Sie auf dem **Signifikanzniveau von 5%** einen Testentscheid."
   ]
  },
  {
   "cell_type": "code",
   "execution_count": null,
   "id": "b27888bd-fe78-4ed8-ab3e-83ab29d45abf",
   "metadata": {},
   "outputs": [],
   "source": [
    "# To do!"
   ]
  },
  {
   "cell_type": "markdown",
   "id": "afc58872-4e9b-44ca-97e9-2b7c5f4e62f7",
   "metadata": {},
   "source": [
    "![HSLU](Bilder/LogoHSLU.png)"
   ]
  }
 ],
 "metadata": {
  "kernelspec": {
   "display_name": "Python 3 (ipykernel)",
   "language": "python",
   "name": "python3"
  },
  "language_info": {
   "codemirror_mode": {
    "name": "ipython",
    "version": 3
   },
   "file_extension": ".py",
   "mimetype": "text/x-python",
   "name": "python",
   "nbconvert_exporter": "python",
   "pygments_lexer": "ipython3",
   "version": "3.10.6"
  }
 },
 "nbformat": 4,
 "nbformat_minor": 5
}
