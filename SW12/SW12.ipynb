{
 "cells": [
  {
   "cell_type": "markdown",
   "id": "f8edfe32-7c29-46a2-939f-a0d3f4e6fa2b",
   "metadata": {},
   "source": [
    "# <span style=\"color:rgb(160,0,86)\">Regressionsanalyse</span>\n",
    "\n",
    "***"
   ]
  },
  {
   "cell_type": "markdown",
   "id": "efc2b411-5d0c-45cd-a36d-deb3a678be0e",
   "metadata": {},
   "source": [
    "## <span style=\"color:rgb(160,0,86)\">Lernziele</span>\n",
    "\n",
    "- Sie können eine **multiple lineare Regression** durchführen.\n",
    "- Sie verstehen den Unterschied zwischen einer *in-Sample* und einer *out-of-Sample* Validierung und können eine **Kreuzvalidierung** durchführen.  \n",
    "- Sie können nominale Merkmale mit **Faktorvariablen** in ein Modell einbeziehen.\n",
    "- Sie können eine **Vorwärtsselektion** durchführen.  \n",
    "\n",
    "***"
   ]
  },
  {
   "cell_type": "markdown",
   "id": "e1aeb5b2-eafa-4db1-b3d5-9b13de1f83fe",
   "metadata": {},
   "source": [
    "### <span style=\"color:rgb(160,0,86)\">Was ist eine multiple lineare Regression?</span>\n",
    "\n",
    "Bei einer **multiplen linearen Regression** werden mehrere Einflussgrössen (Prädiktoren) in einem linearen Modell gleichzeitig betrachtet:\n",
    "$$\\;\\;y = \\texttt{predict}(x_1,x_2,\\ldots,x_n) = a_1\\cdot x_1 + a_2\\cdot x_2 + \\ldots a_n\\cdot x_n + b$$\n",
    "\n",
    "Wieder aus einer Stichprobe werden die **Regressionskoeffizienten** $\\pmb{\\hat{a}_1}, \\pmb{\\hat{a}_2}, \\ldots, \\pmb{\\hat{a}_n}$ geschätzt. Das Vorgehen und die Analyse sind sonst identisch. Einzig beim **Standardfehler der Residuen** wird die ***Anzahl Prädiktoren*** $\\pmb{p}$ berücksichtigt: $$\\pmb{\\mathsf{RSE} = \\sqrt{\\frac{\\mathsf{RSS}}{n-p-1}}=\\sqrt{\\frac{r_1^2+r_2^2+r_3^2+\\ldots+r_n^2}{n-p-1}} }$$  \n",
    "\n",
    "Ein weiterer Punkt ist, dass wir die Daten nicht mehr in einem Bild darstellen können. Wir müssen uns auf die Rechnungen verlassen."
   ]
  },
  {
   "cell_type": "markdown",
   "id": "2e06298c-4330-47c3-8648-09690e76b5d3",
   "metadata": {},
   "source": [
    "***\n",
    "\n",
    "#### <span style=\"color:rgb(160,0,86)\">Beispiele:</span>\n",
    "\n",
    "Wir betrachen ein Beispiel aus der Marktforschung, in dem der Einfluss von Werbung auf den Verkauf eines Gutes untersucht wird:\n",
    "\n"
   ]
  },
  {
   "cell_type": "code",
   "id": "15519874-2bff-4bf3-8b47-e49d1fb353c6",
   "metadata": {
    "ExecuteTime": {
     "end_time": "2025-05-12T07:01:17.025254Z",
     "start_time": "2025-05-12T07:01:17.003381Z"
    }
   },
   "source": [
    "import pandas as pd\n",
    "import numpy as np\n",
    "import matplotlib.pyplot as plt\n",
    "\n",
    "werbung = pd.read_csv(\"Daten/Werbung.csv\")\n",
    "werbung.head()"
   ],
   "outputs": [
    {
     "data": {
      "text/plain": [
       "   Unnamed: 0     TV  Radio  Zeitung  Verkauf\n",
       "0           1  230.1   37.8     69.2     22.1\n",
       "1           2   44.5   39.3     45.1     10.4\n",
       "2           3   17.2   45.9     69.3      9.3\n",
       "3           4  151.5   41.3     58.5     18.5\n",
       "4           5  180.8   10.8     58.4     12.9"
      ],
      "text/html": [
       "<div>\n",
       "<style scoped>\n",
       "    .dataframe tbody tr th:only-of-type {\n",
       "        vertical-align: middle;\n",
       "    }\n",
       "\n",
       "    .dataframe tbody tr th {\n",
       "        vertical-align: top;\n",
       "    }\n",
       "\n",
       "    .dataframe thead th {\n",
       "        text-align: right;\n",
       "    }\n",
       "</style>\n",
       "<table border=\"1\" class=\"dataframe\">\n",
       "  <thead>\n",
       "    <tr style=\"text-align: right;\">\n",
       "      <th></th>\n",
       "      <th>Unnamed: 0</th>\n",
       "      <th>TV</th>\n",
       "      <th>Radio</th>\n",
       "      <th>Zeitung</th>\n",
       "      <th>Verkauf</th>\n",
       "    </tr>\n",
       "  </thead>\n",
       "  <tbody>\n",
       "    <tr>\n",
       "      <th>0</th>\n",
       "      <td>1</td>\n",
       "      <td>230.1</td>\n",
       "      <td>37.8</td>\n",
       "      <td>69.2</td>\n",
       "      <td>22.1</td>\n",
       "    </tr>\n",
       "    <tr>\n",
       "      <th>1</th>\n",
       "      <td>2</td>\n",
       "      <td>44.5</td>\n",
       "      <td>39.3</td>\n",
       "      <td>45.1</td>\n",
       "      <td>10.4</td>\n",
       "    </tr>\n",
       "    <tr>\n",
       "      <th>2</th>\n",
       "      <td>3</td>\n",
       "      <td>17.2</td>\n",
       "      <td>45.9</td>\n",
       "      <td>69.3</td>\n",
       "      <td>9.3</td>\n",
       "    </tr>\n",
       "    <tr>\n",
       "      <th>3</th>\n",
       "      <td>4</td>\n",
       "      <td>151.5</td>\n",
       "      <td>41.3</td>\n",
       "      <td>58.5</td>\n",
       "      <td>18.5</td>\n",
       "    </tr>\n",
       "    <tr>\n",
       "      <th>4</th>\n",
       "      <td>5</td>\n",
       "      <td>180.8</td>\n",
       "      <td>10.8</td>\n",
       "      <td>58.4</td>\n",
       "      <td>12.9</td>\n",
       "    </tr>\n",
       "  </tbody>\n",
       "</table>\n",
       "</div>"
      ]
     },
     "execution_count": 1,
     "metadata": {},
     "output_type": "execute_result"
    }
   ],
   "execution_count": 1
  },
  {
   "cell_type": "code",
   "id": "619c725d-5d8a-4fb3-9b5a-53854a3343fb",
   "metadata": {
    "ExecuteTime": {
     "end_time": "2025-05-12T07:01:19.409656Z",
     "start_time": "2025-05-12T07:01:19.176384Z"
    }
   },
   "source": [
    "fig = plt.figure(figsize=(15, 5))\n",
    "ax1 = fig.add_subplot(1, 3, 1)\n",
    "werbung.plot.scatter(x=\"TV\", y=\"Verkauf\", ax=ax1, marker=\"$\\u25EF$\")\n",
    "ax1.set_xlabel(\"TV\")\n",
    "ax1.set_ylabel(\"Verkauf\")\n",
    "\n",
    "ax2 = fig.add_subplot(1, 3, 2)\n",
    "werbung.plot.scatter(x=\"Radio\", y=\"Verkauf\", ax=ax2, marker=\"$\\u25EF$\")\n",
    "ax2.set_xlabel(\"Radio\")\n",
    "ax2.set_ylabel(\"Verkauf\")\n",
    "\n",
    "ax3 = fig.add_subplot(1, 3, 3)\n",
    "werbung.plot.scatter(x=\"Zeitung\", y=\"Verkauf\", ax=ax3, marker=\"$\\u25EF$\")\n",
    "ax3.set_xlabel(\"Zeitung\")\n",
    "ax3.set_ylabel(\"Verkauf\")\n",
    "\n",
    "plt.show()"
   ],
   "outputs": [
    {
     "data": {
      "text/plain": [
       "<Figure size 1500x500 with 3 Axes>"
      ],
      "image/png": "[encoded data removed]"
     },
     "metadata": {},
     "output_type": "display_data"
    }
   ],
   "execution_count": 2
  },
  {
   "cell_type": "code",
   "id": "a3f6f54b-193c-4de1-b912-c8d90898b90c",
   "metadata": {
    "ExecuteTime": {
     "end_time": "2025-05-12T07:02:18.496841Z",
     "start_time": "2025-05-12T07:02:18.468579Z"
    }
   },
   "source": [
    "from scipy.optimize import minimize\n",
    "\n",
    "\n",
    "def model(TV, Radio, Zeitung, a_TV, a_Radio, a_Zeitung, b):\n",
    "    return a_TV * TV + a_Radio * Radio + a_Zeitung * Zeitung + b\n",
    "\n",
    "\n",
    "def RSS(coeffs):\n",
    "    residuen = werbung[\"Verkauf\"] - model(werbung[\"TV\"],\n",
    "                                          werbung[\"Radio\"],\n",
    "                                          werbung[\"Zeitung\"],\n",
    "                                          coeffs[0],\n",
    "                                          coeffs[1],\n",
    "                                          coeffs[2],\n",
    "                                          coeffs[3])\n",
    "    return (residuen ** 2).sum()\n",
    "\n",
    "\n",
    "fit = minimize(RSS, x0=np.zeros(4) + 0.1)\n",
    "fit"
   ],
   "outputs": [
    {
     "data": {
      "text/plain": [
       "  message: Desired error not necessarily achieved due to precision loss.\n",
       "  success: False\n",
       "   status: 2\n",
       "      fun: 556.8252629034532\n",
       "        x: [ 4.576e-02  1.885e-01 -1.038e-03  2.939e+00]\n",
       "      nit: 7\n",
       "      jac: [-1.526e-05 -7.629e-06  0.000e+00 -7.629e-06]\n",
       " hess_inv: [[ 2.118e-07 -6.061e-07 -3.436e-07  5.261e-07]\n",
       "            [-6.061e-07  1.092e-05 -4.288e-06 -5.422e-06]\n",
       "            [-3.436e-07 -4.288e-06  5.440e-06 -4.651e-07]\n",
       "            [ 5.261e-07 -5.422e-06 -4.651e-07  4.836e-06]]\n",
       "     nfev: 70\n",
       "     njev: 14"
      ]
     },
     "execution_count": 4,
     "metadata": {},
     "output_type": "execute_result"
    }
   ],
   "execution_count": 4
  },
  {
   "cell_type": "code",
   "id": "4139080a-9a13-4aee-a2d5-e8d7ca3a133b",
   "metadata": {
    "ExecuteTime": {
     "end_time": "2025-05-12T07:02:25.442833Z",
     "start_time": "2025-05-12T07:02:25.439344Z"
    }
   },
   "source": [
    "def predict(TV, Radio, Zeitung):\n",
    "    return model(TV, Radio, Zeitung, fit.x[0], fit.x[1], fit.x[2], fit.x[3])"
   ],
   "outputs": [],
   "execution_count": 5
  },
  {
   "cell_type": "code",
   "id": "cb06867c-c03b-49be-87c8-c1d44863b405",
   "metadata": {
    "ExecuteTime": {
     "end_time": "2025-05-12T07:40:51.208366Z",
     "start_time": "2025-05-12T07:40:51.204773Z"
    }
   },
   "source": [
    "# Residual standard Error \n",
    "p = 3  # Anzahl Prädiktoren\n",
    "RSE = np.sqrt(1 / (werbung.shape[0] - p - 1) * fit.fun)  # fit.fun = RSS im Modell\n",
    "\n",
    "print(RSE)"
   ],
   "outputs": [
    {
     "name": "stdout",
     "output_type": "stream",
     "text": [
      "1.68551037341666\n"
     ]
    }
   ],
   "execution_count": 9
  },
  {
   "cell_type": "code",
   "id": "fccfa024-eac5-4fa1-93ad-00d0c3b36ce5",
   "metadata": {
    "ExecuteTime": {
     "end_time": "2025-05-12T07:40:53.724450Z",
     "start_time": "2025-05-12T07:40:53.719985Z"
    }
   },
   "source": [
    "R_squared = (predict(werbung[\"TV\"], werbung[\"Radio\"], werbung[\"Zeitung\"]).var() /\n",
    "             werbung[\"Verkauf\"].var())\n",
    "print(R_squared)"
   ],
   "outputs": [
    {
     "name": "stdout",
     "output_type": "stream",
     "text": [
      "0.8972098433604959\n"
     ]
    }
   ],
   "execution_count": 10
  },
  {
   "cell_type": "code",
   "id": "5c924074-f6f1-4a77-be2d-47e8dfd9c1de",
   "metadata": {
    "ExecuteTime": {
     "end_time": "2025-05-12T07:41:29.339551Z",
     "start_time": "2025-05-12T07:40:56.720231Z"
    }
   },
   "source": [
    "# Permutationstest\n",
    "n_permutations = 1000\n",
    "coefs_TV = []\n",
    "coefs_Radio = []\n",
    "coefs_Zeitung = []\n",
    "\n",
    "for _ in range(n_permutations):\n",
    "    Verkauf_permuted = np.random.permutation(werbung[\"Verkauf\"])\n",
    "\n",
    "\n",
    "    def RSS(coeffs):\n",
    "        residuen = Verkauf_permuted - model(werbung[\"TV\"],\n",
    "                                            werbung[\"Radio\"],\n",
    "                                            werbung[\"Zeitung\"],\n",
    "                                            coeffs[0],\n",
    "                                            coeffs[1],\n",
    "                                            coeffs[2],\n",
    "                                            coeffs[3])\n",
    "        return (residuen ** 2).sum()\n",
    "\n",
    "\n",
    "    fit_permuted = minimize(RSS, x0=np.zeros(4) + 0.1)\n",
    "    coefs_TV.append(fit_permuted.x[0])\n",
    "    coefs_Radio.append(fit_permuted.x[1])\n",
    "    coefs_Zeitung.append(fit_permuted.x[2])\n",
    "\n",
    "# p-Wert berechnen (zweiseitig)\n",
    "coefs_TV = np.array(coefs_TV)\n",
    "p_value_TV = 100 * np.mean(np.abs(coefs_TV) >= np.abs(fit.x[0]))\n",
    "\n",
    "coefs_Radio = np.array(coefs_Radio)\n",
    "p_value_Radio = 100 * np.mean(np.abs(coefs_Radio) >= np.abs(fit.x[1]))\n",
    "\n",
    "coefs_Zeitung = np.array(coefs_Zeitung)\n",
    "p_value_Zeitung = 100 * np.mean(np.abs(coefs_Zeitung) >= np.abs(fit.x[2]))\n",
    "\n",
    "print(f\"Beobachteter Koeffizient: {fit.x[0]:.4f}\")\n",
    "print(f\"Resampling-basierter p-Wert: {p_value_TV:}\")\n",
    "print(f\"Beobachteter Koeffizient: {fit.x[1]:.4f}\")\n",
    "print(f\"Resampling-basierter p-Wert: {p_value_Radio:}\")\n",
    "print(f\"Beobachteter Koeffizient: {fit.x[2]:.4f}\")\n",
    "print(f\"Resampling-basierter p-Wert: {p_value_Zeitung:}\")\n"
   ],
   "outputs": [
    {
     "name": "stdout",
     "output_type": "stream",
     "text": [
      "Beobachteter Koeffizient: 0.0458\n",
      "Resampling-basierter p-Wert: 0.0\n",
      "Beobachteter Koeffizient: 0.1885\n",
      "Resampling-basierter p-Wert: 0.0\n",
      "Beobachteter Koeffizient: -0.0010\n",
      "Resampling-basierter p-Wert: 96.0\n"
     ]
    }
   ],
   "execution_count": 11
  },
  {
   "cell_type": "code",
   "id": "174f8076-0554-4fe4-a17f-afd063924f13",
   "metadata": {
    "ExecuteTime": {
     "end_time": "2025-05-12T07:50:20.914630Z",
     "start_time": "2025-05-12T07:50:20.637241Z"
    }
   },
   "source": [
    "import seaborn as sns\n",
    "\n",
    "fig = plt.figure(figsize=(17, 5))\n",
    "ax1 = fig.add_subplot(1, 3, 1)\n",
    "ax1 = sns.histplot(coefs_TV, stat=\"density\", color=\"red\")\n",
    "ax1 = plt.axvline(fit.x[0], color=\"blue\", lw=2, linestyle=\"dashed\")\n",
    "ax1 = plt.text(0.75, 0.9, r\"$a=$\" + \"{m:1.3f}\".format(m=fit.x[0]),\n",
    "               fontsize=12, transform=plt.gca().transAxes)\n",
    "ax1 = plt.text(0.3, 0.9, r\"$p-$\" + \"Value\" + r\"$ = $\" + \"{p:1.1f}%\".format(p=p_value_TV),\n",
    "               fontsize=12, transform=plt.gca().transAxes)\n",
    "ax1 = plt.title(\"1000 permutierte Koeffizienten a_TV\",\n",
    "                fontsize=13, pad=10)\n",
    "ax1 = plt.xlabel(\"\")\n",
    "ax1 = plt.yticks([])\n",
    "\n",
    "ax2 = fig.add_subplot(1, 3, 2)\n",
    "ax2 = sns.histplot(coefs_Radio, stat=\"density\", color=\"red\")\n",
    "ax2 = plt.axvline(fit.x[1], color=\"blue\", lw=2, linestyle=\"dashed\")\n",
    "ax2 = plt.text(0.75, 0.9, r\"$a=$\" + \"{m:1.3f}\".format(m=fit.x[1]),\n",
    "               fontsize=12, transform=plt.gca().transAxes)\n",
    "ax2 = plt.text(0.3, 0.9, r\"$p-$\" + \"Value\" + r\"$ = $\" + \"{p:1.1f}%\".format(p=p_value_Radio),\n",
    "               fontsize=12, transform=plt.gca().transAxes)\n",
    "ax2 = plt.title(\"1000 permutierte Koeffizienten a_Radio\",\n",
    "                fontsize=13, pad=10)\n",
    "ax2 = plt.xlabel(\"\")\n",
    "ax2 = plt.yticks([])\n",
    "\n",
    "ax3 = fig.add_subplot(1, 3, 3)\n",
    "ax3 = sns.histplot(coefs_Zeitung, stat=\"density\", color=\"red\")\n",
    "ax3 = plt.axvline(fit.x[2], color=\"blue\", lw=2, linestyle=\"dashed\")\n",
    "ax3 = plt.text(0.75, 0.9, r\"$a=$\" + \"{m:1.3f}\".format(m=fit.x[2]),\n",
    "               fontsize=12, transform=plt.gca().transAxes)\n",
    "ax3 = plt.text(0.3, 0.9, r\"$p-$\" + \"Value\" + r\"$ = $\" + \"{p:1.1f}%\".format(p=p_value_Zeitung),\n",
    "               fontsize=12, transform=plt.gca().transAxes)\n",
    "ax3 = plt.title(\"1000 permutierte Koeffizienten a_Zeitung\",\n",
    "                fontsize=13, pad=10)\n",
    "ax3 = plt.xlabel(\"\")\n",
    "ax3 = plt.yticks([])"
   ],
   "outputs": [
    {
     "data": {
      "text/plain": [
       "<Figure size 1700x500 with 3 Axes>"
      ],
      "image/png": "[encoded data removed]"
     },
     "metadata": {},
     "output_type": "display_data"
    }
   ],
   "execution_count": 12
  },
  {
   "cell_type": "code",
   "id": "e7bced4b-86e6-48d5-941a-8bac64791426",
   "metadata": {
    "ExecuteTime": {
     "end_time": "2025-05-12T07:53:17.842041Z",
     "start_time": "2025-05-12T07:53:17.833674Z"
    }
   },
   "source": [
    "werbung.corr()\n",
    "# Korrelationskoeffizient zwischen Prädiktoren Radio und Zeitung ist hoch "
   ],
   "outputs": [
    {
     "data": {
      "text/plain": [
       "            Unnamed: 0        TV     Radio   Zeitung   Verkauf\n",
       "Unnamed: 0    1.000000  0.017715 -0.110680 -0.154944 -0.051616\n",
       "TV            0.017715  1.000000  0.054809  0.056648  0.782224\n",
       "Radio        -0.110680  0.054809  1.000000  0.354104  0.576223\n",
       "Zeitung      -0.154944  0.056648  0.354104  1.000000  0.228299\n",
       "Verkauf      -0.051616  0.782224  0.576223  0.228299  1.000000"
      ],
      "text/html": [
       "<div>\n",
       "<style scoped>\n",
       "    .dataframe tbody tr th:only-of-type {\n",
       "        vertical-align: middle;\n",
       "    }\n",
       "\n",
       "    .dataframe tbody tr th {\n",
       "        vertical-align: top;\n",
       "    }\n",
       "\n",
       "    .dataframe thead th {\n",
       "        text-align: right;\n",
       "    }\n",
       "</style>\n",
       "<table border=\"1\" class=\"dataframe\">\n",
       "  <thead>\n",
       "    <tr style=\"text-align: right;\">\n",
       "      <th></th>\n",
       "      <th>Unnamed: 0</th>\n",
       "      <th>TV</th>\n",
       "      <th>Radio</th>\n",
       "      <th>Zeitung</th>\n",
       "      <th>Verkauf</th>\n",
       "    </tr>\n",
       "  </thead>\n",
       "  <tbody>\n",
       "    <tr>\n",
       "      <th>Unnamed: 0</th>\n",
       "      <td>1.000000</td>\n",
       "      <td>0.017715</td>\n",
       "      <td>-0.110680</td>\n",
       "      <td>-0.154944</td>\n",
       "      <td>-0.051616</td>\n",
       "    </tr>\n",
       "    <tr>\n",
       "      <th>TV</th>\n",
       "      <td>0.017715</td>\n",
       "      <td>1.000000</td>\n",
       "      <td>0.054809</td>\n",
       "      <td>0.056648</td>\n",
       "      <td>0.782224</td>\n",
       "    </tr>\n",
       "    <tr>\n",
       "      <th>Radio</th>\n",
       "      <td>-0.110680</td>\n",
       "      <td>0.054809</td>\n",
       "      <td>1.000000</td>\n",
       "      <td>0.354104</td>\n",
       "      <td>0.576223</td>\n",
       "    </tr>\n",
       "    <tr>\n",
       "      <th>Zeitung</th>\n",
       "      <td>-0.154944</td>\n",
       "      <td>0.056648</td>\n",
       "      <td>0.354104</td>\n",
       "      <td>1.000000</td>\n",
       "      <td>0.228299</td>\n",
       "    </tr>\n",
       "    <tr>\n",
       "      <th>Verkauf</th>\n",
       "      <td>-0.051616</td>\n",
       "      <td>0.782224</td>\n",
       "      <td>0.576223</td>\n",
       "      <td>0.228299</td>\n",
       "      <td>1.000000</td>\n",
       "    </tr>\n",
       "  </tbody>\n",
       "</table>\n",
       "</div>"
      ]
     },
     "execution_count": 13,
     "metadata": {},
     "output_type": "execute_result"
    }
   ],
   "execution_count": 13
  },
  {
   "cell_type": "code",
   "id": "890f3451-e736-4d03-b895-0f8a8da0a08f",
   "metadata": {
    "ExecuteTime": {
     "end_time": "2025-05-12T07:54:10.684340Z",
     "start_time": "2025-05-12T07:54:10.671441Z"
    }
   },
   "source": [
    "def model(TV, Radio, a_TV, a_Radio, b):\n",
    "    return a_TV * TV + a_Radio * Radio + b\n",
    "\n",
    "\n",
    "def RSS(coeffs):\n",
    "    residuen = werbung[\"Verkauf\"] - model(werbung[\"TV\"],\n",
    "                                          werbung[\"Radio\"],\n",
    "                                          coeffs[0],\n",
    "                                          coeffs[1],\n",
    "                                          coeffs[2])\n",
    "    return (residuen ** 2).sum()\n",
    "\n",
    "\n",
    "fit = minimize(RSS, x0=np.zeros(3) + 0.2)\n",
    "fit"
   ],
   "outputs": [
    {
     "data": {
      "text/plain": [
       "  message: Optimization terminated successfully.\n",
       "  success: True\n",
       "   status: 0\n",
       "      fun: 556.9139800688515\n",
       "        x: [ 4.575e-02  1.880e-01  2.921e+00]\n",
       "      nit: 4\n",
       "      jac: [-7.629e-06  7.629e-06  0.000e+00]\n",
       " hess_inv: [[ 3.419e-07 -1.084e-07 -4.775e-05]\n",
       "            [-1.084e-07  1.143e-05 -2.500e-04]\n",
       "            [-4.775e-05 -2.500e-04  1.534e-02]]\n",
       "     nfev: 28\n",
       "     njev: 7"
      ]
     },
     "execution_count": 14,
     "metadata": {},
     "output_type": "execute_result"
    }
   ],
   "execution_count": 14
  },
  {
   "cell_type": "code",
   "id": "38087201-8919-471b-bd23-fefc53eaeaf4",
   "metadata": {
    "ExecuteTime": {
     "end_time": "2025-05-12T07:54:14.297234Z",
     "start_time": "2025-05-12T07:54:14.294018Z"
    }
   },
   "source": [
    "def predict(TV, Radio):\n",
    "    return model(TV, Radio, fit.x[0], fit.x[1], fit.x[2])"
   ],
   "outputs": [],
   "execution_count": 15
  },
  {
   "cell_type": "code",
   "id": "53e43743-f67d-41ac-bde7-437a436a867b",
   "metadata": {
    "ExecuteTime": {
     "end_time": "2025-05-12T07:54:16.277754Z",
     "start_time": "2025-05-12T07:54:16.273355Z"
    }
   },
   "source": [
    "# Residual standard Error für einen Prädiktor \n",
    "p = 2  # Anzahl Prädiktoren\n",
    "RSE = np.sqrt(1 / (werbung.shape[0] - p - 1) * fit.fun)  # fit.fun = RSS im Modell\n",
    "\n",
    "print(RSE)"
   ],
   "outputs": [
    {
     "name": "stdout",
     "output_type": "stream",
     "text": [
      "1.6813609125098625\n"
     ]
    }
   ],
   "execution_count": 16
  },
  {
   "cell_type": "code",
   "id": "b6907eeb-19c4-4230-aa69-755d06f0daaf",
   "metadata": {
    "ExecuteTime": {
     "end_time": "2025-05-12T07:54:18.710735Z",
     "start_time": "2025-05-12T07:54:18.706228Z"
    }
   },
   "source": [
    "R_squared = (predict(werbung[\"TV\"], werbung[\"Radio\"]).var() /\n",
    "             werbung[\"Verkauf\"].var())\n",
    "print(R_squared)"
   ],
   "outputs": [
    {
     "name": "stdout",
     "output_type": "stream",
     "text": [
      "0.8971934748759921\n"
     ]
    }
   ],
   "execution_count": 17
  },
  {
   "cell_type": "markdown",
   "id": "4b6178a6-fb0e-403d-bf4f-6dd77a92dec3",
   "metadata": {},
   "source": [
    "### <span style=\"color:rgb(160,0,86)\">Was ist eine Kreuzvalidierung?</span>\n",
    "\n",
    "Die bis anhin betrachteten Regressionsgrössen zur Beurteilung des Modells sind allesamt **stichprobenintern** (in-Sample). Sie werden auf Grundlage derselben Daten ermittelt, die zur Anpassung des Modells verwendet werden. \n",
    "\n",
    "Es ist sinnvoll einen Teil der ursprünglichen Daten beiseitezulegen, sie nicht zur Anpassung des Modells zu verwenden und das Modell dann auf diesen zurückgelegten Daten anzuwenden, um zu sehen, wie gut es abschneidet (out-of-Sample).\n",
    "\n",
    "**Kreuzvalidierung**\n",
    "\n",
    "- Legen Sie $1/k$ der Daten als **Hold-out-Stichprobe** beiseite.\n",
    "- Trainieren Sie das Modell mit den übrigen Daten.\n",
    "- Wenden Sie das Modell auf die **Hold-out-Stichprobe** an und erfallen Sie ein Gütemass zur Bewertung des Modells. Oft wird der **Root-Mean-Square-Error** $$\\textbf{RMSE} = \\sqrt{\\frac{r_1^2+r_2^2+r_3^2+\\ldots+r_n^2}{n}} $$ verwendet.\n",
    "- Wiederholen Sie diese Schritte, bis all Daten jeweils einmal in der **Hold-out-Stichprobe** verwendet wurden.\n",
    "- Bilden Sie den Mittelwert der ermittelten Gütemasse. "
   ]
  },
  {
   "cell_type": "code",
   "id": "670d3845-42fb-4e09-bda2-6c47f3065155",
   "metadata": {
    "ExecuteTime": {
     "end_time": "2025-05-12T08:05:02.213656Z",
     "start_time": "2025-05-12T08:05:02.207656Z"
    }
   },
   "source": [
    "idx = np.random.permutation(werbung.index)\n",
    "m = len(idx)\n",
    "werbung_1 = werbung.iloc[idx[0:int(0.25 * m)]]\n",
    "werbung_2 = werbung.iloc[idx[int(0.25 * m):int(0.5 * m)]]\n",
    "werbung_3 = werbung.iloc[idx[int(0.5 * m):int(0.75 * m)]]\n",
    "werbung_4 = werbung.iloc[idx[int(0.75 * m):]]\n",
    "print(werbung_1.shape[0], werbung_2.shape[0], werbung_3.shape[0], werbung_4.shape[0])"
   ],
   "outputs": [
    {
     "name": "stdout",
     "output_type": "stream",
     "text": [
      "50 50 50 50\n"
     ]
    }
   ],
   "execution_count": 19
  },
  {
   "cell_type": "code",
   "id": "3246800a-da9b-49c4-88d1-f81123aef0d1",
   "metadata": {
    "ExecuteTime": {
     "end_time": "2025-05-12T08:05:36.325988Z",
     "start_time": "2025-05-12T08:05:36.292728Z"
    }
   },
   "source": [
    "werbung_train = pd.concat([werbung_2, werbung_3, werbung_4])\n",
    "\n",
    "\n",
    "def model(TV, Radio, a_TV, a_Radio, b):\n",
    "    return a_TV * TV + a_Radio * Radio + b\n",
    "\n",
    "\n",
    "def RSS(coeffs):\n",
    "    residuen = werbung_train[\"Verkauf\"] - model(werbung_train[\"TV\"],\n",
    "                                                werbung_train[\"Radio\"],\n",
    "                                                coeffs[0],\n",
    "                                                coeffs[1],\n",
    "                                                coeffs[2])\n",
    "    return (residuen ** 2).sum()\n",
    "\n",
    "\n",
    "fit = minimize(RSS, x0=np.zeros(3) + 0.2)\n",
    "\n",
    "\n",
    "def predict(TV, Radio):\n",
    "    return model(TV, Radio, fit.x[0], fit.x[1], fit.x[2])\n",
    "\n",
    "\n",
    "RMSE_1 = np.sqrt(((werbung_1[\"Verkauf\"] -\n",
    "                   predict(werbung_1[\"TV\"], werbung_1[\"Radio\"])) ** 2).mean())"
   ],
   "outputs": [],
   "execution_count": 22
  },
  {
   "cell_type": "code",
   "id": "b411c0d6-367f-426a-982b-7b2b502dd4cc",
   "metadata": {
    "ExecuteTime": {
     "end_time": "2025-05-12T08:06:35.909897Z",
     "start_time": "2025-05-12T08:06:35.896440Z"
    }
   },
   "source": [
    "werbung_train = pd.concat([werbung_1, werbung_3, werbung_4])\n",
    "\n",
    "\n",
    "def model(TV, Radio, a_TV, a_Radio, b):\n",
    "    return a_TV * TV + a_Radio * Radio + b\n",
    "\n",
    "\n",
    "def RSS(coeffs):\n",
    "    residuen = werbung_train[\"Verkauf\"] - model(werbung_train[\"TV\"],\n",
    "                                                werbung_train[\"Radio\"],\n",
    "                                                coeffs[0],\n",
    "                                                coeffs[1],\n",
    "                                                coeffs[2])\n",
    "    return (residuen ** 2).sum()\n",
    "\n",
    "\n",
    "fit = minimize(RSS, x0=np.zeros(3) + 0.2)\n",
    "\n",
    "\n",
    "def predict(TV, Radio):\n",
    "    return model(TV, Radio, fit.x[0], fit.x[1], fit.x[2])\n",
    "\n",
    "\n",
    "RMSE_2 = np.sqrt(((werbung_2[\"Verkauf\"] -\n",
    "                   predict(werbung_2[\"TV\"], werbung_2[\"Radio\"])) ** 2).mean())"
   ],
   "outputs": [],
   "execution_count": 24
  },
  {
   "cell_type": "code",
   "id": "af5b1bd8-0793-4e7a-9776-fb98a7d12394",
   "metadata": {
    "ExecuteTime": {
     "end_time": "2025-05-12T08:06:39.872347Z",
     "start_time": "2025-05-12T08:06:39.856318Z"
    }
   },
   "source": [
    "werbung_train = pd.concat([werbung_1, werbung_2, werbung_4])\n",
    "\n",
    "\n",
    "def model(TV, Radio, a_TV, a_Radio, b):\n",
    "    return a_TV * TV + a_Radio * Radio + b\n",
    "\n",
    "\n",
    "def RSS(coeffs):\n",
    "    residuen = werbung_train[\"Verkauf\"] - model(werbung_train[\"TV\"],\n",
    "                                                werbung_train[\"Radio\"],\n",
    "                                                coeffs[0],\n",
    "                                                coeffs[1],\n",
    "                                                coeffs[2])\n",
    "    return (residuen ** 2).sum()\n",
    "\n",
    "\n",
    "fit = minimize(RSS, x0=np.zeros(3) + 0.2)\n",
    "\n",
    "\n",
    "def predict(TV, Radio):\n",
    "    return model(TV, Radio, fit.x[0], fit.x[1], fit.x[2])\n",
    "\n",
    "\n",
    "RMSE_3 = np.sqrt(((werbung_3[\"Verkauf\"] -\n",
    "                   predict(werbung_3[\"TV\"], werbung_3[\"Radio\"])) ** 2).mean())"
   ],
   "outputs": [],
   "execution_count": 25
  },
  {
   "cell_type": "code",
   "id": "073c737c-4469-4bb1-ae44-8fc14f1c18f9",
   "metadata": {
    "ExecuteTime": {
     "end_time": "2025-05-12T08:06:42.237782Z",
     "start_time": "2025-05-12T08:06:42.222762Z"
    }
   },
   "source": [
    "werbung_train = pd.concat([werbung_1, werbung_2, werbung_3])\n",
    "\n",
    "\n",
    "def model(TV, Radio, a_TV, a_Radio, b):\n",
    "    return a_TV * TV + a_Radio * Radio + b\n",
    "\n",
    "\n",
    "def RSS(coeffs):\n",
    "    residuen = werbung_train[\"Verkauf\"] - model(werbung_train[\"TV\"],\n",
    "                                                werbung_train[\"Radio\"],\n",
    "                                                coeffs[0],\n",
    "                                                coeffs[1],\n",
    "                                                coeffs[2])\n",
    "    return (residuen ** 2).sum()\n",
    "\n",
    "\n",
    "fit = minimize(RSS, x0=np.zeros(3) + 0.2)\n",
    "\n",
    "\n",
    "def predict(TV, Radio):\n",
    "    return model(TV, Radio, fit.x[0], fit.x[1], fit.x[2])\n",
    "\n",
    "\n",
    "RMSE_4 = np.sqrt(((werbung_4[\"Verkauf\"] -\n",
    "                   predict(werbung_4[\"TV\"], werbung_4[\"Radio\"])) ** 2).mean())"
   ],
   "outputs": [],
   "execution_count": 26
  },
  {
   "cell_type": "code",
   "id": "13176d0e-fba0-4a32-8cff-34902c4e7f53",
   "metadata": {
    "ExecuteTime": {
     "end_time": "2025-05-12T08:06:46.771369Z",
     "start_time": "2025-05-12T08:06:46.768121Z"
    }
   },
   "source": [
    "RMSE = (RMSE_1 + RMSE_2 + RMSE_3 + RMSE_4) / 4\n",
    "print(RMSE_1, RMSE_2, RMSE_3, RMSE_4)\n",
    "print(RMSE)"
   ],
   "outputs": [
    {
     "name": "stdout",
     "output_type": "stream",
     "text": [
      "1.5307291899065933 2.1215461851330706 1.39982890356174 1.6823740758642114\n",
      "1.6836195886164036\n"
     ]
    }
   ],
   "execution_count": 27
  },
  {
   "cell_type": "markdown",
   "id": "eb85522a-39bc-4e6d-9031-c739f44d2a43",
   "metadata": {},
   "source": [
    "### <span style=\"color:rgb(160,0,86)\">Wie können nicht metrische Merkmale berücksichtigt werden?</span>\n",
    "\n",
    "- Die Werte eines **ordinalen Merkmales** werden in vernünftige Zahlen übersetzt.\n",
    "- Die Werte eine **nominalen Merkmals** werden mit **Dummy-Variablen (0/1-Variablen)** abgebildet. Für $k$ Werte braucht es $k-1$ Dummy-Variablen. Ein Wert wird als **Baseline** bezeichnet.\n",
    "\n",
    "Zum Beispiel können wir das Merkmal **Geschlecht G** mit den zwei Werten ***Frau*** und ***Mann*** mit einer Dummy-Variable abbilden:\n",
    "$$\\textbf{G} = \\begin{cases}\\;0&: \\;\\text{ für den Wert \\textbf{Frau}}\\\\ \\;1&: \\;\\text{ für den Wert \\textbf{Mann}}\\end{cases}$$\n",
    "Mit dieser Codierung haben wir den Wert ***Frau*** als **Baseline** gewählt."
   ]
  },
  {
   "cell_type": "code",
   "id": "97e9838e-0564-4120-a408-99a530c02466",
   "metadata": {
    "ExecuteTime": {
     "end_time": "2025-05-12T08:07:23.388007Z",
     "start_time": "2025-05-12T08:07:23.345117Z"
    }
   },
   "source": [
    "immo = pd.read_csv(\"Daten/house_sales.csv\", sep=\"\\t\")\n",
    "immo.head()"
   ],
   "outputs": [
    {
     "data": {
      "text/plain": [
       "  DocumentDate  SalePrice  PropertyID   PropertyType          ym  zhvi_px  \\\n",
       "1   2014-09-16     280000     1000102      Multiplex  2014-09-01   405100   \n",
       "2   2006-06-16    1000000     1200013  Single Family  2006-06-01   404400   \n",
       "3   2007-01-29     745000     1200019  Single Family  2007-01-01   425600   \n",
       "4   2008-02-25     425000     2800016  Single Family  2008-02-01   418400   \n",
       "5   2013-03-29     240000     2800024  Single Family  2013-03-01   351600   \n",
       "\n",
       "   zhvi_idx  AdjSalePrice  NbrLivingUnits  SqFtLot  ...  Bathrooms  Bedrooms  \\\n",
       "1  0.930836      300805.0               2     9373  ...       3.00         6   \n",
       "2  0.929228     1076162.0               1    20156  ...       3.75         4   \n",
       "3  0.977941      761805.0               1    26036  ...       1.75         4   \n",
       "4  0.961397      442065.0               1     8618  ...       3.75         5   \n",
       "5  0.807904      297065.0               1     8620  ...       1.75         4   \n",
       "\n",
       "   BldgGrade  YrBuilt  YrRenovated  TrafficNoise  LandVal  ImpsVal  ZipCode  \\\n",
       "1          7     1991            0             0    70000   229000    98002   \n",
       "2         10     2005            0             0   203000   590000    98166   \n",
       "3          8     1947            0             0   183000   275000    98166   \n",
       "4          7     1966            0             0   104000   229000    98168   \n",
       "5          7     1948            0             0   104000   205000    98168   \n",
       "\n",
       "   NewConstruction  \n",
       "1            False  \n",
       "2             True  \n",
       "3            False  \n",
       "4            False  \n",
       "5            False  \n",
       "\n",
       "[5 rows x 22 columns]"
      ],
      "text/html": [
       "<div>\n",
       "<style scoped>\n",
       "    .dataframe tbody tr th:only-of-type {\n",
       "        vertical-align: middle;\n",
       "    }\n",
       "\n",
       "    .dataframe tbody tr th {\n",
       "        vertical-align: top;\n",
       "    }\n",
       "\n",
       "    .dataframe thead th {\n",
       "        text-align: right;\n",
       "    }\n",
       "</style>\n",
       "<table border=\"1\" class=\"dataframe\">\n",
       "  <thead>\n",
       "    <tr style=\"text-align: right;\">\n",
       "      <th></th>\n",
       "      <th>DocumentDate</th>\n",
       "      <th>SalePrice</th>\n",
       "      <th>PropertyID</th>\n",
       "      <th>PropertyType</th>\n",
       "      <th>ym</th>\n",
       "      <th>zhvi_px</th>\n",
       "      <th>zhvi_idx</th>\n",
       "      <th>AdjSalePrice</th>\n",
       "      <th>NbrLivingUnits</th>\n",
       "      <th>SqFtLot</th>\n",
       "      <th>...</th>\n",
       "      <th>Bathrooms</th>\n",
       "      <th>Bedrooms</th>\n",
       "      <th>BldgGrade</th>\n",
       "      <th>YrBuilt</th>\n",
       "      <th>YrRenovated</th>\n",
       "      <th>TrafficNoise</th>\n",
       "      <th>LandVal</th>\n",
       "      <th>ImpsVal</th>\n",
       "      <th>ZipCode</th>\n",
       "      <th>NewConstruction</th>\n",
       "    </tr>\n",
       "  </thead>\n",
       "  <tbody>\n",
       "    <tr>\n",
       "      <th>1</th>\n",
       "      <td>2014-09-16</td>\n",
       "      <td>280000</td>\n",
       "      <td>1000102</td>\n",
       "      <td>Multiplex</td>\n",
       "      <td>2014-09-01</td>\n",
       "      <td>405100</td>\n",
       "      <td>0.930836</td>\n",
       "      <td>300805.0</td>\n",
       "      <td>2</td>\n",
       "      <td>9373</td>\n",
       "      <td>...</td>\n",
       "      <td>3.00</td>\n",
       "      <td>6</td>\n",
       "      <td>7</td>\n",
       "      <td>1991</td>\n",
       "      <td>0</td>\n",
       "      <td>0</td>\n",
       "      <td>70000</td>\n",
       "      <td>229000</td>\n",
       "      <td>98002</td>\n",
       "      <td>False</td>\n",
       "    </tr>\n",
       "    <tr>\n",
       "      <th>2</th>\n",
       "      <td>2006-06-16</td>\n",
       "      <td>1000000</td>\n",
       "      <td>1200013</td>\n",
       "      <td>Single Family</td>\n",
       "      <td>2006-06-01</td>\n",
       "      <td>404400</td>\n",
       "      <td>0.929228</td>\n",
       "      <td>1076162.0</td>\n",
       "      <td>1</td>\n",
       "      <td>20156</td>\n",
       "      <td>...</td>\n",
       "      <td>3.75</td>\n",
       "      <td>4</td>\n",
       "      <td>10</td>\n",
       "      <td>2005</td>\n",
       "      <td>0</td>\n",
       "      <td>0</td>\n",
       "      <td>203000</td>\n",
       "      <td>590000</td>\n",
       "      <td>98166</td>\n",
       "      <td>True</td>\n",
       "    </tr>\n",
       "    <tr>\n",
       "      <th>3</th>\n",
       "      <td>2007-01-29</td>\n",
       "      <td>745000</td>\n",
       "      <td>1200019</td>\n",
       "      <td>Single Family</td>\n",
       "      <td>2007-01-01</td>\n",
       "      <td>425600</td>\n",
       "      <td>0.977941</td>\n",
       "      <td>761805.0</td>\n",
       "      <td>1</td>\n",
       "      <td>26036</td>\n",
       "      <td>...</td>\n",
       "      <td>1.75</td>\n",
       "      <td>4</td>\n",
       "      <td>8</td>\n",
       "      <td>1947</td>\n",
       "      <td>0</td>\n",
       "      <td>0</td>\n",
       "      <td>183000</td>\n",
       "      <td>275000</td>\n",
       "      <td>98166</td>\n",
       "      <td>False</td>\n",
       "    </tr>\n",
       "    <tr>\n",
       "      <th>4</th>\n",
       "      <td>2008-02-25</td>\n",
       "      <td>425000</td>\n",
       "      <td>2800016</td>\n",
       "      <td>Single Family</td>\n",
       "      <td>2008-02-01</td>\n",
       "      <td>418400</td>\n",
       "      <td>0.961397</td>\n",
       "      <td>442065.0</td>\n",
       "      <td>1</td>\n",
       "      <td>8618</td>\n",
       "      <td>...</td>\n",
       "      <td>3.75</td>\n",
       "      <td>5</td>\n",
       "      <td>7</td>\n",
       "      <td>1966</td>\n",
       "      <td>0</td>\n",
       "      <td>0</td>\n",
       "      <td>104000</td>\n",
       "      <td>229000</td>\n",
       "      <td>98168</td>\n",
       "      <td>False</td>\n",
       "    </tr>\n",
       "    <tr>\n",
       "      <th>5</th>\n",
       "      <td>2013-03-29</td>\n",
       "      <td>240000</td>\n",
       "      <td>2800024</td>\n",
       "      <td>Single Family</td>\n",
       "      <td>2013-03-01</td>\n",
       "      <td>351600</td>\n",
       "      <td>0.807904</td>\n",
       "      <td>297065.0</td>\n",
       "      <td>1</td>\n",
       "      <td>8620</td>\n",
       "      <td>...</td>\n",
       "      <td>1.75</td>\n",
       "      <td>4</td>\n",
       "      <td>7</td>\n",
       "      <td>1948</td>\n",
       "      <td>0</td>\n",
       "      <td>0</td>\n",
       "      <td>104000</td>\n",
       "      <td>205000</td>\n",
       "      <td>98168</td>\n",
       "      <td>False</td>\n",
       "    </tr>\n",
       "  </tbody>\n",
       "</table>\n",
       "<p>5 rows × 22 columns</p>\n",
       "</div>"
      ]
     },
     "execution_count": 28,
     "metadata": {},
     "output_type": "execute_result"
    }
   ],
   "execution_count": 28
  },
  {
   "cell_type": "code",
   "id": "c05ab308-bd1f-4e73-a1d4-c83f8cc7ecf4",
   "metadata": {
    "ExecuteTime": {
     "end_time": "2025-05-12T08:07:40.588799Z",
     "start_time": "2025-05-12T08:07:40.577167Z"
    }
   },
   "source": [
    "pd.get_dummies(immo[\"PropertyType\"]).head()"
   ],
   "outputs": [
    {
     "data": {
      "text/plain": [
       "   Multiplex  Single Family  Townhouse\n",
       "1       True          False      False\n",
       "2      False           True      False\n",
       "3      False           True      False\n",
       "4      False           True      False\n",
       "5      False           True      False"
      ],
      "text/html": [
       "<div>\n",
       "<style scoped>\n",
       "    .dataframe tbody tr th:only-of-type {\n",
       "        vertical-align: middle;\n",
       "    }\n",
       "\n",
       "    .dataframe tbody tr th {\n",
       "        vertical-align: top;\n",
       "    }\n",
       "\n",
       "    .dataframe thead th {\n",
       "        text-align: right;\n",
       "    }\n",
       "</style>\n",
       "<table border=\"1\" class=\"dataframe\">\n",
       "  <thead>\n",
       "    <tr style=\"text-align: right;\">\n",
       "      <th></th>\n",
       "      <th>Multiplex</th>\n",
       "      <th>Single Family</th>\n",
       "      <th>Townhouse</th>\n",
       "    </tr>\n",
       "  </thead>\n",
       "  <tbody>\n",
       "    <tr>\n",
       "      <th>1</th>\n",
       "      <td>True</td>\n",
       "      <td>False</td>\n",
       "      <td>False</td>\n",
       "    </tr>\n",
       "    <tr>\n",
       "      <th>2</th>\n",
       "      <td>False</td>\n",
       "      <td>True</td>\n",
       "      <td>False</td>\n",
       "    </tr>\n",
       "    <tr>\n",
       "      <th>3</th>\n",
       "      <td>False</td>\n",
       "      <td>True</td>\n",
       "      <td>False</td>\n",
       "    </tr>\n",
       "    <tr>\n",
       "      <th>4</th>\n",
       "      <td>False</td>\n",
       "      <td>True</td>\n",
       "      <td>False</td>\n",
       "    </tr>\n",
       "    <tr>\n",
       "      <th>5</th>\n",
       "      <td>False</td>\n",
       "      <td>True</td>\n",
       "      <td>False</td>\n",
       "    </tr>\n",
       "  </tbody>\n",
       "</table>\n",
       "</div>"
      ]
     },
     "execution_count": 29,
     "metadata": {},
     "output_type": "execute_result"
    }
   ],
   "execution_count": 29
  },
  {
   "cell_type": "code",
   "id": "b34a3f60-2b7e-4027-a842-fc3def1c68a3",
   "metadata": {
    "ExecuteTime": {
     "end_time": "2025-05-12T08:07:47.974292Z",
     "start_time": "2025-05-12T08:07:47.967207Z"
    }
   },
   "source": [
    "# Erster Wert ist die Basis\n",
    "pd.get_dummies(immo[\"PropertyType\"], drop_first=True).head()"
   ],
   "outputs": [
    {
     "data": {
      "text/plain": [
       "   Single Family  Townhouse\n",
       "1          False      False\n",
       "2           True      False\n",
       "3           True      False\n",
       "4           True      False\n",
       "5           True      False"
      ],
      "text/html": [
       "<div>\n",
       "<style scoped>\n",
       "    .dataframe tbody tr th:only-of-type {\n",
       "        vertical-align: middle;\n",
       "    }\n",
       "\n",
       "    .dataframe tbody tr th {\n",
       "        vertical-align: top;\n",
       "    }\n",
       "\n",
       "    .dataframe thead th {\n",
       "        text-align: right;\n",
       "    }\n",
       "</style>\n",
       "<table border=\"1\" class=\"dataframe\">\n",
       "  <thead>\n",
       "    <tr style=\"text-align: right;\">\n",
       "      <th></th>\n",
       "      <th>Single Family</th>\n",
       "      <th>Townhouse</th>\n",
       "    </tr>\n",
       "  </thead>\n",
       "  <tbody>\n",
       "    <tr>\n",
       "      <th>1</th>\n",
       "      <td>False</td>\n",
       "      <td>False</td>\n",
       "    </tr>\n",
       "    <tr>\n",
       "      <th>2</th>\n",
       "      <td>True</td>\n",
       "      <td>False</td>\n",
       "    </tr>\n",
       "    <tr>\n",
       "      <th>3</th>\n",
       "      <td>True</td>\n",
       "      <td>False</td>\n",
       "    </tr>\n",
       "    <tr>\n",
       "      <th>4</th>\n",
       "      <td>True</td>\n",
       "      <td>False</td>\n",
       "    </tr>\n",
       "    <tr>\n",
       "      <th>5</th>\n",
       "      <td>True</td>\n",
       "      <td>False</td>\n",
       "    </tr>\n",
       "  </tbody>\n",
       "</table>\n",
       "</div>"
      ]
     },
     "execution_count": 30,
     "metadata": {},
     "output_type": "execute_result"
    }
   ],
   "execution_count": 30
  },
  {
   "cell_type": "code",
   "id": "566e126f-dbda-4de8-bbee-396ffb66c033",
   "metadata": {
    "ExecuteTime": {
     "end_time": "2025-05-12T08:08:17.500376Z",
     "start_time": "2025-05-12T08:08:17.489056Z"
    }
   },
   "source": [
    "teilmenge = [\"SqFtTotLiving\", \"SqFtLot\", \"Bathrooms\", \"Bedrooms\", \"BldgGrade\", \"PropertyType\"]\n",
    "df = pd.get_dummies(immo[teilmenge], drop_first=True)\n",
    "df.head()"
   ],
   "outputs": [
    {
     "data": {
      "text/plain": [
       "   SqFtTotLiving  SqFtLot  Bathrooms  Bedrooms  BldgGrade  \\\n",
       "1           2400     9373       3.00         6          7   \n",
       "2           3764    20156       3.75         4         10   \n",
       "3           2060    26036       1.75         4          8   \n",
       "4           3200     8618       3.75         5          7   \n",
       "5           1720     8620       1.75         4          7   \n",
       "\n",
       "   PropertyType_Single Family  PropertyType_Townhouse  \n",
       "1                       False                   False  \n",
       "2                        True                   False  \n",
       "3                        True                   False  \n",
       "4                        True                   False  \n",
       "5                        True                   False  "
      ],
      "text/html": [
       "<div>\n",
       "<style scoped>\n",
       "    .dataframe tbody tr th:only-of-type {\n",
       "        vertical-align: middle;\n",
       "    }\n",
       "\n",
       "    .dataframe tbody tr th {\n",
       "        vertical-align: top;\n",
       "    }\n",
       "\n",
       "    .dataframe thead th {\n",
       "        text-align: right;\n",
       "    }\n",
       "</style>\n",
       "<table border=\"1\" class=\"dataframe\">\n",
       "  <thead>\n",
       "    <tr style=\"text-align: right;\">\n",
       "      <th></th>\n",
       "      <th>SqFtTotLiving</th>\n",
       "      <th>SqFtLot</th>\n",
       "      <th>Bathrooms</th>\n",
       "      <th>Bedrooms</th>\n",
       "      <th>BldgGrade</th>\n",
       "      <th>PropertyType_Single Family</th>\n",
       "      <th>PropertyType_Townhouse</th>\n",
       "    </tr>\n",
       "  </thead>\n",
       "  <tbody>\n",
       "    <tr>\n",
       "      <th>1</th>\n",
       "      <td>2400</td>\n",
       "      <td>9373</td>\n",
       "      <td>3.00</td>\n",
       "      <td>6</td>\n",
       "      <td>7</td>\n",
       "      <td>False</td>\n",
       "      <td>False</td>\n",
       "    </tr>\n",
       "    <tr>\n",
       "      <th>2</th>\n",
       "      <td>3764</td>\n",
       "      <td>20156</td>\n",
       "      <td>3.75</td>\n",
       "      <td>4</td>\n",
       "      <td>10</td>\n",
       "      <td>True</td>\n",
       "      <td>False</td>\n",
       "    </tr>\n",
       "    <tr>\n",
       "      <th>3</th>\n",
       "      <td>2060</td>\n",
       "      <td>26036</td>\n",
       "      <td>1.75</td>\n",
       "      <td>4</td>\n",
       "      <td>8</td>\n",
       "      <td>True</td>\n",
       "      <td>False</td>\n",
       "    </tr>\n",
       "    <tr>\n",
       "      <th>4</th>\n",
       "      <td>3200</td>\n",
       "      <td>8618</td>\n",
       "      <td>3.75</td>\n",
       "      <td>5</td>\n",
       "      <td>7</td>\n",
       "      <td>True</td>\n",
       "      <td>False</td>\n",
       "    </tr>\n",
       "    <tr>\n",
       "      <th>5</th>\n",
       "      <td>1720</td>\n",
       "      <td>8620</td>\n",
       "      <td>1.75</td>\n",
       "      <td>4</td>\n",
       "      <td>7</td>\n",
       "      <td>True</td>\n",
       "      <td>False</td>\n",
       "    </tr>\n",
       "  </tbody>\n",
       "</table>\n",
       "</div>"
      ]
     },
     "execution_count": 31,
     "metadata": {},
     "output_type": "execute_result"
    }
   ],
   "execution_count": 31
  },
  {
   "cell_type": "code",
   "id": "fe1581f0-b6fa-4613-a8f2-3df7e5155dc9",
   "metadata": {
    "ExecuteTime": {
     "end_time": "2025-05-12T08:09:05.470008Z",
     "start_time": "2025-05-12T08:09:05.455881Z"
    }
   },
   "source": [
    "df[\"PropertyType_Single Family\"] = [1 if x else 0 for x in df[\"PropertyType_Single Family\"]]\n",
    "df[\"PropertyType_Townhouse\"] = [1 if x else 0 for x in df[\"PropertyType_Townhouse\"]]\n",
    "df.head()"
   ],
   "outputs": [
    {
     "data": {
      "text/plain": [
       "   SqFtTotLiving  SqFtLot  Bathrooms  Bedrooms  BldgGrade  \\\n",
       "1           2400     9373       3.00         6          7   \n",
       "2           3764    20156       3.75         4         10   \n",
       "3           2060    26036       1.75         4          8   \n",
       "4           3200     8618       3.75         5          7   \n",
       "5           1720     8620       1.75         4          7   \n",
       "\n",
       "   PropertyType_Single Family  PropertyType_Townhouse  \n",
       "1                           0                       0  \n",
       "2                           1                       0  \n",
       "3                           1                       0  \n",
       "4                           1                       0  \n",
       "5                           1                       0  "
      ],
      "text/html": [
       "<div>\n",
       "<style scoped>\n",
       "    .dataframe tbody tr th:only-of-type {\n",
       "        vertical-align: middle;\n",
       "    }\n",
       "\n",
       "    .dataframe tbody tr th {\n",
       "        vertical-align: top;\n",
       "    }\n",
       "\n",
       "    .dataframe thead th {\n",
       "        text-align: right;\n",
       "    }\n",
       "</style>\n",
       "<table border=\"1\" class=\"dataframe\">\n",
       "  <thead>\n",
       "    <tr style=\"text-align: right;\">\n",
       "      <th></th>\n",
       "      <th>SqFtTotLiving</th>\n",
       "      <th>SqFtLot</th>\n",
       "      <th>Bathrooms</th>\n",
       "      <th>Bedrooms</th>\n",
       "      <th>BldgGrade</th>\n",
       "      <th>PropertyType_Single Family</th>\n",
       "      <th>PropertyType_Townhouse</th>\n",
       "    </tr>\n",
       "  </thead>\n",
       "  <tbody>\n",
       "    <tr>\n",
       "      <th>1</th>\n",
       "      <td>2400</td>\n",
       "      <td>9373</td>\n",
       "      <td>3.00</td>\n",
       "      <td>6</td>\n",
       "      <td>7</td>\n",
       "      <td>0</td>\n",
       "      <td>0</td>\n",
       "    </tr>\n",
       "    <tr>\n",
       "      <th>2</th>\n",
       "      <td>3764</td>\n",
       "      <td>20156</td>\n",
       "      <td>3.75</td>\n",
       "      <td>4</td>\n",
       "      <td>10</td>\n",
       "      <td>1</td>\n",
       "      <td>0</td>\n",
       "    </tr>\n",
       "    <tr>\n",
       "      <th>3</th>\n",
       "      <td>2060</td>\n",
       "      <td>26036</td>\n",
       "      <td>1.75</td>\n",
       "      <td>4</td>\n",
       "      <td>8</td>\n",
       "      <td>1</td>\n",
       "      <td>0</td>\n",
       "    </tr>\n",
       "    <tr>\n",
       "      <th>4</th>\n",
       "      <td>3200</td>\n",
       "      <td>8618</td>\n",
       "      <td>3.75</td>\n",
       "      <td>5</td>\n",
       "      <td>7</td>\n",
       "      <td>1</td>\n",
       "      <td>0</td>\n",
       "    </tr>\n",
       "    <tr>\n",
       "      <th>5</th>\n",
       "      <td>1720</td>\n",
       "      <td>8620</td>\n",
       "      <td>1.75</td>\n",
       "      <td>4</td>\n",
       "      <td>7</td>\n",
       "      <td>1</td>\n",
       "      <td>0</td>\n",
       "    </tr>\n",
       "  </tbody>\n",
       "</table>\n",
       "</div>"
      ]
     },
     "execution_count": 32,
     "metadata": {},
     "output_type": "execute_result"
    }
   ],
   "execution_count": 32
  },
  {
   "cell_type": "code",
   "id": "5500c5d2-7f2e-4554-bcbd-13ea4e2e281c",
   "metadata": {
    "ExecuteTime": {
     "end_time": "2025-05-12T08:09:07.915172Z",
     "start_time": "2025-05-12T08:09:07.910836Z"
    }
   },
   "source": [
    "pred = df.columns\n",
    "pred"
   ],
   "outputs": [
    {
     "data": {
      "text/plain": [
       "Index(['SqFtTotLiving', 'SqFtLot', 'Bathrooms', 'Bedrooms', 'BldgGrade',\n",
       "       'PropertyType_Single Family', 'PropertyType_Townhouse'],\n",
       "      dtype='object')"
      ]
     },
     "execution_count": 33,
     "metadata": {},
     "output_type": "execute_result"
    }
   ],
   "execution_count": 33
  },
  {
   "cell_type": "markdown",
   "id": "b96ff07b-6bbd-4da3-9f9a-544addbdc5c4",
   "metadata": {},
   "source": [
    "### <span style=\"color:rgb(160,0,86)\">Wie finden wir ein gutes Modell?</span>\n",
    "\n",
    "Oft stehen sehr viele Merkmale als Prädiktoren für eine Zielvariable zur Verfügung. Möglichst viele Prädiktoren zum Modell hinzuzufügen, bedeutet jedoch nicht unbedingt, dass wir ein besseres Modell erhalten. Wir sollten uns besser bei der Wahl des Modells an das Prinzip der **Sparsamkeit** orientieren. \n",
    "\n",
    "- <span style=\"color:rgb(160,0,86)\">**Sofern Aspekte von Modellen gleich sind, sollte das einfachere Modell vorgezogen werden!**</span>\n",
    "\n",
    "Eine Möglichkeit besteht darin, dass wir mit dem einfachsten Modell beginnen  und schrittweise den Prädiktor hinzufügen, der das Modell am besten erweitert (**Vorwärtsselektion**). Wenn die Verbesserung nicht mehr deutlich erkennbar ist, stoppen wir der Erweiterung des Modells:\n",
    "\n",
    " - Wähle in jedem Schritt das Modell mit dem kleinsten **RSS**-Wert und berechnet das **Informationskriterium nach Akaike** (*Akaike's Information Criteria*) $$\\textbf{AIC} = 2\\cdot \\textbf{Anzahl Parameter im Model} + \\pmb{n}\\cdot \\log(\\,\\textbf{RRS}\\,/\\pmb{n})$$ wobei $\\pmb{n}$ die Anzahl der Daten in der Stichprobe ist.\n",
    " - Wiederhole diesen Schritt, bis der **AIC**-Wert nicht mehr abnimmt.   "
   ]
  },
  {
   "cell_type": "code",
   "id": "9a54ec59-4a63-4444-b321-b7397b325d33",
   "metadata": {
    "ExecuteTime": {
     "end_time": "2025-05-12T08:11:36.919668Z",
     "start_time": "2025-05-12T08:11:36.899639Z"
    }
   },
   "source": [
    "def model(A_1, a_1, b):\n",
    "    return a_1 * A_1 + b\n",
    "\n",
    "\n",
    "def RSS(coeffs):\n",
    "    residuen = immo[\"AdjSalePrice\"] - model(df[pred[0]],\n",
    "                                            coeffs[0],\n",
    "                                            coeffs[1])\n",
    "    return (residuen ** 2).sum()\n",
    "\n",
    "\n",
    "fit = minimize(RSS, x0=np.zeros(2) + 1)\n",
    "RSS_1 = fit.fun\n",
    "AIC_1 = 2 * 2 + df.shape[0] * np.log(RSS_1 / df.shape[0])\n",
    "fit"
   ],
   "outputs": [
    {
     "data": {
      "text/plain": [
       "  message: Optimization terminated successfully.\n",
       "  success: True\n",
       "   status: 0\n",
       "      fun: 1741354766255105.5\n",
       "        x: [ 2.938e+02 -4.606e+04]\n",
       "      nit: 8\n",
       "      jac: [ 0.000e+00  0.000e+00]\n",
       " hess_inv: [[ 1.338e-11 -2.304e-08]\n",
       "            [-2.304e-08  5.788e-05]]\n",
       "     nfev: 57\n",
       "     njev: 19"
      ]
     },
     "execution_count": 35,
     "metadata": {},
     "output_type": "execute_result"
    }
   ],
   "execution_count": 35
  },
  {
   "cell_type": "code",
   "id": "12e5b40f-3c0b-49ed-b50f-73a17a619477",
   "metadata": {
    "ExecuteTime": {
     "end_time": "2025-05-12T08:12:06.209241Z",
     "start_time": "2025-05-12T08:12:06.159438Z"
    }
   },
   "source": [
    "def model(A_1, a_1, b):\n",
    "    return a_1 * A_1 + b\n",
    "\n",
    "\n",
    "def RSS(coeffs):\n",
    "    residuen = immo[\"AdjSalePrice\"] - model(df[pred[1]],\n",
    "                                            coeffs[0],\n",
    "                                            coeffs[1])\n",
    "    return (residuen ** 2).sum()\n",
    "\n",
    "\n",
    "fit = minimize(RSS, x0=np.zeros(2) + 2)\n",
    "RSS_2 = fit.fun\n",
    "AIC_2 = 2 * 2 + df.shape[0] * np.log(RSS_2 / df.shape[0])\n",
    "fit"
   ],
   "outputs": [
    {
     "data": {
      "text/plain": [
       "  message: Desired error not necessarily achieved due to precision loss.\n",
       "  success: False\n",
       "   status: 2\n",
       "      fun: 3306291983219952.0\n",
       "        x: [ 1.823e+00  5.437e+05]\n",
       "      nit: 7\n",
       "      jac: [-7.046e+09  0.000e+00]\n",
       " hess_inv: [[ 2.321e-14 -5.832e-11]\n",
       "            [-5.832e-11  4.704e-06]]\n",
       "     nfev: 192\n",
       "     njev: 60"
      ]
     },
     "execution_count": 36,
     "metadata": {},
     "output_type": "execute_result"
    }
   ],
   "execution_count": 36
  },
  {
   "cell_type": "code",
   "id": "ce096116-3f75-44d1-8d19-f3bfaa070d3a",
   "metadata": {
    "ExecuteTime": {
     "end_time": "2025-05-12T08:12:26.437536Z",
     "start_time": "2025-05-12T08:12:26.410776Z"
    }
   },
   "source": [
    "def model(A_1, a_1, b):\n",
    "    return a_1 * A_1 + b\n",
    "\n",
    "\n",
    "def RSS(coeffs):\n",
    "    residuen = immo[\"AdjSalePrice\"] - model(df[pred[2]],\n",
    "                                            coeffs[0],\n",
    "                                            coeffs[1])\n",
    "    return (residuen ** 2).sum()\n",
    "\n",
    "\n",
    "fit = minimize(RSS, x0=np.zeros(2) + 1)\n",
    "RSS_3 = fit.fun\n",
    "AIC_3 = 2 * 2 + df.shape[0] * np.log(RSS_3 / df.shape[0])\n",
    "fit"
   ],
   "outputs": [
    {
     "data": {
      "text/plain": [
       "  message: Optimization terminated successfully.\n",
       "  success: True\n",
       "   status: 0\n",
       "      fun: 2426264210041815.0\n",
       "        x: [ 2.655e+05 -1.287e+04]\n",
       "      nit: 8\n",
       "      jac: [ 0.000e+00  0.000e+00]\n",
       " hess_inv: [[ 8.323e-05 -2.067e-04]\n",
       "            [-2.067e-04  5.275e-04]]\n",
       "     nfev: 84\n",
       "     njev: 28"
      ]
     },
     "execution_count": 37,
     "metadata": {},
     "output_type": "execute_result"
    }
   ],
   "execution_count": 37
  },
  {
   "cell_type": "code",
   "id": "59ef3a37-3d8d-4753-a6fc-8f66e780646b",
   "metadata": {
    "ExecuteTime": {
     "end_time": "2025-05-12T08:12:52.983669Z",
     "start_time": "2025-05-12T08:12:52.963333Z"
    }
   },
   "source": [
    "def model(A_1, a_1, b):\n",
    "    return a_1 * A_1 + b\n",
    "\n",
    "\n",
    "def RSS(coeffs):\n",
    "    residuen = immo[\"AdjSalePrice\"] - model(df[pred[3]],\n",
    "                                            coeffs[0],\n",
    "                                            coeffs[1])\n",
    "    return (residuen ** 2).sum()\n",
    "\n",
    "\n",
    "fit = minimize(RSS, x0=np.zeros(2) + 1)\n",
    "RSS_4 = fit.fun\n",
    "AIC_4 = 2 * 2 + df.shape[0] * np.log(RSS_4 / df.shape[0])\n",
    "fit"
   ],
   "outputs": [
    {
     "data": {
      "text/plain": [
       "  message: Optimization terminated successfully.\n",
       "  success: True\n",
       "   status: 0\n",
       "      fun: 3041673603174019.0\n",
       "        x: [ 1.359e+05  1.067e+05]\n",
       "      nit: 5\n",
       "      jac: [ 0.000e+00  0.000e+00]\n",
       " hess_inv: [[ 2.374e-05 -7.903e-05]\n",
       "            [-7.903e-05  2.849e-04]]\n",
       "     nfev: 51\n",
       "     njev: 17"
      ]
     },
     "execution_count": 38,
     "metadata": {},
     "output_type": "execute_result"
    }
   ],
   "execution_count": 38
  },
  {
   "cell_type": "code",
   "id": "242b4128-ab05-42a4-9578-5797e58e6d4f",
   "metadata": {
    "ExecuteTime": {
     "end_time": "2025-05-12T08:13:35.421302Z",
     "start_time": "2025-05-12T08:13:35.402310Z"
    }
   },
   "source": [
    "def model(A_1, a_1, b):\n",
    "    return a_1 * A_1 + b\n",
    "\n",
    "\n",
    "def RSS(coeffs):\n",
    "    residuen = immo[\"AdjSalePrice\"] - model(df[pred[4]],\n",
    "                                            coeffs[0],\n",
    "                                            coeffs[1])\n",
    "    return (residuen ** 2).sum()\n",
    "\n",
    "\n",
    "fit = minimize(RSS, x0=np.zeros(2) + 1)\n",
    "RSS_5 = fit.fun\n",
    "AIC_5 = 2 * 2 + df.shape[0] * np.log(RSS_5 / df.shape[0])\n",
    "fit"
   ],
   "outputs": [
    {
     "data": {
      "text/plain": [
       "  message: Optimization terminated successfully.\n",
       "  success: True\n",
       "   status: 0\n",
       "      fun: 1831792342712349.5\n",
       "        x: [ 2.205e+05 -1.128e+06]\n",
       "      nit: 6\n",
       "      jac: [ 0.000e+00  0.000e+00]\n",
       " hess_inv: [[ 1.551e-05 -1.191e-04]\n",
       "            [-1.191e-04  9.362e-04]]\n",
       "     nfev: 45\n",
       "     njev: 15"
      ]
     },
     "execution_count": 39,
     "metadata": {},
     "output_type": "execute_result"
    }
   ],
   "execution_count": 39
  },
  {
   "cell_type": "code",
   "id": "6898ad7b-1292-427b-86d8-85d586d709b9",
   "metadata": {
    "ExecuteTime": {
     "end_time": "2025-05-12T08:13:40.483218Z",
     "start_time": "2025-05-12T08:13:40.444266Z"
    }
   },
   "source": [
    "def model(A_1, A_2, a_1, a_2, b):\n",
    "    return a_1 * A_1 + a_2 * A_2 + b\n",
    "\n",
    "\n",
    "def RSS(coeffs):\n",
    "    residuen = immo[\"AdjSalePrice\"] - model(df[pred[5]],\n",
    "                                            df[pred[6]],\n",
    "                                            coeffs[0],\n",
    "                                            coeffs[1],\n",
    "                                            coeffs[2])\n",
    "    return (residuen ** 2).sum()\n",
    "\n",
    "\n",
    "fit = minimize(RSS, x0=np.zeros(3) + 1)\n",
    "RSS_6 = fit.fun\n",
    "AIC_6 = 2 * 3 + df.shape[0] * np.log(RSS_6 / df.shape[0])\n",
    "fit"
   ],
   "outputs": [
    {
     "data": {
      "text/plain": [
       "  message: Optimization terminated successfully.\n",
       "  success: True\n",
       "   status: 0\n",
       "      fun: 3342567160248018.0\n",
       "        x: [ 1.671e+04 -1.139e+05  5.582e+05]\n",
       "      nit: 10\n",
       "      jac: [ 0.000e+00  0.000e+00  0.000e+00]\n",
       " hess_inv: [[ 5.045e-04  2.077e-04 -4.724e-04]\n",
       "            [ 2.077e-04  2.129e-04 -2.214e-04]\n",
       "            [-4.724e-04 -2.214e-04  4.695e-04]]\n",
       "     nfev: 108\n",
       "     njev: 27"
      ]
     },
     "execution_count": 40,
     "metadata": {},
     "output_type": "execute_result"
    }
   ],
   "execution_count": 40
  },
  {
   "cell_type": "code",
   "id": "f1fb66b9-9b16-4a52-9264-1be0a5b96d28",
   "metadata": {
    "ExecuteTime": {
     "end_time": "2025-05-12T08:13:44.244481Z",
     "start_time": "2025-05-12T08:13:44.240957Z"
    }
   },
   "source": [
    "print(RSS_1, AIC_1)\n",
    "print(RSS_2, AIC_2)\n",
    "print(RSS_3, AIC_3)\n",
    "print(RSS_4, AIC_4)\n",
    "print(RSS_5, AIC_5)\n",
    "print(RSS_6, AIC_6)"
   ],
   "outputs": [
    {
     "name": "stdout",
     "output_type": "stream",
     "text": [
      "1741354766255105.5 568628.528110331\n",
      "3306291983219952.0 583174.6135802439\n",
      "2426264210041815.0 576153.5632754547\n",
      "3041673603174019.0 581282.0771218222\n",
      "1831792342712349.5 569777.2049102159\n",
      "3342567160248018.0 583424.16976673\n"
     ]
    }
   ],
   "execution_count": 41
  },
  {
   "cell_type": "code",
   "id": "42e4fc58-5674-44d3-893f-c7b57600f869",
   "metadata": {
    "ExecuteTime": {
     "end_time": "2025-05-12T08:13:59.584734Z",
     "start_time": "2025-05-12T08:13:59.580735Z"
    }
   },
   "source": [
    "pred[0]"
   ],
   "outputs": [
    {
     "data": {
      "text/plain": [
       "'SqFtTotLiving'"
      ]
     },
     "execution_count": 42,
     "metadata": {},
     "output_type": "execute_result"
    }
   ],
   "execution_count": 42
  },
  {
   "cell_type": "code",
   "id": "e73a5b2d-a10a-44e6-8a65-f59f56942893",
   "metadata": {
    "ExecuteTime": {
     "end_time": "2025-05-12T08:14:37.093326Z",
     "start_time": "2025-05-12T08:14:36.952268Z"
    }
   },
   "source": [
    "def model(A_1, A_2, a_1, a_2, b):\n",
    "    return a_1 * A_1 + a_2 * A_2 + b\n",
    "\n",
    "\n",
    "def RSS(coeffs):\n",
    "    residuen = immo[\"AdjSalePrice\"] - model(df[pred[0]],\n",
    "                                            df[pred[1]],\n",
    "                                            coeffs[0],\n",
    "                                            coeffs[1],\n",
    "                                            coeffs[2])\n",
    "    return (residuen ** 2).sum()\n",
    "\n",
    "\n",
    "fit = minimize(RSS, x0=np.zeros(3) + 2)\n",
    "RSS_1 = fit.fun\n",
    "AIC_1 = 2 * 3 + df.shape[0] * np.log(RSS_1 / df.shape[0])\n",
    "fit"
   ],
   "outputs": [
    {
     "data": {
      "text/plain": [
       "  message: Desired error not necessarily achieved due to precision loss.\n",
       "  success: False\n",
       "   status: 2\n",
       "      fun: 1741344877016373.5\n",
       "        x: [ 2.931e+02  1.262e-02 -4.454e+04]\n",
       "      nit: 9\n",
       "      jac: [ 5.352e+09  2.562e+10  0.000e+00]\n",
       " hess_inv: [[ 1.249e-10 -2.235e-13 -2.964e-07]\n",
       "            [-2.235e-13  2.724e-14  1.733e-10]\n",
       "            [-2.964e-07  1.733e-10  7.309e-04]]\n",
       "     nfev: 409\n",
       "     njev: 99"
      ]
     },
     "execution_count": 43,
     "metadata": {},
     "output_type": "execute_result"
    }
   ],
   "execution_count": 43
  },
  {
   "cell_type": "code",
   "id": "488a92b2-f9c3-4165-8df9-4f8cf0433bb8",
   "metadata": {
    "ExecuteTime": {
     "end_time": "2025-05-12T08:15:17.800344Z",
     "start_time": "2025-05-12T08:15:17.753072Z"
    }
   },
   "source": [
    "def model(A_1, A_2, a_1, a_2, b):\n",
    "    return a_1 * A_1 + a_2 * A_2 + b\n",
    "\n",
    "\n",
    "def RSS(coeffs):\n",
    "    residuen = immo[\"AdjSalePrice\"] - model(df[pred[0]],\n",
    "                                            df[pred[2]],\n",
    "                                            coeffs[0],\n",
    "                                            coeffs[1],\n",
    "                                            coeffs[2])\n",
    "    return (residuen ** 2).sum()\n",
    "\n",
    "\n",
    "fit = minimize(RSS, x0=np.zeros(3) + 10)\n",
    "RSS_2 = fit.fun\n",
    "AIC_2 = 2 * 3 + df.shape[0] * np.log(RSS_2 / df.shape[0])\n",
    "fit"
   ],
   "outputs": [
    {
     "data": {
      "text/plain": [
       "  message: Desired error not necessarily achieved due to precision loss.\n",
       "  success: False\n",
       "   status: 2\n",
       "      fun: 1741313465045924.2\n",
       "        x: [ 2.947e+02 -2.175e+03 -4.298e+04]\n",
       "      nit: 10\n",
       "      jac: [ 4.194e+08  1.678e+07  1.678e+07]\n",
       " hess_inv: [[ 4.642e-12 -1.567e-18 -1.052e-09]\n",
       "            [-1.567e-18  2.728e-15 -2.819e-15]\n",
       "            [-1.052e-09 -2.819e-15  3.192e-06]]\n",
       "     nfev: 140\n",
       "     njev: 35"
      ]
     },
     "execution_count": 44,
     "metadata": {},
     "output_type": "execute_result"
    }
   ],
   "execution_count": 44
  },
  {
   "cell_type": "code",
   "id": "dbdb7616-08a8-48af-8909-5ba4a2d8e306",
   "metadata": {
    "ExecuteTime": {
     "end_time": "2025-05-12T08:15:20.950179Z",
     "start_time": "2025-05-12T08:15:20.860965Z"
    }
   },
   "source": [
    "def model(A_1, A_2, a_1, a_2, b):\n",
    "    return a_1 * A_1 + a_2 * A_2 + b\n",
    "\n",
    "\n",
    "def RSS(coeffs):\n",
    "    residuen = immo[\"AdjSalePrice\"] - model(df[pred[0]],\n",
    "                                            df[pred[3]],\n",
    "                                            coeffs[0],\n",
    "                                            coeffs[1],\n",
    "                                            coeffs[2])\n",
    "    return (residuen ** 2).sum()\n",
    "\n",
    "\n",
    "fit = minimize(RSS, x0=np.array([1, -0.4, 2]))\n",
    "RSS_3 = fit.fun\n",
    "AIC_3 = 2 * 3 + df.shape[0] * np.log(RSS_3 / df.shape[0])\n",
    "fit"
   ],
   "outputs": [
    {
     "data": {
      "text/plain": [
       "  message: Desired error not necessarily achieved due to precision loss.\n",
       "  success: False\n",
       "   status: 2\n",
       "      fun: 1683005883413932.0\n",
       "        x: [ 3.347e+02 -7.004e+04  1.048e+05]\n",
       "      nit: 9\n",
       "      jac: [-9.831e+09 -1.678e+07  0.000e+00]\n",
       " hess_inv: [[ 1.835e-10 -1.614e-07  1.599e-07]\n",
       "            [-1.614e-07  1.512e-04 -1.701e-04]\n",
       "            [ 1.599e-07 -1.701e-04  2.537e-04]]\n",
       "     nfev: 276\n",
       "     njev: 66"
      ]
     },
     "execution_count": 45,
     "metadata": {},
     "output_type": "execute_result"
    }
   ],
   "execution_count": 45
  },
  {
   "cell_type": "code",
   "id": "8229d7de-acdc-4fc1-aa18-3477644302df",
   "metadata": {
    "ExecuteTime": {
     "end_time": "2025-05-12T08:15:23.404360Z",
     "start_time": "2025-05-12T08:15:23.324528Z"
    }
   },
   "source": [
    "def model(A_1, A_2, a_1, a_2, b):\n",
    "    return a_1 * A_1 + a_2 * A_2 + b\n",
    "\n",
    "\n",
    "def RSS(coeffs):\n",
    "    residuen = immo[\"AdjSalePrice\"] - model(df[pred[0]],\n",
    "                                            df[pred[4]],\n",
    "                                            coeffs[0],\n",
    "                                            coeffs[1],\n",
    "                                            coeffs[2])\n",
    "    return (residuen ** 2).sum()\n",
    "\n",
    "\n",
    "fit = minimize(RSS, x0=np.array([5, 5, 2]))\n",
    "RSS_4 = fit.fun\n",
    "AIC_4 = 2 * 3 + df.shape[0] * np.log(RSS_4 / df.shape[0])\n",
    "fit"
   ],
   "outputs": [
    {
     "data": {
      "text/plain": [
       "  message: Desired error not necessarily achieved due to precision loss.\n",
       "  success: False\n",
       "   status: 2\n",
       "      fun: 1578930248059325.0\n",
       "        x: [ 1.821e+02  1.113e+05 -6.681e+05]\n",
       "      nit: 22\n",
       "      jac: [ 5.033e+07  0.000e+00  0.000e+00]\n",
       " hess_inv: [[ 3.878e-12 -2.108e-16 -1.128e-11]\n",
       "            [-2.108e-16  3.314e-15 -2.708e-15]\n",
       "            [-1.128e-11 -2.708e-15  3.307e-08]]\n",
       "     nfev: 244\n",
       "     njev: 61"
      ]
     },
     "execution_count": 46,
     "metadata": {},
     "output_type": "execute_result"
    }
   ],
   "execution_count": 46
  },
  {
   "cell_type": "code",
   "id": "bba2f811-81b5-4b54-95b4-2c4d47c3268f",
   "metadata": {
    "ExecuteTime": {
     "end_time": "2025-05-12T08:15:25.545263Z",
     "start_time": "2025-05-12T08:15:25.408132Z"
    }
   },
   "source": [
    "def model(A_1, A_2, A_3, a_1, a_2, a_3, b):\n",
    "    return a_1 * A_1 + a_2 * A_2 + a_3 * A_3 + b\n",
    "\n",
    "\n",
    "def RSS(coeffs):\n",
    "    residuen = immo[\"AdjSalePrice\"] - model(df[pred[0]],\n",
    "                                            df[pred[5]],\n",
    "                                            df[pred[6]],\n",
    "                                            coeffs[0],\n",
    "                                            coeffs[1],\n",
    "                                            coeffs[2],\n",
    "                                            coeffs[3])\n",
    "    return (residuen ** 2).sum()\n",
    "\n",
    "\n",
    "fit = minimize(RSS, x0=np.array([5, -1, 1, 1]))\n",
    "RSS_5 = fit.fun\n",
    "AIC_5 = 2 * 4 + df.shape[0] * np.log(RSS_5 / df.shape[0])\n",
    "fit"
   ],
   "outputs": [
    {
     "data": {
      "text/plain": [
       "  message: Desired error not necessarily achieved due to precision loss.\n",
       "  success: False\n",
       "   status: 2\n",
       "      fun: 1733549037769048.2\n",
       "        x: [ 2.967e+02  6.869e+04  1.424e+05 -1.249e+05]\n",
       "      nit: 9\n",
       "      jac: [ 2.181e+10  1.678e+07  1.678e+07  5.033e+07]\n",
       " hess_inv: [[ 3.074e-11  3.970e-08  5.202e-08 -1.062e-07]\n",
       "            [ 3.970e-08  2.134e-03  1.957e-03 -2.216e-03]\n",
       "            [ 5.202e-08  1.957e-03  2.091e-03 -2.089e-03]\n",
       "            [-1.062e-07 -2.216e-03 -2.089e-03  2.466e-03]]\n",
       "     nfev: 347\n",
       "     njev: 67"
      ]
     },
     "execution_count": 47,
     "metadata": {},
     "output_type": "execute_result"
    }
   ],
   "execution_count": 47
  },
  {
   "cell_type": "code",
   "id": "4b53e5b8-38d4-45fb-8484-5bb2d6d17c78",
   "metadata": {
    "ExecuteTime": {
     "end_time": "2025-05-12T08:15:30.773048Z",
     "start_time": "2025-05-12T08:15:30.769212Z"
    }
   },
   "source": [
    "print(RSS_1, AIC_1)\n",
    "print(RSS_2, AIC_2)\n",
    "print(RSS_3, AIC_3)\n",
    "print(RSS_4, AIC_4)\n",
    "print(RSS_5, AIC_5)"
   ],
   "outputs": [
    {
     "name": "stdout",
     "output_type": "stream",
     "text": [
      "1741344877016373.5 568630.3992693846\n",
      "1741313465045924.2 568629.9900168517\n",
      "1683005883413932.0 567857.3097632282\n",
      "1578930248059325.0 566409.111175359\n",
      "1733549037769048.2 568530.6036427714\n"
     ]
    }
   ],
   "execution_count": 48
  },
  {
   "cell_type": "code",
   "id": "a436432b-bf8e-4bde-a61f-e17e6ec8cae2",
   "metadata": {
    "ExecuteTime": {
     "end_time": "2025-05-12T08:15:54.942974Z",
     "start_time": "2025-05-12T08:15:54.938969Z"
    }
   },
   "source": [
    "pred[4]"
   ],
   "outputs": [
    {
     "data": {
      "text/plain": [
       "'BldgGrade'"
      ]
     },
     "execution_count": 49,
     "metadata": {},
     "output_type": "execute_result"
    }
   ],
   "execution_count": 49
  },
  {
   "cell_type": "markdown",
   "id": "f1b22231-13dc-49cd-836a-fdaf5021da43",
   "metadata": {},
   "source": [
    "### <span style=\"color:rgb(160,0,86)\">Aufgabe 1</span>\n",
    "\n",
    "Vervollständigen Sie diese **Vorwärtsselektion**. "
   ]
  },
  {
   "cell_type": "code",
   "execution_count": null,
   "id": "1528b131-f566-4002-8800-84d6d65c5dea",
   "metadata": {},
   "outputs": [],
   "source": [
    "# To do!"
   ]
  },
  {
   "cell_type": "markdown",
   "id": "940af48f-22e1-4363-a5ed-5e21db3fc721",
   "metadata": {},
   "source": [
    "### <span style=\"color:rgb(160,0,86)\">Aufgabe 2</span>\n",
    "\n",
    "Machen Sie eine multiple lineare Korrelationsananalyse mit dem Datensatz *Credit.csv* für die **Kreditwürdigkeit** (*rating*). "
   ]
  },
  {
   "cell_type": "code",
   "execution_count": null,
   "id": "51bf0f43-9118-4e1e-bd06-15ffa32948c7",
   "metadata": {},
   "outputs": [],
   "source": [
    "# To do!"
   ]
  },
  {
   "cell_type": "markdown",
   "id": "afc58872-4e9b-44ca-97e9-2b7c5f4e62f7",
   "metadata": {},
   "source": [
    "![HSLU](Bilder/LogoHSLU.png)"
   ]
  }
 ],
 "metadata": {
  "kernelspec": {
   "display_name": "Python 3 (ipykernel)",
   "language": "python",
   "name": "python3"
  },
  "language_info": {
   "codemirror_mode": {
    "name": "ipython",
    "version": 3
   },
   "file_extension": ".py",
   "mimetype": "text/x-python",
   "name": "python",
   "nbconvert_exporter": "python",
   "pygments_lexer": "ipython3",
   "version": "3.10.6"
  }
 },
 "nbformat": 4,
 "nbformat_minor": 5
}
