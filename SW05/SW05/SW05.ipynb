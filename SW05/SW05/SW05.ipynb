{
 "cells": [
  {
   "cell_type": "markdown",
   "id": "f8edfe32-7c29-46a2-939f-a0d3f4e6fa2b",
   "metadata": {},
   "source": [
    "# <span style=\"color:rgb(160,0,86)\">Stichproben</span>\n",
    "\n",
    "***"
   ]
  },
  {
   "cell_type": "markdown",
   "id": "efc2b411-5d0c-45cd-a36d-deb3a678be0e",
   "metadata": {},
   "source": [
    "## <span style=\"color:rgb(160,0,86)\">Lernziele</span>\n",
    "\n",
    "- Sie wissen was eine **Zufallsstichprobe** ist und kennen ihre Bedeutung.\n",
    "- Sie können einfache **binomial verteilte Modelle** berechnen und mit Daten vergleichen.\n",
    "- Sie verstehen die Problematik der **Stichprobenverzerrung** und der **Auswahlverzerrung**.  \n",
    "- Sie kennen den Unterschied zwischen der **Datenverteilung** der **Stichprobenverteilung**.  \n",
    "\n",
    "***"
   ]
  },
  {
   "cell_type": "markdown",
   "id": "e1aeb5b2-eafa-4db1-b3d5-9b13de1f83fe",
   "metadata": {},
   "source": [
    "### <span style=\"color:rgb(160,0,86)\">Was ist eine Stichprobe?</span>\n",
    "\n",
    "Bei einer statistischen Analyse möchte man Aussagen zu einer **Grundgesamtheit** oder **Population** von statistischen Einheiten machen, deren Merkmale einer bestimmten *theoretischen* Verteilung folgen. \n",
    "$$\\begin{array}{c|cccc}\n",
    "&\\text{Merkmal A}&\\text{Merkmal B}&\\text{Merkmal C}&\\cdots\\\\ \\hline \\text{Einheit 1}&a_1&b_1&c_1&\\cdots\\\\\n",
    "\\text{Einheit 2}&a_2&b_2&c_2&\\cdots\\\\\n",
    "\\text{Einheit 3}&a_3&b_3&c_3&\\cdots\\\\\n",
    "\\text{Einheit 4}&a_4&b_4&c_4&\\cdots\\\\\n",
    "\\text{Einheit 5}&a_5&b_5&c_5&\\cdots\\\\\n",
    "\\vdots&\\vdots&\\vdots&\\vdots&\\end{array}$$\n",
    "Hätten wir die Daten zu allen Einheiten, könnten wir die **relativen Häufigkeiten** der Werte zu jedem Merkmal bestimmen und eine Analyse machen. Diese Verteilung ist aber im Allgemeinen nicht bekannt. Alles was uns zur Verfügung steht, sind die Daten, die wir aus einer **Stichprobe** erhalten. \n",
    "$$\\begin{array}{c|cccc}\n",
    "&\\text{Merkmal A}&\\text{Merkmal B}&\\text{Merkmal C}&\\cdots\\\\ \\hline \\textcolor{lightgray}{\\text{Einheit 1}}&\\textcolor{lightgray}{a_1}&\\textcolor{lightgray}{b_1}&\\textcolor{lightgray}{c_1}&\\textcolor{lightgray}{\\cdots}\\\\\n",
    "\\text{Einheit 2}&a_2&b_2&c_2&\\cdots\\\\\n",
    "\\textcolor{lightgray}{\\text{Einheit 3}}&\\textcolor{lightgray}{a_3}&\\textcolor{lightgray}{b_3}&\\textcolor{lightgray}{c_3}&\\textcolor{lightgray}{\\cdots}\\\\\n",
    "\\textcolor{lightgray}{\\text{Einheit 4}}&\\textcolor{lightgray}{a_4}&\\textcolor{lightgray}{b_4}&\\textcolor{lightgray}{c_4}&\\textcolor{lightgray}{\\cdots}\\\\\n",
    "\\text{Einheit 5}&a_5&b_5&c_5&\\cdots\\\\\n",
    "\\vdots&\\vdots&\\vdots&\\vdots&\\end{array}$$\n",
    "\n",
    "Wir kennen also die ***empirische* Verteilung** der Werte zu jedem Merkmal in der Stichprobe. Damit wir aus der Stichprobe etwas über die Gesamtheit sagen können, ist entscheident, mit welchen Verfahren wir so eine Stichprobe ziehen. \n",
    "\n",
    "<span style=\"color:rgb(160,0,86)\">***Definition:***</span>\n",
    "Eine **Stichprobe** ist eine Teilmenge von Daten aus einem grösseren Datensatz, der sogenannten **Grundgesamtheit**. Die Grundgesamtheit ist ein grosser, definierter, aber manchmal theoretischer oder imaginärer Datensatz."
   ]
  },
  {
   "cell_type": "markdown",
   "id": "386dc389-082a-4c66-9fb3-ab6168173ecb",
   "metadata": {},
   "source": [
    "<center>\n",
    "<img src=\"Bilder/Grundgesamtheit-Stichprobe.png\" width=\"55%\" />\n",
    "</center>"
   ]
  },
  {
   "cell_type": "markdown",
   "id": "6cb66838-d2c9-4d28-a2d5-47d966769e59",
   "metadata": {},
   "source": [
    "<span style=\"color:rgb(160,0,86)\">***Modellierung der Grundgesamtheit:***</span>\n",
    "In speziellen Situationen, etwa wenn Daten aus einem physikalischen Prozess generiert werden, können wir mit strengen Annahmen und theoretischen Überlegungen die Verteilung der Grundgesamtheit beschreiben: Wenn zum Beispiel Daten mit einen binären Zufallsprozess, der $n$ mal unabhängig voneinander Werte wie *Kopf* oder *Zahl*, *klicken* oder *nicht klicken*, *Betrug* oder *kein Betrug* etc. erzeut, dann ist die Anzahl *Kopf*, *klicken* oder *Betrug* **binomial verteilt**. In so einem Fall können wir Erkenntnisse gewinnen, indem wir unser Wissen über die Grundgesamtheit nutzen.\n",
    "\n",
    "<span style=\"color:rgb(160,0,86)\">***Beispiel:***</span> Werfen wir **10 mal eine gezinkte Münze**, bei der *Kopf* mit Wahrscheinlichkeit $65\\%$ erscheint:"
   ]
  },
  {
   "cell_type": "code",
   "id": "15615ed7-323d-4179-8d18-43fd2b3339cb",
   "metadata": {
    "ExecuteTime": {
     "end_time": "2025-03-17T08:36:05.286061Z",
     "start_time": "2025-03-17T08:36:05.279531Z"
    }
   },
   "source": [
    "import pandas as pd\n",
    "from babel.plural import value_node\n",
    "from scipy.stats import bernoulli\n",
    "\n",
    "X = bernoulli(p=0.65)\n",
    "X.rvs(size=10)"
   ],
   "outputs": [
    {
     "data": {
      "text/plain": [
       "array([0, 1, 1, 1, 1, 1, 1, 1, 0, 0])"
      ]
     },
     "execution_count": 1,
     "metadata": {},
     "output_type": "execute_result"
    }
   ],
   "execution_count": 1
  },
  {
   "cell_type": "markdown",
   "id": "ddf991e8-7b1f-4a61-901f-6ca0f40b3860",
   "metadata": {},
   "source": [
    "Nun zählen wir, **wie oft Kopf** vorkommt und wiederholen diesen Prozess 15 mal. Damit erzeugen wir eine Stichprobe mit 15 statistischen Einheiten zum Merkmal *Anzahl Kopf*: "
   ]
  },
  {
   "cell_type": "code",
   "id": "e2e58b72-1767-47a9-96ab-68da82a4dd39",
   "metadata": {
    "ExecuteTime": {
     "end_time": "2025-03-17T08:36:12.923260Z",
     "start_time": "2025-03-17T08:36:12.918276Z"
    }
   },
   "source": [
    "sample = [sum(X.rvs(size=10)) for _ in range(15)]\n",
    "sample"
   ],
   "outputs": [
    {
     "data": {
      "text/plain": [
       "[np.int64(6),\n",
       " np.int64(4),\n",
       " np.int64(9),\n",
       " np.int64(4),\n",
       " np.int64(6),\n",
       " np.int64(7),\n",
       " np.int64(5),\n",
       " np.int64(7),\n",
       " np.int64(5),\n",
       " np.int64(8),\n",
       " np.int64(6),\n",
       " np.int64(3),\n",
       " np.int64(5),\n",
       " np.int64(4),\n",
       " np.int64(8)]"
      ]
     },
     "execution_count": 2,
     "metadata": {},
     "output_type": "execute_result"
    }
   ],
   "execution_count": 2
  },
  {
   "cell_type": "markdown",
   "id": "71b5450e-918e-4ac2-9466-3524f03c93a1",
   "metadata": {},
   "source": [
    "In einem Dichtediagramm können wir die ***empirische* Verteilung** der Anzahl Kopf darstellen: "
   ]
  },
  {
   "cell_type": "code",
   "id": "dd634a07-76cb-42d7-8186-09263f12ea77",
   "metadata": {
    "ExecuteTime": {
     "end_time": "2025-03-17T08:41:21.273017Z",
     "start_time": "2025-03-17T08:41:21.200033Z"
    }
   },
   "source": [
    "import matplotlib.pyplot as plt\n",
    "import numpy as np\n",
    "import seaborn as sns\n",
    "\n",
    "fig = plt.figure(figsize=(6,5))\n",
    "ax = fig.add_subplot(1,1,1)\n",
    "ax = sns.histplot(sample, bins=np.arange(-0.5, 11.5), stat=\"density\", color=\"lightblue\")\n",
    "ax = plt.ylim(0,1.02)\n",
    "plt.show()"
   ],
   "outputs": [
    {
     "data": {
      "text/plain": [
       "<Figure size 600x500 with 1 Axes>"
      ],
      "image/png": "[encoded data removed]"
     },
     "metadata": {},
     "output_type": "display_data"
    }
   ],
   "execution_count": 3
  },
  {
   "cell_type": "markdown",
   "id": "9396dab5-b7b0-47ce-b096-197ed1751c44",
   "metadata": {},
   "source": [
    "Wenn wir eine Stichprobe mit 100000 Einheiten erzeugen, erkennen wir die **theoretische Verteilung der Grundgesamtheit**:"
   ]
  },
  {
   "cell_type": "code",
   "id": "2fa9e3a0-da4f-48f1-afcb-e1511f17b88b",
   "metadata": {
    "ExecuteTime": {
     "end_time": "2025-03-17T08:41:48.639036Z",
     "start_time": "2025-03-17T08:41:47.001588Z"
    }
   },
   "source": [
    "import matplotlib.pyplot as plt\n",
    "import numpy as np\n",
    "import seaborn as sns\n",
    "\n",
    "stichprobenUmfang = 100000\n",
    "sample = [sum(X.rvs(size=10)) for _ in range(stichprobenUmfang)]\n",
    "\n",
    "fig = plt.figure(figsize=(6,5))\n",
    "ax = fig.add_subplot(1,1,1)\n",
    "ax = sns.histplot(sample, bins=np.arange(-0.5, 11.5), stat=\"density\", color=\"lightblue\")\n",
    "ax = plt.ylim(0,1.02)\n",
    "plt.show()"
   ],
   "outputs": [
    {
     "data": {
      "text/plain": [
       "<Figure size 600x500 with 1 Axes>"
      ],
      "image/png": "[encoded data removed]"
     },
     "metadata": {},
     "output_type": "display_data"
    }
   ],
   "execution_count": 4
  },
  {
   "cell_type": "markdown",
   "id": "dfa24ba7-5a2a-46e5-9c23-211522965089",
   "metadata": {},
   "source": [
    "Mathematisch kann man zeigen, dass die *Anzahl Kopf in 10 Würfen* einer **Binomial Verteilung** $\\mathsf{Bin}(0.65,10)$ folgt:"
   ]
  },
  {
   "cell_type": "code",
   "id": "ad847686-d966-430a-86ae-e9bbcf1aa208",
   "metadata": {
    "ExecuteTime": {
     "end_time": "2025-03-17T08:42:00.397811Z",
     "start_time": "2025-03-17T08:42:00.300344Z"
    }
   },
   "source": [
    "import matplotlib.pyplot as plt\n",
    "import numpy as np\n",
    "import seaborn as sns\n",
    "\n",
    "from scipy.stats import binom\n",
    "\n",
    "Y = binom(p=0.65,n=10)\n",
    "y = Y.pmf(np.array([0,1,2,3,4,5,6,7,8,9,10]))\n",
    "\n",
    "fig = plt.figure(figsize=(6,5))\n",
    "ax = fig.add_subplot(1,1,1)\n",
    "ax = sns.histplot(sample, bins=np.arange(-0.5, 11.5), stat=\"density\", color=\"lightblue\")\n",
    "ax = plt.vlines(np.array([0,1,2,3,4,5,6,7,8,9,10]),0,y,lw=3,color=\"red\")\n",
    "ax = plt.ylim(0,1.02)\n",
    "plt.show()"
   ],
   "outputs": [
    {
     "data": {
      "text/plain": [
       "<Figure size 600x500 with 1 Axes>"
      ],
      "image/png": "[encoded data removed]"
     },
     "metadata": {},
     "output_type": "display_data"
    }
   ],
   "execution_count": 5
  },
  {
   "cell_type": "markdown",
   "id": "7c09944d-a77a-44e3-965b-17c4520de8dc",
   "metadata": {},
   "source": [
    "Wenn uns zum Beispiel die mittlere Anzahl Kopf bei 10 Würfen interessiert, können wir hier diese Anzahl aus der ***empirischen* Verteilung** der Stichprobe oder aus der ***theoretischen* Verteilung** der Grundgesamtheit berechnen:"
   ]
  },
  {
   "cell_type": "code",
   "id": "43d9fd02-591a-4ce4-8e34-b7d8e08637a2",
   "metadata": {
    "ExecuteTime": {
     "end_time": "2025-03-17T08:42:14.002365Z",
     "start_time": "2025-03-17T08:42:13.996711Z"
    }
   },
   "source": [
    "#aus der empirischen Verteilung:\n",
    "mittelwert = sum(sample) / stichprobenUmfang\n",
    "erwartungswert = Y.mean()\n",
    "print(\"Arithmetisches Mittel der Stichprobe:\",mittelwert)\n",
    "print(\"Erwartungswert der theoretischen Verteilung:\",erwartungswert)"
   ],
   "outputs": [
    {
     "name": "stdout",
     "output_type": "stream",
     "text": [
      "Arithmetisches Mittel der Stichprobe: 6.4978\n",
      "Erwartungswert der theoretischen Verteilung: 6.5\n"
     ]
    }
   ],
   "execution_count": 6
  },
  {
   "cell_type": "markdown",
   "id": "78865641-76eb-471d-ad43-e81ae3ccd1ad",
   "metadata": {},
   "source": [
    "### <span style=\"color:rgb(160,0,86)\">Aufgabe 1</span>\n",
    "Auf einer Webseite gibt es 20 *Elemente mit Werbung* auf die User klicken können. Nehmen  wir an, dass ein User bei einem Besuch jedes Element mit einer Wahrscheinlichkeit von $p=0.33$ anklickt.\n",
    "- Erzeugen Sie mit einer Bernoulli verteilten Zufallsvariablen eine Stichprobe für 200000 Besuche und stellen Sie die empirische Verteilung der **Anzahl Klicks pro Besuch** graphisch dar.\n",
    "- Zeichnen Sie unter diesen Annahmen auch die theoretische Verteilung der Grundgesamtheit in die gleiche Figur.\n",
    "- Vergleichen Sie die mittlere Anzahl Klicks pro Besuch in der Stichprobe mit dem Erwartungswert."
   ]
  },
  {
   "cell_type": "code",
   "id": "7fd4aaec-eb40-468d-8e10-3b6df5c83ea3",
   "metadata": {
    "ExecuteTime": {
     "end_time": "2025-03-17T09:05:06.063313Z",
     "start_time": "2025-03-17T09:05:02.769436Z"
    }
   },
   "source": [
    "X = bernoulli(0.33)\n",
    "sample_size = 200000\n",
    "sample = [sum(X.rvs(size=20)) for _ in range(sample_size)]\n",
    "\n",
    "values = np.arange(0,21).tolist()\n",
    "plt.figure(figsize=(6,5))\n",
    "sns.histplot(sample, bins=np.arange(-0.5, 20.5), stat=\"density\", color=\"lightblue\")\n",
    "\n",
    "Y = binom(p=0.33, n=20)\n",
    "y = Y.pmf(np.arange(0,21).tolist())\n",
    "\n",
    "plt.vlines(x=np.arange(0,21).tolist(),ymin=0,ymax=y,lw=2,color=\"red\")"
   ],
   "outputs": [
    {
     "data": {
      "text/plain": [
       "<matplotlib.collections.LineCollection at 0x247b0c2d510>"
      ]
     },
     "execution_count": 16,
     "metadata": {},
     "output_type": "execute_result"
    },
    {
     "data": {
      "text/plain": [
       "<Figure size 600x500 with 1 Axes>"
      ],
      "image/png": "[encoded data removed]"
     },
     "metadata": {},
     "output_type": "display_data"
    }
   ],
   "execution_count": 16
  },
  {
   "metadata": {
    "ExecuteTime": {
     "end_time": "2025-03-17T09:05:09.971523Z",
     "start_time": "2025-03-17T09:05:09.965028Z"
    }
   },
   "cell_type": "code",
   "source": [
    "mittelwert = sum(sample) / sample_size\n",
    "erwartungswert = Y.mean()\n",
    "print(\"Arithmetisches Mittel der Stichprobe:\",mittelwert)\n",
    "print(\"Erwartungswert der theoretischen Verteilung:\",erwartungswert)"
   ],
   "id": "8920a25d4b6a0d65",
   "outputs": [
    {
     "name": "stdout",
     "output_type": "stream",
     "text": [
      "Arithmetisches Mittel der Stichprobe: 6.60157\n",
      "Erwartungswert der theoretischen Verteilung: 6.6000000000000005\n"
     ]
    }
   ],
   "execution_count": 17
  },
  {
   "cell_type": "markdown",
   "id": "5f8b2328-ddb3-4662-b5bc-94f349009578",
   "metadata": {},
   "source": [
    "### <span style=\"color:rgb(160,0,86)\">Aufgabe 2</span>\n",
    "Ein grosses Rechenzentrum bereibt 50 Server. Die Wahrscheinlichkeit, dass ein Server an einem Tag ausfällt, beträgt $2\\%$.\n",
    "- Erzeugen Sie mit einer Bernoulli verteilten Zufallsvariablen eine Stichprobe von 5 Jahren und stellen Sie die empirische Verteilung der **Anzahl Ausfälle pro Tag** graphisch dar.\n",
    "- Zeichnen Sie unter diesen Annahmen auch die theoretische Verteilung der Grundgesamtheit in die gleiche Figur.\n",
    "- Vergleichen Sie die mittlere Anzahl Ausfälle pro Tag in der Stichprobe mit dem Erwartungswert."
   ]
  },
  {
   "cell_type": "code",
   "id": "7076db41-d38b-4431-a2df-66df4a14d3cb",
   "metadata": {
    "ExecuteTime": {
     "end_time": "2025-03-17T09:13:58.063931Z",
     "start_time": "2025-03-17T09:13:57.961728Z"
    }
   },
   "source": [
    "X = bernoulli(0.02)\n",
    "sample_size = 5 * 365\n",
    "sample = [sum(X.rvs(size=50)) for _ in range(sample_size)]\n",
    "\n",
    "plt.figure(figsize=(6,5))\n",
    "sns.histplot(sample, bins=np.arange(-0.5, 7.5), stat=\"density\", color=\"lightblue\")\n",
    "\n",
    "value_range = np.arange(0, 7).tolist()\n",
    "\n",
    "Y = binom(p=0.02, n=50)\n",
    "y = Y.pmf(value_range)\n",
    "\n",
    "plt.vlines(x=value_range, ymin=0, ymax=y, lw=3, color=\"red\")"
   ],
   "outputs": [
    {
     "data": {
      "text/plain": [
       "<matplotlib.collections.LineCollection at 0x247b0c3bdd0>"
      ]
     },
     "execution_count": 24,
     "metadata": {},
     "output_type": "execute_result"
    },
    {
     "data": {
      "text/plain": [
       "<Figure size 600x500 with 1 Axes>"
      ],
      "image/png": "[encoded data removed]"
     },
     "metadata": {},
     "output_type": "display_data"
    }
   ],
   "execution_count": 24
  },
  {
   "metadata": {
    "ExecuteTime": {
     "end_time": "2025-03-17T09:13:59.833654Z",
     "start_time": "2025-03-17T09:13:59.830023Z"
    }
   },
   "cell_type": "code",
   "source": [
    "mittelwert = sum(sample) / sample_size\n",
    "erwartungswert = Y.mean()\n",
    "print(\"Arithmetisches Mittel der Stichprobe:\",mittelwert)\n",
    "print(\"Erwartungswert der theoretischen Verteilung:\",erwartungswert)"
   ],
   "id": "d93c3b34275b9a48",
   "outputs": [
    {
     "name": "stdout",
     "output_type": "stream",
     "text": [
      "Arithmetisches Mittel der Stichprobe: 1.0021917808219178\n",
      "Erwartungswert der theoretischen Verteilung: 1.0\n"
     ]
    }
   ],
   "execution_count": 25
  },
  {
   "cell_type": "markdown",
   "id": "b0d5683c-bcff-4301-8198-0ebf56a8be89",
   "metadata": {},
   "source": [
    "***\n",
    "\n",
    "### <span style=\"color:rgb(160,0,86)\">Was sind Zufallsstichproben?</span>"
   ]
  },
  {
   "cell_type": "markdown",
   "id": "d68cf73a-5509-4506-a5f1-5810f3482f8b",
   "metadata": {},
   "source": [
    "In den **Datenwissenschaften** machen wir uns selten Gedanken über solche theoretischen Eigenschaften der Verteilungen in der Grundgesamtheit, stattdessen fokusieren wir uns auf die **Stichprobenziehungsverfahren** und konzentrieren uns auf die **zur Verfügung stehenden Daten**. Es wäre oft gar nicht möglich die theoretischen Verteilungen in der Grundgesamtheit zu berechnen."
   ]
  },
  {
   "cell_type": "markdown",
   "id": "95606cc2-6299-4904-b68c-84b958bd49c9",
   "metadata": {},
   "source": [
    "<span style=\"color:rgb(160,0,86)\">***Definition:***</span> \n",
    "Bei einem *Zufallsstichprobenverfahren* hat jede verfügbare Einheit der Grundgesamtheit bei jeder Ziehung *die gleiche Chance*, in die Stichprobe aufgenommen zu werden. Die daraus resultierende Stichprobe wird als **einfache Zufallsstichprobe** bezeichnet. \n",
    "\n",
    "Die Stichprobenziehung kann\n",
    "- **mit Zurücklegen** erfolgen, die Einheiten werden nach jeder Ziehung wieder in die Grundgesamtheit aufgenommen, damit sie in Zukunft erneut ausgewählt werden können.\n",
    "- **ohne Zurücklegen** erfolgen, die Einheiten werden nach jeder Ziehung nicht wieder in die Grundgesamtheit aufgenommen, damit stehen die einmal ausgewählten Einheiten für künftige Ziehungen nicht mehr zur Verfügung.\n",
    "<br>\n",
    "\n",
    "Bei der Erstellung einer Schätzung oder eines Modells auf der Grundlage einer Stichprobe ist die **Datenqualität** oft wichtiger als die Datenmenge. Die Datenqualität in den Datenwissenschaften umfasst \n",
    "- Vollständigkeit,\n",
    "- Konsistenz des Formats,\n",
    "- Sauberkeit und Genauigkeit der einzelnen Datenpunkte.\n",
    "\n",
    "In der Statistik sagen wir, dass eine Stichprobe **repräsentativ** sein muss.\n",
    "\n",
    "#### <span style=\"color:rgb(160,0,86)\">Beispiele:</span>\n",
    "Ein klassisches Beispiel für eine nicht repräsentative Umfrage ist die *Literary-Digest-Umfrage* von 1936 in den USA, die den Sieg von Al Landon gegen Franklin Roosevelt vorhersagte. Die *Literary-Digest*, eine führende Zeitschrift der damaligen Zeit, befragte seinen gesamten Abonnentenstamm sowie weitere Einzelpersonen, insgesamt über 10 Millionen, und sagte einen Erdrutschsieg für Landon voraus. \n",
    "\n",
    "George Gallup, der Begründer der *Gallup-Umfrage*, führte alle zwei Wochen Umfragen unter nur 2000 Personen durch und sagte einen Sieg Roosevelts voraus. Der Unterschied lag in der Auswahl der befragten Personen.\n",
    "\n",
    "The *Literary-Digest* entschied sich für Quantität und schenkte der Methode der Auswahl wenig Beachtung. Sie befragten schliesslich Personen mit einem relativ hohen sozioökonomischen Status (ihre eigenen Abonnenten sowie diejenigen, die aufgrund des Besitzes von Luxusgütern wie Telefonen und Autos in den Listen der Vermarkter auftauchten). Das Ergebnis war eine **Verzerrung der Stichprobe**, das heisst die Stichprobe unterschied sich in einer bedeutenden, nicht zufälligen Weise von der grösseren Population, die sie repräsentieren sollte.\n",
    "\n",
    "Die Feststellung *nicht zufällig* ist wichtig, denn kaum eine Stichprobe, auch keine Zufallsstichprobe, kann die Grundgesamtheit exakt repräsentativ abbilden. \n",
    "\n",
    "Eine Verzerrung der Stichprobe liegt vor, wenn der Unterschied bedeutsam ist und davon ausgegangen werden kann, dass er auch bei anderen Stichproben, die auf die gleiche Weise wie die erste erhoben werden, bestehen bleibt.\n"
   ]
  },
  {
   "cell_type": "markdown",
   "id": "35a92623-750d-4970-b504-aa676033fc1a",
   "metadata": {},
   "source": [
    "***\n",
    "\n",
    "### <span style=\"color:rgb(160,0,86)\">Was ist eine Stichprobenverzerrung?</span>\n",
    "\n",
    "Die Bewertungen von Restaurants, Hotels, Cafés usw., die sie auf Social-Media-Websites lesen, sind anfällig für Verzerrungen, da die Personen, die sie abgeben, nicht zufällig ausgewählt werden, sondern selbst die Initiative zum Schreiben ergriffen haben. Dies führt zu einer **Verzerrung durch Selbstselektion**. Die Personen, die motiviert sind, Bewertungen zu schreiben, sind möglicherweise diejenigen, die schlechte Erfahrungen gemacht haben, die mit der Einrichtung in Verbindung stehen oder die einfach eine andere Art von Person sind als diejenigen, die keine Bewertungen schreiben. \n",
    "\n",
    "Beachten sie, dass Stichproben mit Selbstselektion zwar unzuverlässige Indikatoren für die tatsächliche Situation sein können, dass sie aber zuverlässig sein können, wenn man einfach einen Betrieb **mit einem ähnlichen vergleicht**, weil allenfalls derselbe Selbstselektionsbias für beide gelten."
   ]
  },
  {
   "cell_type": "markdown",
   "id": "64ad55a8-bb55-4f52-8d82-71a18f502697",
   "metadata": {},
   "source": [
    "<span style=\"color:rgb(160,0,86)\">***Definition:***</span> \n",
    "Eine statistische **Verzerrung** (Bias) bezieht sich auf systematische Mess- oder Stichprobenfehler, die durch das Mess- oder Stichprobenverfahren verursacht werden. Eine wichtige Unterscheidung sollte zwischen Fehlern aufgrund \n",
    "- **des Zufalls** und von\n",
    "- **Verzerrungen** getroffen werden.\n",
    "\n",
    "Betrachten wir den physikalischen Prozess eines Gewehrs, das auf ein Ziel schiesst. Es wird nicht jedes Mal der Mittelpunkt des Ziels getroffen. Auch bei einem unverzerrten Prozess gibt es Fehler, aber diese sind zufällig und tendieren nicht stark in eine Richtung. Ergebnisse zeigen eine Verzerrung, wenn es immer noch zufällige Fehler gibt, aber die Schüsse zum Beispiel dazu neigen, in einen anderen Quadranten zu fallen.\n",
    "\n",
    "<center>\n",
    "<img src=\"Bilder/Bias.png\" width=\"55%\" />\n",
    "</center>\n",
    "\n",
    "Verzerrungen treten in verschiedenen Formen auf und können **beobachtbar** oder **unsichtbar** sein. Wenn ein Ergebnis auf eine Verzerrung hindeutet (etwa bezüglich eines Referenzwertes oder tatsächliche Werte), ist dies häufig ein Indikator dafür, dass ein statistisches oder maschinelles Lernmodell falsch spezifiziert wurde oder ein wichtiges Merkmal nicht berücksichtigt wurde."
   ]
  },
  {
   "cell_type": "markdown",
   "id": "d19ede3c-720d-4ffc-8b60-2dc2745eac04",
   "metadata": {},
   "source": [
    "Um das Problem der Stichprobenverzerrung zu vermeiden, das den *Literary-Digest* dazu veranlasste, Landon gegenüber Roosevelt zu bevorzugen, entschied sich George Gallup für wissenschaftlichere Methoden, um eine für die amerikanische Wählerschaft repräsentative Stichprobe zu erhalten. Heute gibt es eine Vielzahl von Methoden, um **Repräsentativität** zu erreichen, aber das Herzstück all dieser Methoden ist die Zufallsstichprobe.\n",
    "\n",
    "Zufallsstichproben zu erhalten ist nicht immer einfach. Die richtige Definition einer zugänglichen Population ist entscheidend. \n",
    "\n",
    "#### <span style=\"color:rgb(160,0,86)\">Beispiele:</span>\n",
    "Nehmen wir an, wir wollen ein repräsentatives Profil von Kunden erstellen und müssen eine Pilotkundenbefragung durchführen. Die Umfrage muss repräsentativ sein, ist aber arbeitsintensiv. Zunächst müssen wir definieren, wer ein Kunde ist. Wir könnten alle Kundendatensätze auswählen, bei denen der Kaufbetrag grösser Null ist. Schliessen wir alle früheren Kunden ein? Schliessen wir Rückerstattungen ein? Interne Testkäufe? Wiederverkäufer? Sowohl Rechnungssteller als auch Kunde? Als nächstes müssen wir ein Stichprobenverfahren festlegen. Es könnte lauten: \n",
    "- *Wählen Sie 100 Kunden nach dem Zufallsprinzip aus*.\n",
    "\n",
    "Wenn es sich um eine Stichprobe aus einem Datenstrom handelt (etwa Kundentransaktionen in Echtzeit oder Web-Besucher), können zeitliche Erwägungen wichtig sein (zum Beispiel kann sich ein Web-Besucher um 10 Uhr morgens an einem Wochentag von einem Web-Besucher um 22 Uhr an einem Wochenende unterscheiden)."
   ]
  },
  {
   "cell_type": "markdown",
   "id": "5cbfbdfd-aea3-4bef-8a2d-e24df284c6a5",
   "metadata": {},
   "source": [
    "<span style=\"color:rgb(160,0,86)\">***Definition:***</span>\n",
    "Bei **geschichteten Stichproben** wird die Grundgesamtheit in Schichten eingeteilt, und aus jeder Schicht werden Zufallsstichproben gezogen. \n",
    "\n",
    "#### <span style=\"color:rgb(160,0,86)\">Beispiele:</span>\n",
    "Politische Meinungsforscher könnten versuchen, die Wahlpräferenzen von Weissen, Schwarzen und Hispanics zu ermitteln. Eine einfache Zufallsstichprobe aus der Grundgesamtheit würde zu wenige Schwarze und Hispanoamerikaner ergeben, so dass diese Schichten bei der geschichteten Stichprobenziehung übergewichtet werden müssten, um einen entsprechenden Stichprobenumfang zu gewährleisten."
   ]
  },
  {
   "cell_type": "markdown",
   "id": "d7761279-0f3f-4437-97c4-aa44cd53226a",
   "metadata": {},
   "source": [
    "***\n",
    "\n",
    "### <span style=\"color:rgb(160,0,86)\">Was ist der Unterschied zwischen Grösse und Qualität?</span>\n",
    "\n",
    "Wann kommt es auf die Grösse an? In der Ära der grossen Datenmengen ist es manchmal überraschend, dass kleiner besser ist. Die Zeit und der Aufwand, die für die Stichprobenziehung aufgewendet werden, verringern nicht nur Verzerrungen, sondern ermöglichen auch eine grössere Aufmerksamkeit für die  Datenqualität. So können beispielsweise fehlende Daten und Ausreisser nützliche Informationen enthalten. Das Aufspüren von fehlenden Werten oder die Auswertung von Ausreissern in Millionen von Datensätzen kann unerschwinglich teuer sein, aber bei einer Stichprobe von mehreren tausend Datensätzen ist dies durchaus machbar. \n",
    "\n",
    "Datenvisualisierung und manuelle Inspektion sind bei einer zu grossen Datenmenge nicht mehr möglich. Wann werden also grosse Datenmengen benötigt?\n",
    "Das klassische Szenario für den Wert von Big Data ist, wenn die Daten nicht nur massenhaft vorliegen, sondern auch dünn besetzt sind. Nehmen wir die von Google empfangenen Suchanfragen, bei denen die Spalten Begriffe sind, die Zeilen einzelne Suchanfragen und die Zellenwerte entweder 0 oder 1 sind, je nachdem, ob eine Anfrage einen Begriff enthält. Ziel ist es, das beste vorausgesagte Suchziel für eine bestimmte Anfrage zu ermitteln. Es gibt mehr als 150000 Wörter in der englischen Sprache, und Google verarbeitet über 1 Billion Suchanfragen pro Jahr. Daraus ergibt sich eine riesige Matrix, bei der die überwiegende Mehrheit der Einträge 0 ist.\n",
    "\n",
    "Dies ist ein echtes Big-Data-Problem - nur wenn enorme Datenmengen angehäuft werden, können für die meisten Abfragen effektive Suchergebnisse geliefert werden. Und je mehr Daten sich ansammeln, desto besser sind die Ergebnisse. Bei populären Suchbegriffen ist dies kein Problem - für die Handvoll extrem populärer Themen, die zu einem bestimmten Zeitpunkt im Trend liegen, lassen sich recht schnell effektive Daten finden. Der eigentliche Wert der modernen Suchtechnologie liegt in der Fähigkeit, detaillierte und nützliche Ergebnisse für eine Vielzahl von Suchanfragen zu liefern, auch für solche, die nur mit einer Häufigkeit von, sagen wir, eins zu einer Million auftreten.\n",
    "\n",
    "Nehmen wir die Suchanfrage *Ricky Ricardo* und *Rotkäppchen*. In den Anfängen des Internets hätte diese Suchanfrage wahrscheinlich Ergebnisse zu *Ricky Ricardo*, dem Bandleader, der Fernsehsendung *I Love Lucy*, in der er die Hauptrolle spielte, und dem Kindermärchen *Rotkäppchen* geliefert. Später, jetzt, wo Billionen von Suchanfragen gesammelt wurden, liefert diese Suchanfrage genau die *I Love Lucy*-Folge, in der Ricky seinem kleinen Sohn in einer komischen Mischung aus Englisch und Spanisch die Geschichte von Rotkäppchen erzählt.\n",
    "\n",
    "Denken wir daran, dass die Zahl der tatsächlich relevanten Datensätze - also derjenigen, in denen genau diese oder eine sehr ähnliche Suchanfrage vorkommt (zusammen mit Informationen darüber, welcher Link letztendlich angeklickt wurde) - nur in die Tausende gehen muss, um effektiv zu sein. Es werden jedoch viele Billionen Datenpunkte benötigt, um diese relevanten Datensätze zu erhalten (und eine Zufallsstichprobe ist natürlich nicht hilfreich)."
   ]
  },
  {
   "cell_type": "markdown",
   "id": "3bca8885-ba45-4bc9-8347-c34ebdfeb940",
   "metadata": {},
   "source": [
    "***\n",
    "\n",
    "### <span style=\"color:rgb(160,0,86)\">Was ist eine Aufwahlverzerrung?</span>\n",
    "\n",
    "Wenn man eine Behauptung aufstellt und ein gut konzipiertes Experiment durchführt, um sie zu testen, kann man sich auf die Schlussfolgerung verlassen. Das ist jedoch oft nicht der Fall. \n",
    "\n",
    "<span style=\"color:rgb(160,0,86)\">***Definition:***</span> \n",
    "Unter **Auswahlverzerrung** versteht man die bewusste oder unbewusste Auswahl von Daten in einer Weise, die zu einer irreführenden oder flüchtigen Schlussfolgerung führt.\n",
    "\n",
    "Häufig betrachtet man die verfügbaren Daten und versucht, Muster zu erkennen. Aber ist das Muster echt oder nur das Produkt von **Datenschnüffelei**, das heisst von ausgiebigem Durchforsten der Daten, bis etwas Interessantes zum Vorschein kommt? Es gibt ein Sprichwort unter Statistikern: *Wenn man die Daten lange genug quält, werden sie früher oder später gestehen.*\n",
    "\n",
    "\n",
    "Der Unterschied zwischen einem Phänomen, das man nachweisen kann, wenn man eine Behauptung mit Hilfe eines Experiments testet, und einem Phänomen, das man durch die Durchsicht der verfügbaren Daten entdeckt, lässt sich anhand des folgenden Gedankenexperiments verdeutlichen. \n",
    "\n",
    "#### <span style=\"color:rgb(160,0,86)\">Beispiele:</span>\n",
    "Stellen wir uns vor, jemand erzählt uns, dass sie eine Münze werfen kann, so dass sie bei den nächsten 10 Würfen Kopf zeigt. Wir fordern sie heraus! (Das enspricht einem statistischen Versuch) Sie wirft die Münze 10 Mal und alle Würfe landen auf Kopf. Offensichtlich schreiben wir ihr eine besondere Begabung zu - die Wahrscheinlichkeit, dass 10 Münzwürfe zufällig Kopf ergeben, liegt bei 1 zu 1000. \n",
    "\n",
    "Stellen wir uns nun vor, dass ein Stadionsprecher die 20000 Zuschauer auffordert, zehnmal eine Münze zu werfen und sich bei einem Platzanweiser zu melden, wenn sie zehnmal hintereinander Kopf bekommen. Die Wahrscheinlichkeit, dass jemand im Stadion 10 Mal Kopf erhält, ist extrem hoch (mehr als 99% - es ist 1 minus der Wahrscheinlichkeit, dass niemand 10 Mal Kopf erhält). Die nachträgliche Auswahl der Person (oder Personen), die im Stadion 10 Köpfe erhält, deutet also nicht auf ein besonderes Talent hin - es ist höchstwahrscheinlich Glück. \n",
    "\n",
    "Da die wiederholte Überprüfung grosser Datensätze ein zentraler Bestandteil in der Datenwissenschaft ist, muss man sich über Auswahlverzerrungen Gedanken machen. Eine für Datenwissenschaftler besonders besorgniserregende Form der Verzerrung ist das, was John Elder (Gründer von Elder Research, einem angesehenen Data-Mining-Beratungsunternehmen) den **vast search effect** nennt. Wenn man wiederholt verschiedene Modelle durchführt und verschiedene Fragen an einen grossen Datensatz stellt, wird man zwangsläufig etwas Interessantes finden. \n",
    "- Ist das Ergebnis, das wir gefunden haben, wirklich interessant, oder handelt es sich um einen zufälligen Ausreisser?\n",
    "\n",
    "Wir können uns dagegen schützen, indem wir einen oder mehrere **Holdout-Datensätze** verwenden (das heisst den ursprünglichen Datensatz in mehrere Teildatensätze aufteilen), mit denen wir die Leistung überprüfen können. Elder befürwortet auch die Verwendung des so genannten **Target Shuffling** (im Wesentlichen ein Permutationstest), um die Gültigkeit von prädiktiven Assoziationen zu testen, die ein Data-Mining-Modell vorschlägt. \n",
    "\n",
    "Zu den typischen Formen von Auswahlverzerrungen in der Statistik gehören neben dem vast search effect auch **nicht zufällige Stichproben**: \n",
    "- das Herausgreifen von Daten, die Auswahl von Zeitintervallen, die einen bestimmten statistischen Effekt verstärken,\n",
    "- und das Abbrechen eines Experiments, wenn die Ergebnisse *interessant* aussehen."
   ]
  },
  {
   "cell_type": "markdown",
   "id": "83b7fb11-187f-4e75-9044-d42567a0830e",
   "metadata": {},
   "source": [
    "***\n",
    "\n",
    "### <span style=\"color:rgb(160,0,86)\">Was ist eine Stichprobenverteilung?</span>\n",
    "\n",
    "Der Begriff **Stichprobenverteilung** einer Statistik bezieht sich auf die Verteilung einer **Stichprobenvariablen** (einer *Statistik*) über viele Stichproben, die aus der gleichen Grundgesamtheit gezogen wurden. Ein Grossteil der klassischen Statistik befasst sich damit, von kleinen Stichproben auf grosse Grundgesamtheiten zu schliessen.\n",
    "\n",
    "Normalerweise wird eine Stichprobe mit dem Ziel gezogen, etwas zu messen (mit einer Stichprobenvariablen) oder etwas zu modellieren (mit einem statistischen oder maschinellen Lernmodell). Da unsere Messung oder unser Modell auf einer Stichprobe beruht, kann sie fehlerhaft sein; **sie könnte anders ausfallen, wenn wir eine andere Stichprobe ziehen würden**. \n",
    "\n",
    "Wir sind daher daran interessiert, wie unterschiedlich Stichproben sein können - ein zentrales Anliegen ist die **Stichprobenvariabilität**. \n",
    "\n",
    "Hätten wir viele Daten, könnten wir zusätzliche Stichproben ziehen und die **Verteilung einer Stichprobenvariablen** direkt beobachten. In der Regel berechnen wir unsere Schätzung oder unser Modell anhand so vieler Daten wie verfügbar, so dass die Möglichkeit, zusätzliche Stichproben aus der Grundgesamtheit zu ziehen, nicht ohne weiteres gegeben ist.\n",
    "\n",
    "- Es ist wichtig, zwischen der Verteilung der einzelnen Datenpunkte, der so genannten **Datenverteilung**, und der Verteilung einer Stichprobenvariablen, der so genannten **Stichprobenverteilung**, zu unterscheiden!\n",
    "\n",
    "Die Verteilung einer Stichprobenvariablen, wie zum Beispiel des Mittelwerts, ist wahrscheinlich regelmässiger und glockenförmiger als die Verteilung der Daten selbst. Dies gilt umso mehr, je grösser die Stichprobe ist, auf der die Statistik beruht. \n",
    "\n",
    "Je grösser die Stichprobe ist, desto enger ist auch die Verteilung der Stichprobenstatistik. Dies wird in einem Beispiel anhand des **Jahreseinkommens** von Kreditantragstellern bei *Lending Club* veranschaulicht:\n"
   ]
  },
  {
   "cell_type": "markdown",
   "id": "f6bfec03-3244-4083-ac86-e471567b0313",
   "metadata": {},
   "source": [
    "### <span style=\"color:rgb(160,0,86)\">Aufgabe 3</span>\n",
    "\n",
    "Laden Sie die Datei *loans_income.csv* im Ordner Daten und nehmen Sie drei **Zufallsstichproben** aus diesen Daten: \n",
    "\n",
    "1) Stichprobe $\\pmb{A}$ von **1000 Werten**,\n",
    "2) eine Stichprobe $\\pmb{B}$ von **1000 Mittelwerten von 5 Werten** und\n",
    "3) eine Stichprobe $\\pmb{C}$ von **1000 Mittelwerten von 20 Werten**.\n",
    "\n",
    "Zeichnen Sie dann ein Dichtediagramm für jede Stichprobe. Was fällt auf? Zeichnen Sie eine **Normalverteilung** in das Dichtediagramm der Stichprobe $\\pmb{B}$ und $\\pmb{C}$, die möglichst gut zu den Stichprobevariablen passt. "
   ]
  },
  {
   "cell_type": "code",
   "id": "73dd09c2-3496-45a2-ac92-afefe38cac11",
   "metadata": {
    "ExecuteTime": {
     "end_time": "2025-03-17T10:02:11.736350Z",
     "start_time": "2025-03-17T10:02:10.013747Z"
    }
   },
   "source": [
    "import pandas as pd\n",
    "from pandas import read_csv\n",
    "\n",
    "data = read_csv(\"./Daten/loans_income.csv\")\n",
    "A = data.sample(1000)\n",
    "B = list()\n",
    "C = list()\n",
    "\n",
    "for _ in range(1000):\n",
    "    b = data.sample(5)[\"x\"]\n",
    "    B.append(sum(b) / len(b))\n",
    "\n",
    "for _ in range(1000):\n",
    "    c = data.sample(20)[\"x\"]\n",
    "    C.append(sum(c) / len(c))\n",
    "\n",
    "B = pd.DataFrame(B, columns=[\"y\"])\n",
    "C = pd.DataFrame(C, columns=[\"z\"])\n",
    "\n",
    "fig = plt.figure(figsize=(20,5))\n",
    "fig.add_subplot(1,3,1)\n",
    "sns.histplot(data=A,x=\"x\",bins=10,stat=\"density\")\n",
    "fig.add_subplot(1,3,2)\n",
    "sns.histplot(data=B,x=\"y\",bins=10,stat=\"density\")\n",
    "fig.add_subplot(1,3,3)\n",
    "sns.histplot(data=C,x=\"z\",bins=10,stat=\"density\")"
   ],
   "outputs": [
    {
     "data": {
      "text/plain": [
       "<Axes: xlabel='z', ylabel='Density'>"
      ]
     },
     "execution_count": 64,
     "metadata": {},
     "output_type": "execute_result"
    },
    {
     "data": {
      "text/plain": [
       "<Figure size 2000x500 with 3 Axes>"
      ],
      "image/png": "[encoded data removed]"
     },
     "metadata": {},
     "output_type": "display_data"
    }
   ],
   "execution_count": 64
  },
  {
   "cell_type": "markdown",
   "id": "afc58872-4e9b-44ca-97e9-2b7c5f4e62f7",
   "metadata": {},
   "source": "![HSLU](Bilder/LogoHSLU.png)"
  }
 ],
 "metadata": {
  "kernelspec": {
   "display_name": "Python 3 (ipykernel)",
   "language": "python",
   "name": "python3"
  },
  "language_info": {
   "codemirror_mode": {
    "name": "ipython",
    "version": 3
   },
   "file_extension": ".py",
   "mimetype": "text/x-python",
   "name": "python",
   "nbconvert_exporter": "python",
   "pygments_lexer": "ipython3",
   "version": "3.10.6"
  }
 },
 "nbformat": 4,
 "nbformat_minor": 5
}
